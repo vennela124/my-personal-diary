{
  "nbformat": 4,
  "nbformat_minor": 0,
  "metadata": {
    "colab": {
      "provenance": [],
      "authorship_tag": "ABX9TyPr2pbeXBVRCafwUnhYByCS",
      "include_colab_link": true
    },
    "kernelspec": {
      "name": "python3",
      "display_name": "Python 3"
    },
    "language_info": {
      "name": "python"
    }
  },
  "cells": [
    {
      "cell_type": "markdown",
      "metadata": {
        "id": "view-in-github",
        "colab_type": "text"
      },
      "source": [
        "<a href=\"https://colab.research.google.com/github/vennela124/my-personal-diary/blob/main/Untitled4.ipynb\" target=\"_parent\"><img src=\"https://colab.research.google.com/assets/colab-badge.svg\" alt=\"Open In Colab\"/></a>"
      ]
    },
    {
      "cell_type": "markdown",
      "source": [
        "## movie recommendation system\n"
      ],
      "metadata": {
        "id": "3P6EfBDXxVaD"
      }
    },
    {
      "cell_type": "code",
      "source": [
        "import pandas as pd"
      ],
      "metadata": {
        "id": "10oqCEEqx9lZ"
      },
      "execution_count": 3,
      "outputs": []
    },
    {
      "cell_type": "code",
      "source": [
        "import numpy as np"
      ],
      "metadata": {
        "id": "UOL-NrVxyCPn"
      },
      "execution_count": 4,
      "outputs": []
    },
    {
      "cell_type": "code",
      "source": [
        "df=pd.read_csv(\"https://github.com/YBI-Foundation/Dataset/raw/main/Movies%20Recommendation.csv\")"
      ],
      "metadata": {
        "id": "iezwU9G7ziPW"
      },
      "execution_count": 9,
      "outputs": []
    },
    {
      "cell_type": "code",
      "source": [
        "df.head()"
      ],
      "metadata": {
        "colab": {
          "base_uri": "https://localhost:8080/",
          "height": 672
        },
        "id": "6u9ALKjHygvx",
        "outputId": "b9978fb6-48fe-46da-a6d6-6e6feb93981b"
      },
      "execution_count": 10,
      "outputs": [
        {
          "output_type": "execute_result",
          "data": {
            "text/plain": [
              "   Movie_ID      Movie_Title                       Movie_Genre Movie_Language  \\\n",
              "0         1       Four Rooms                      Crime Comedy             en   \n",
              "1         2        Star Wars  Adventure Action Science Fiction             en   \n",
              "2         3     Finding Nemo                  Animation Family             en   \n",
              "3         4     Forrest Gump              Comedy Drama Romance             en   \n",
              "4         5  American Beauty                             Drama             en   \n",
              "\n",
              "   Movie_Budget  Movie_Popularity Movie_Release_Date  Movie_Revenue  \\\n",
              "0       4000000         22.876230         09-12-1995        4300000   \n",
              "1      11000000        126.393695         25-05-1977      775398007   \n",
              "2      94000000         85.688789         30-05-2003      940335536   \n",
              "3      55000000        138.133331         06-07-1994      677945399   \n",
              "4      15000000         80.878605         15-09-1999      356296601   \n",
              "\n",
              "   Movie_Runtime  Movie_Vote  ...  \\\n",
              "0           98.0         6.5  ...   \n",
              "1          121.0         8.1  ...   \n",
              "2          100.0         7.6  ...   \n",
              "3          142.0         8.2  ...   \n",
              "4          122.0         7.9  ...   \n",
              "\n",
              "                                      Movie_Homepage  \\\n",
              "0                                                NaN   \n",
              "1  http://www.starwars.com/films/star-wars-episod...   \n",
              "2              http://movies.disney.com/finding-nemo   \n",
              "3                                                NaN   \n",
              "4                      http://www.dreamworks.com/ab/   \n",
              "\n",
              "                                      Movie_Keywords  \\\n",
              "0          hotel new year's eve witch bet hotel room   \n",
              "1        android galaxy hermit death star lightsaber   \n",
              "2  father son relationship harbor underwater fish...   \n",
              "3  vietnam veteran hippie mentally disabled runni...   \n",
              "4  male nudity female nudity adultery midlife cri...   \n",
              "\n",
              "                                      Movie_Overview  \\\n",
              "0  It's Ted the Bellhop's first night on the job....   \n",
              "1  Princess Leia is captured and held hostage by ...   \n",
              "2  Nemo, an adventurous young clownfish, is unexp...   \n",
              "3  A man with a low IQ has accomplished great thi...   \n",
              "4  Lester Burnham, a depressed suburban father in...   \n",
              "\n",
              "                              Movie_Production_House  \\\n",
              "0  [{\"name\": \"Miramax Films\", \"id\": 14}, {\"name\":...   \n",
              "1  [{\"name\": \"Lucasfilm\", \"id\": 1}, {\"name\": \"Twe...   \n",
              "2     [{\"name\": \"Pixar Animation Studios\", \"id\": 3}]   \n",
              "3          [{\"name\": \"Paramount Pictures\", \"id\": 4}]   \n",
              "4  [{\"name\": \"DreamWorks SKG\", \"id\": 27}, {\"name\"...   \n",
              "\n",
              "                            Movie_Production_Country  \\\n",
              "0  [{\"iso_3166_1\": \"US\", \"name\": \"United States o...   \n",
              "1  [{\"iso_3166_1\": \"US\", \"name\": \"United States o...   \n",
              "2  [{\"iso_3166_1\": \"US\", \"name\": \"United States o...   \n",
              "3  [{\"iso_3166_1\": \"US\", \"name\": \"United States o...   \n",
              "4  [{\"iso_3166_1\": \"US\", \"name\": \"United States o...   \n",
              "\n",
              "                      Movie_Spoken_Language  \\\n",
              "0  [{\"iso_639_1\": \"en\", \"name\": \"English\"}]   \n",
              "1  [{\"iso_639_1\": \"en\", \"name\": \"English\"}]   \n",
              "2  [{\"iso_639_1\": \"en\", \"name\": \"English\"}]   \n",
              "3  [{\"iso_639_1\": \"en\", \"name\": \"English\"}]   \n",
              "4  [{\"iso_639_1\": \"en\", \"name\": \"English\"}]   \n",
              "\n",
              "                                       Movie_Tagline  \\\n",
              "0  Twelve outrageous guests. Four scandalous requ...   \n",
              "1       A long time ago in a galaxy far, far away...   \n",
              "2  There are 3.7 trillion fish in the ocean, they...   \n",
              "3  The world will never be the same, once you've ...   \n",
              "4                                       Look closer.   \n",
              "\n",
              "                                          Movie_Cast  \\\n",
              "0  Tim Roth Antonio Banderas Jennifer Beals Madon...   \n",
              "1  Mark Hamill Harrison Ford Carrie Fisher Peter ...   \n",
              "2  Albert Brooks Ellen DeGeneres Alexander Gould ...   \n",
              "3  Tom Hanks Robin Wright Gary Sinise Mykelti Wil...   \n",
              "4  Kevin Spacey Annette Bening Thora Birch Wes Be...   \n",
              "\n",
              "                                          Movie_Crew   Movie_Director  \n",
              "0  [{'name': 'Allison Anders', 'gender': 1, 'depa...   Allison Anders  \n",
              "1  [{'name': 'George Lucas', 'gender': 2, 'depart...     George Lucas  \n",
              "2  [{'name': 'Andrew Stanton', 'gender': 2, 'depa...   Andrew Stanton  \n",
              "3  [{'name': 'Alan Silvestri', 'gender': 2, 'depa...  Robert Zemeckis  \n",
              "4  [{'name': 'Thomas Newman', 'gender': 2, 'depar...       Sam Mendes  \n",
              "\n",
              "[5 rows x 21 columns]"
            ],
            "text/html": [
              "\n",
              "  <div id=\"df-a90a6185-13b9-47e3-bd21-4ab238dd8d40\" class=\"colab-df-container\">\n",
              "    <div>\n",
              "<style scoped>\n",
              "    .dataframe tbody tr th:only-of-type {\n",
              "        vertical-align: middle;\n",
              "    }\n",
              "\n",
              "    .dataframe tbody tr th {\n",
              "        vertical-align: top;\n",
              "    }\n",
              "\n",
              "    .dataframe thead th {\n",
              "        text-align: right;\n",
              "    }\n",
              "</style>\n",
              "<table border=\"1\" class=\"dataframe\">\n",
              "  <thead>\n",
              "    <tr style=\"text-align: right;\">\n",
              "      <th></th>\n",
              "      <th>Movie_ID</th>\n",
              "      <th>Movie_Title</th>\n",
              "      <th>Movie_Genre</th>\n",
              "      <th>Movie_Language</th>\n",
              "      <th>Movie_Budget</th>\n",
              "      <th>Movie_Popularity</th>\n",
              "      <th>Movie_Release_Date</th>\n",
              "      <th>Movie_Revenue</th>\n",
              "      <th>Movie_Runtime</th>\n",
              "      <th>Movie_Vote</th>\n",
              "      <th>...</th>\n",
              "      <th>Movie_Homepage</th>\n",
              "      <th>Movie_Keywords</th>\n",
              "      <th>Movie_Overview</th>\n",
              "      <th>Movie_Production_House</th>\n",
              "      <th>Movie_Production_Country</th>\n",
              "      <th>Movie_Spoken_Language</th>\n",
              "      <th>Movie_Tagline</th>\n",
              "      <th>Movie_Cast</th>\n",
              "      <th>Movie_Crew</th>\n",
              "      <th>Movie_Director</th>\n",
              "    </tr>\n",
              "  </thead>\n",
              "  <tbody>\n",
              "    <tr>\n",
              "      <th>0</th>\n",
              "      <td>1</td>\n",
              "      <td>Four Rooms</td>\n",
              "      <td>Crime Comedy</td>\n",
              "      <td>en</td>\n",
              "      <td>4000000</td>\n",
              "      <td>22.876230</td>\n",
              "      <td>09-12-1995</td>\n",
              "      <td>4300000</td>\n",
              "      <td>98.0</td>\n",
              "      <td>6.5</td>\n",
              "      <td>...</td>\n",
              "      <td>NaN</td>\n",
              "      <td>hotel new year's eve witch bet hotel room</td>\n",
              "      <td>It's Ted the Bellhop's first night on the job....</td>\n",
              "      <td>[{\"name\": \"Miramax Films\", \"id\": 14}, {\"name\":...</td>\n",
              "      <td>[{\"iso_3166_1\": \"US\", \"name\": \"United States o...</td>\n",
              "      <td>[{\"iso_639_1\": \"en\", \"name\": \"English\"}]</td>\n",
              "      <td>Twelve outrageous guests. Four scandalous requ...</td>\n",
              "      <td>Tim Roth Antonio Banderas Jennifer Beals Madon...</td>\n",
              "      <td>[{'name': 'Allison Anders', 'gender': 1, 'depa...</td>\n",
              "      <td>Allison Anders</td>\n",
              "    </tr>\n",
              "    <tr>\n",
              "      <th>1</th>\n",
              "      <td>2</td>\n",
              "      <td>Star Wars</td>\n",
              "      <td>Adventure Action Science Fiction</td>\n",
              "      <td>en</td>\n",
              "      <td>11000000</td>\n",
              "      <td>126.393695</td>\n",
              "      <td>25-05-1977</td>\n",
              "      <td>775398007</td>\n",
              "      <td>121.0</td>\n",
              "      <td>8.1</td>\n",
              "      <td>...</td>\n",
              "      <td>http://www.starwars.com/films/star-wars-episod...</td>\n",
              "      <td>android galaxy hermit death star lightsaber</td>\n",
              "      <td>Princess Leia is captured and held hostage by ...</td>\n",
              "      <td>[{\"name\": \"Lucasfilm\", \"id\": 1}, {\"name\": \"Twe...</td>\n",
              "      <td>[{\"iso_3166_1\": \"US\", \"name\": \"United States o...</td>\n",
              "      <td>[{\"iso_639_1\": \"en\", \"name\": \"English\"}]</td>\n",
              "      <td>A long time ago in a galaxy far, far away...</td>\n",
              "      <td>Mark Hamill Harrison Ford Carrie Fisher Peter ...</td>\n",
              "      <td>[{'name': 'George Lucas', 'gender': 2, 'depart...</td>\n",
              "      <td>George Lucas</td>\n",
              "    </tr>\n",
              "    <tr>\n",
              "      <th>2</th>\n",
              "      <td>3</td>\n",
              "      <td>Finding Nemo</td>\n",
              "      <td>Animation Family</td>\n",
              "      <td>en</td>\n",
              "      <td>94000000</td>\n",
              "      <td>85.688789</td>\n",
              "      <td>30-05-2003</td>\n",
              "      <td>940335536</td>\n",
              "      <td>100.0</td>\n",
              "      <td>7.6</td>\n",
              "      <td>...</td>\n",
              "      <td>http://movies.disney.com/finding-nemo</td>\n",
              "      <td>father son relationship harbor underwater fish...</td>\n",
              "      <td>Nemo, an adventurous young clownfish, is unexp...</td>\n",
              "      <td>[{\"name\": \"Pixar Animation Studios\", \"id\": 3}]</td>\n",
              "      <td>[{\"iso_3166_1\": \"US\", \"name\": \"United States o...</td>\n",
              "      <td>[{\"iso_639_1\": \"en\", \"name\": \"English\"}]</td>\n",
              "      <td>There are 3.7 trillion fish in the ocean, they...</td>\n",
              "      <td>Albert Brooks Ellen DeGeneres Alexander Gould ...</td>\n",
              "      <td>[{'name': 'Andrew Stanton', 'gender': 2, 'depa...</td>\n",
              "      <td>Andrew Stanton</td>\n",
              "    </tr>\n",
              "    <tr>\n",
              "      <th>3</th>\n",
              "      <td>4</td>\n",
              "      <td>Forrest Gump</td>\n",
              "      <td>Comedy Drama Romance</td>\n",
              "      <td>en</td>\n",
              "      <td>55000000</td>\n",
              "      <td>138.133331</td>\n",
              "      <td>06-07-1994</td>\n",
              "      <td>677945399</td>\n",
              "      <td>142.0</td>\n",
              "      <td>8.2</td>\n",
              "      <td>...</td>\n",
              "      <td>NaN</td>\n",
              "      <td>vietnam veteran hippie mentally disabled runni...</td>\n",
              "      <td>A man with a low IQ has accomplished great thi...</td>\n",
              "      <td>[{\"name\": \"Paramount Pictures\", \"id\": 4}]</td>\n",
              "      <td>[{\"iso_3166_1\": \"US\", \"name\": \"United States o...</td>\n",
              "      <td>[{\"iso_639_1\": \"en\", \"name\": \"English\"}]</td>\n",
              "      <td>The world will never be the same, once you've ...</td>\n",
              "      <td>Tom Hanks Robin Wright Gary Sinise Mykelti Wil...</td>\n",
              "      <td>[{'name': 'Alan Silvestri', 'gender': 2, 'depa...</td>\n",
              "      <td>Robert Zemeckis</td>\n",
              "    </tr>\n",
              "    <tr>\n",
              "      <th>4</th>\n",
              "      <td>5</td>\n",
              "      <td>American Beauty</td>\n",
              "      <td>Drama</td>\n",
              "      <td>en</td>\n",
              "      <td>15000000</td>\n",
              "      <td>80.878605</td>\n",
              "      <td>15-09-1999</td>\n",
              "      <td>356296601</td>\n",
              "      <td>122.0</td>\n",
              "      <td>7.9</td>\n",
              "      <td>...</td>\n",
              "      <td>http://www.dreamworks.com/ab/</td>\n",
              "      <td>male nudity female nudity adultery midlife cri...</td>\n",
              "      <td>Lester Burnham, a depressed suburban father in...</td>\n",
              "      <td>[{\"name\": \"DreamWorks SKG\", \"id\": 27}, {\"name\"...</td>\n",
              "      <td>[{\"iso_3166_1\": \"US\", \"name\": \"United States o...</td>\n",
              "      <td>[{\"iso_639_1\": \"en\", \"name\": \"English\"}]</td>\n",
              "      <td>Look closer.</td>\n",
              "      <td>Kevin Spacey Annette Bening Thora Birch Wes Be...</td>\n",
              "      <td>[{'name': 'Thomas Newman', 'gender': 2, 'depar...</td>\n",
              "      <td>Sam Mendes</td>\n",
              "    </tr>\n",
              "  </tbody>\n",
              "</table>\n",
              "<p>5 rows × 21 columns</p>\n",
              "</div>\n",
              "    <div class=\"colab-df-buttons\">\n",
              "\n",
              "  <div class=\"colab-df-container\">\n",
              "    <button class=\"colab-df-convert\" onclick=\"convertToInteractive('df-a90a6185-13b9-47e3-bd21-4ab238dd8d40')\"\n",
              "            title=\"Convert this dataframe to an interactive table.\"\n",
              "            style=\"display:none;\">\n",
              "\n",
              "  <svg xmlns=\"http://www.w3.org/2000/svg\" height=\"24px\" viewBox=\"0 -960 960 960\">\n",
              "    <path d=\"M120-120v-720h720v720H120Zm60-500h600v-160H180v160Zm220 220h160v-160H400v160Zm0 220h160v-160H400v160ZM180-400h160v-160H180v160Zm440 0h160v-160H620v160ZM180-180h160v-160H180v160Zm440 0h160v-160H620v160Z\"/>\n",
              "  </svg>\n",
              "    </button>\n",
              "\n",
              "  <style>\n",
              "    .colab-df-container {\n",
              "      display:flex;\n",
              "      gap: 12px;\n",
              "    }\n",
              "\n",
              "    .colab-df-convert {\n",
              "      background-color: #E8F0FE;\n",
              "      border: none;\n",
              "      border-radius: 50%;\n",
              "      cursor: pointer;\n",
              "      display: none;\n",
              "      fill: #1967D2;\n",
              "      height: 32px;\n",
              "      padding: 0 0 0 0;\n",
              "      width: 32px;\n",
              "    }\n",
              "\n",
              "    .colab-df-convert:hover {\n",
              "      background-color: #E2EBFA;\n",
              "      box-shadow: 0px 1px 2px rgba(60, 64, 67, 0.3), 0px 1px 3px 1px rgba(60, 64, 67, 0.15);\n",
              "      fill: #174EA6;\n",
              "    }\n",
              "\n",
              "    .colab-df-buttons div {\n",
              "      margin-bottom: 4px;\n",
              "    }\n",
              "\n",
              "    [theme=dark] .colab-df-convert {\n",
              "      background-color: #3B4455;\n",
              "      fill: #D2E3FC;\n",
              "    }\n",
              "\n",
              "    [theme=dark] .colab-df-convert:hover {\n",
              "      background-color: #434B5C;\n",
              "      box-shadow: 0px 1px 3px 1px rgba(0, 0, 0, 0.15);\n",
              "      filter: drop-shadow(0px 1px 2px rgba(0, 0, 0, 0.3));\n",
              "      fill: #FFFFFF;\n",
              "    }\n",
              "  </style>\n",
              "\n",
              "    <script>\n",
              "      const buttonEl =\n",
              "        document.querySelector('#df-a90a6185-13b9-47e3-bd21-4ab238dd8d40 button.colab-df-convert');\n",
              "      buttonEl.style.display =\n",
              "        google.colab.kernel.accessAllowed ? 'block' : 'none';\n",
              "\n",
              "      async function convertToInteractive(key) {\n",
              "        const element = document.querySelector('#df-a90a6185-13b9-47e3-bd21-4ab238dd8d40');\n",
              "        const dataTable =\n",
              "          await google.colab.kernel.invokeFunction('convertToInteractive',\n",
              "                                                    [key], {});\n",
              "        if (!dataTable) return;\n",
              "\n",
              "        const docLinkHtml = 'Like what you see? Visit the ' +\n",
              "          '<a target=\"_blank\" href=https://colab.research.google.com/notebooks/data_table.ipynb>data table notebook</a>'\n",
              "          + ' to learn more about interactive tables.';\n",
              "        element.innerHTML = '';\n",
              "        dataTable['output_type'] = 'display_data';\n",
              "        await google.colab.output.renderOutput(dataTable, element);\n",
              "        const docLink = document.createElement('div');\n",
              "        docLink.innerHTML = docLinkHtml;\n",
              "        element.appendChild(docLink);\n",
              "      }\n",
              "    </script>\n",
              "  </div>\n",
              "\n",
              "\n",
              "<div id=\"df-07123563-da4d-4b67-ad58-f618e37ab815\">\n",
              "  <button class=\"colab-df-quickchart\" onclick=\"quickchart('df-07123563-da4d-4b67-ad58-f618e37ab815')\"\n",
              "            title=\"Suggest charts\"\n",
              "            style=\"display:none;\">\n",
              "\n",
              "<svg xmlns=\"http://www.w3.org/2000/svg\" height=\"24px\"viewBox=\"0 0 24 24\"\n",
              "     width=\"24px\">\n",
              "    <g>\n",
              "        <path d=\"M19 3H5c-1.1 0-2 .9-2 2v14c0 1.1.9 2 2 2h14c1.1 0 2-.9 2-2V5c0-1.1-.9-2-2-2zM9 17H7v-7h2v7zm4 0h-2V7h2v10zm4 0h-2v-4h2v4z\"/>\n",
              "    </g>\n",
              "</svg>\n",
              "  </button>\n",
              "\n",
              "<style>\n",
              "  .colab-df-quickchart {\n",
              "      --bg-color: #E8F0FE;\n",
              "      --fill-color: #1967D2;\n",
              "      --hover-bg-color: #E2EBFA;\n",
              "      --hover-fill-color: #174EA6;\n",
              "      --disabled-fill-color: #AAA;\n",
              "      --disabled-bg-color: #DDD;\n",
              "  }\n",
              "\n",
              "  [theme=dark] .colab-df-quickchart {\n",
              "      --bg-color: #3B4455;\n",
              "      --fill-color: #D2E3FC;\n",
              "      --hover-bg-color: #434B5C;\n",
              "      --hover-fill-color: #FFFFFF;\n",
              "      --disabled-bg-color: #3B4455;\n",
              "      --disabled-fill-color: #666;\n",
              "  }\n",
              "\n",
              "  .colab-df-quickchart {\n",
              "    background-color: var(--bg-color);\n",
              "    border: none;\n",
              "    border-radius: 50%;\n",
              "    cursor: pointer;\n",
              "    display: none;\n",
              "    fill: var(--fill-color);\n",
              "    height: 32px;\n",
              "    padding: 0;\n",
              "    width: 32px;\n",
              "  }\n",
              "\n",
              "  .colab-df-quickchart:hover {\n",
              "    background-color: var(--hover-bg-color);\n",
              "    box-shadow: 0 1px 2px rgba(60, 64, 67, 0.3), 0 1px 3px 1px rgba(60, 64, 67, 0.15);\n",
              "    fill: var(--button-hover-fill-color);\n",
              "  }\n",
              "\n",
              "  .colab-df-quickchart-complete:disabled,\n",
              "  .colab-df-quickchart-complete:disabled:hover {\n",
              "    background-color: var(--disabled-bg-color);\n",
              "    fill: var(--disabled-fill-color);\n",
              "    box-shadow: none;\n",
              "  }\n",
              "\n",
              "  .colab-df-spinner {\n",
              "    border: 2px solid var(--fill-color);\n",
              "    border-color: transparent;\n",
              "    border-bottom-color: var(--fill-color);\n",
              "    animation:\n",
              "      spin 1s steps(1) infinite;\n",
              "  }\n",
              "\n",
              "  @keyframes spin {\n",
              "    0% {\n",
              "      border-color: transparent;\n",
              "      border-bottom-color: var(--fill-color);\n",
              "      border-left-color: var(--fill-color);\n",
              "    }\n",
              "    20% {\n",
              "      border-color: transparent;\n",
              "      border-left-color: var(--fill-color);\n",
              "      border-top-color: var(--fill-color);\n",
              "    }\n",
              "    30% {\n",
              "      border-color: transparent;\n",
              "      border-left-color: var(--fill-color);\n",
              "      border-top-color: var(--fill-color);\n",
              "      border-right-color: var(--fill-color);\n",
              "    }\n",
              "    40% {\n",
              "      border-color: transparent;\n",
              "      border-right-color: var(--fill-color);\n",
              "      border-top-color: var(--fill-color);\n",
              "    }\n",
              "    60% {\n",
              "      border-color: transparent;\n",
              "      border-right-color: var(--fill-color);\n",
              "    }\n",
              "    80% {\n",
              "      border-color: transparent;\n",
              "      border-right-color: var(--fill-color);\n",
              "      border-bottom-color: var(--fill-color);\n",
              "    }\n",
              "    90% {\n",
              "      border-color: transparent;\n",
              "      border-bottom-color: var(--fill-color);\n",
              "    }\n",
              "  }\n",
              "</style>\n",
              "\n",
              "  <script>\n",
              "    async function quickchart(key) {\n",
              "      const quickchartButtonEl =\n",
              "        document.querySelector('#' + key + ' button');\n",
              "      quickchartButtonEl.disabled = true;  // To prevent multiple clicks.\n",
              "      quickchartButtonEl.classList.add('colab-df-spinner');\n",
              "      try {\n",
              "        const charts = await google.colab.kernel.invokeFunction(\n",
              "            'suggestCharts', [key], {});\n",
              "      } catch (error) {\n",
              "        console.error('Error during call to suggestCharts:', error);\n",
              "      }\n",
              "      quickchartButtonEl.classList.remove('colab-df-spinner');\n",
              "      quickchartButtonEl.classList.add('colab-df-quickchart-complete');\n",
              "    }\n",
              "    (() => {\n",
              "      let quickchartButtonEl =\n",
              "        document.querySelector('#df-07123563-da4d-4b67-ad58-f618e37ab815 button');\n",
              "      quickchartButtonEl.style.display =\n",
              "        google.colab.kernel.accessAllowed ? 'block' : 'none';\n",
              "    })();\n",
              "  </script>\n",
              "</div>\n",
              "\n",
              "    </div>\n",
              "  </div>\n"
            ],
            "application/vnd.google.colaboratory.intrinsic+json": {
              "type": "dataframe",
              "variable_name": "df"
            }
          },
          "metadata": {},
          "execution_count": 10
        }
      ]
    },
    {
      "cell_type": "code",
      "source": [
        "df.info()"
      ],
      "metadata": {
        "colab": {
          "base_uri": "https://localhost:8080/"
        },
        "id": "KEOA3rc025n4",
        "outputId": "f344be3b-b131-4fa1-eeb3-5587d7b0af93"
      },
      "execution_count": 11,
      "outputs": [
        {
          "output_type": "stream",
          "name": "stdout",
          "text": [
            "<class 'pandas.core.frame.DataFrame'>\n",
            "RangeIndex: 4760 entries, 0 to 4759\n",
            "Data columns (total 21 columns):\n",
            " #   Column                    Non-Null Count  Dtype  \n",
            "---  ------                    --------------  -----  \n",
            " 0   Movie_ID                  4760 non-null   int64  \n",
            " 1   Movie_Title               4760 non-null   object \n",
            " 2   Movie_Genre               4760 non-null   object \n",
            " 3   Movie_Language            4760 non-null   object \n",
            " 4   Movie_Budget              4760 non-null   int64  \n",
            " 5   Movie_Popularity          4760 non-null   float64\n",
            " 6   Movie_Release_Date        4760 non-null   object \n",
            " 7   Movie_Revenue             4760 non-null   int64  \n",
            " 8   Movie_Runtime             4758 non-null   float64\n",
            " 9   Movie_Vote                4760 non-null   float64\n",
            " 10  Movie_Vote_Count          4760 non-null   int64  \n",
            " 11  Movie_Homepage            1699 non-null   object \n",
            " 12  Movie_Keywords            4373 non-null   object \n",
            " 13  Movie_Overview            4757 non-null   object \n",
            " 14  Movie_Production_House    4760 non-null   object \n",
            " 15  Movie_Production_Country  4760 non-null   object \n",
            " 16  Movie_Spoken_Language     4760 non-null   object \n",
            " 17  Movie_Tagline             3942 non-null   object \n",
            " 18  Movie_Cast                4733 non-null   object \n",
            " 19  Movie_Crew                4760 non-null   object \n",
            " 20  Movie_Director            4738 non-null   object \n",
            "dtypes: float64(3), int64(4), object(14)\n",
            "memory usage: 781.1+ KB\n"
          ]
        }
      ]
    },
    {
      "cell_type": "code",
      "source": [
        "df.describe()"
      ],
      "metadata": {
        "colab": {
          "base_uri": "https://localhost:8080/",
          "height": 300
        },
        "id": "ksc-RRY43MfF",
        "outputId": "de550c66-9936-40ea-cbcc-546f3b945e3c"
      },
      "execution_count": 12,
      "outputs": [
        {
          "output_type": "execute_result",
          "data": {
            "text/plain": [
              "          Movie_ID  Movie_Budget  Movie_Popularity  Movie_Revenue  \\\n",
              "count  4760.000000  4.760000e+03       4760.000000   4.760000e+03   \n",
              "mean   2382.566387  2.920129e+07         21.599510   8.263743e+07   \n",
              "std    1377.270159  4.075620e+07         31.887919   1.630554e+08   \n",
              "min       1.000000  0.000000e+00          0.000372   0.000000e+00   \n",
              "25%    1190.750000  9.257500e+05          4.807074   0.000000e+00   \n",
              "50%    2380.500000  1.500000e+07         13.119058   1.944716e+07   \n",
              "75%    3572.250000  4.000000e+07         28.411929   9.341276e+07   \n",
              "max    4788.000000  3.800000e+08        875.581305   2.787965e+09   \n",
              "\n",
              "       Movie_Runtime   Movie_Vote  Movie_Vote_Count  \n",
              "count    4758.000000  4760.000000       4760.000000  \n",
              "mean      107.184111     6.113866        692.508403  \n",
              "std        21.960332     1.141294       1235.007337  \n",
              "min         0.000000     0.000000          0.000000  \n",
              "25%        94.000000     5.600000         55.000000  \n",
              "50%       104.000000     6.200000        238.000000  \n",
              "75%       118.000000     6.800000        740.250000  \n",
              "max       338.000000    10.000000      13752.000000  "
            ],
            "text/html": [
              "\n",
              "  <div id=\"df-38fa1ce9-e3b5-4dbd-8124-d5de1e7e8208\" class=\"colab-df-container\">\n",
              "    <div>\n",
              "<style scoped>\n",
              "    .dataframe tbody tr th:only-of-type {\n",
              "        vertical-align: middle;\n",
              "    }\n",
              "\n",
              "    .dataframe tbody tr th {\n",
              "        vertical-align: top;\n",
              "    }\n",
              "\n",
              "    .dataframe thead th {\n",
              "        text-align: right;\n",
              "    }\n",
              "</style>\n",
              "<table border=\"1\" class=\"dataframe\">\n",
              "  <thead>\n",
              "    <tr style=\"text-align: right;\">\n",
              "      <th></th>\n",
              "      <th>Movie_ID</th>\n",
              "      <th>Movie_Budget</th>\n",
              "      <th>Movie_Popularity</th>\n",
              "      <th>Movie_Revenue</th>\n",
              "      <th>Movie_Runtime</th>\n",
              "      <th>Movie_Vote</th>\n",
              "      <th>Movie_Vote_Count</th>\n",
              "    </tr>\n",
              "  </thead>\n",
              "  <tbody>\n",
              "    <tr>\n",
              "      <th>count</th>\n",
              "      <td>4760.000000</td>\n",
              "      <td>4.760000e+03</td>\n",
              "      <td>4760.000000</td>\n",
              "      <td>4.760000e+03</td>\n",
              "      <td>4758.000000</td>\n",
              "      <td>4760.000000</td>\n",
              "      <td>4760.000000</td>\n",
              "    </tr>\n",
              "    <tr>\n",
              "      <th>mean</th>\n",
              "      <td>2382.566387</td>\n",
              "      <td>2.920129e+07</td>\n",
              "      <td>21.599510</td>\n",
              "      <td>8.263743e+07</td>\n",
              "      <td>107.184111</td>\n",
              "      <td>6.113866</td>\n",
              "      <td>692.508403</td>\n",
              "    </tr>\n",
              "    <tr>\n",
              "      <th>std</th>\n",
              "      <td>1377.270159</td>\n",
              "      <td>4.075620e+07</td>\n",
              "      <td>31.887919</td>\n",
              "      <td>1.630554e+08</td>\n",
              "      <td>21.960332</td>\n",
              "      <td>1.141294</td>\n",
              "      <td>1235.007337</td>\n",
              "    </tr>\n",
              "    <tr>\n",
              "      <th>min</th>\n",
              "      <td>1.000000</td>\n",
              "      <td>0.000000e+00</td>\n",
              "      <td>0.000372</td>\n",
              "      <td>0.000000e+00</td>\n",
              "      <td>0.000000</td>\n",
              "      <td>0.000000</td>\n",
              "      <td>0.000000</td>\n",
              "    </tr>\n",
              "    <tr>\n",
              "      <th>25%</th>\n",
              "      <td>1190.750000</td>\n",
              "      <td>9.257500e+05</td>\n",
              "      <td>4.807074</td>\n",
              "      <td>0.000000e+00</td>\n",
              "      <td>94.000000</td>\n",
              "      <td>5.600000</td>\n",
              "      <td>55.000000</td>\n",
              "    </tr>\n",
              "    <tr>\n",
              "      <th>50%</th>\n",
              "      <td>2380.500000</td>\n",
              "      <td>1.500000e+07</td>\n",
              "      <td>13.119058</td>\n",
              "      <td>1.944716e+07</td>\n",
              "      <td>104.000000</td>\n",
              "      <td>6.200000</td>\n",
              "      <td>238.000000</td>\n",
              "    </tr>\n",
              "    <tr>\n",
              "      <th>75%</th>\n",
              "      <td>3572.250000</td>\n",
              "      <td>4.000000e+07</td>\n",
              "      <td>28.411929</td>\n",
              "      <td>9.341276e+07</td>\n",
              "      <td>118.000000</td>\n",
              "      <td>6.800000</td>\n",
              "      <td>740.250000</td>\n",
              "    </tr>\n",
              "    <tr>\n",
              "      <th>max</th>\n",
              "      <td>4788.000000</td>\n",
              "      <td>3.800000e+08</td>\n",
              "      <td>875.581305</td>\n",
              "      <td>2.787965e+09</td>\n",
              "      <td>338.000000</td>\n",
              "      <td>10.000000</td>\n",
              "      <td>13752.000000</td>\n",
              "    </tr>\n",
              "  </tbody>\n",
              "</table>\n",
              "</div>\n",
              "    <div class=\"colab-df-buttons\">\n",
              "\n",
              "  <div class=\"colab-df-container\">\n",
              "    <button class=\"colab-df-convert\" onclick=\"convertToInteractive('df-38fa1ce9-e3b5-4dbd-8124-d5de1e7e8208')\"\n",
              "            title=\"Convert this dataframe to an interactive table.\"\n",
              "            style=\"display:none;\">\n",
              "\n",
              "  <svg xmlns=\"http://www.w3.org/2000/svg\" height=\"24px\" viewBox=\"0 -960 960 960\">\n",
              "    <path d=\"M120-120v-720h720v720H120Zm60-500h600v-160H180v160Zm220 220h160v-160H400v160Zm0 220h160v-160H400v160ZM180-400h160v-160H180v160Zm440 0h160v-160H620v160ZM180-180h160v-160H180v160Zm440 0h160v-160H620v160Z\"/>\n",
              "  </svg>\n",
              "    </button>\n",
              "\n",
              "  <style>\n",
              "    .colab-df-container {\n",
              "      display:flex;\n",
              "      gap: 12px;\n",
              "    }\n",
              "\n",
              "    .colab-df-convert {\n",
              "      background-color: #E8F0FE;\n",
              "      border: none;\n",
              "      border-radius: 50%;\n",
              "      cursor: pointer;\n",
              "      display: none;\n",
              "      fill: #1967D2;\n",
              "      height: 32px;\n",
              "      padding: 0 0 0 0;\n",
              "      width: 32px;\n",
              "    }\n",
              "\n",
              "    .colab-df-convert:hover {\n",
              "      background-color: #E2EBFA;\n",
              "      box-shadow: 0px 1px 2px rgba(60, 64, 67, 0.3), 0px 1px 3px 1px rgba(60, 64, 67, 0.15);\n",
              "      fill: #174EA6;\n",
              "    }\n",
              "\n",
              "    .colab-df-buttons div {\n",
              "      margin-bottom: 4px;\n",
              "    }\n",
              "\n",
              "    [theme=dark] .colab-df-convert {\n",
              "      background-color: #3B4455;\n",
              "      fill: #D2E3FC;\n",
              "    }\n",
              "\n",
              "    [theme=dark] .colab-df-convert:hover {\n",
              "      background-color: #434B5C;\n",
              "      box-shadow: 0px 1px 3px 1px rgba(0, 0, 0, 0.15);\n",
              "      filter: drop-shadow(0px 1px 2px rgba(0, 0, 0, 0.3));\n",
              "      fill: #FFFFFF;\n",
              "    }\n",
              "  </style>\n",
              "\n",
              "    <script>\n",
              "      const buttonEl =\n",
              "        document.querySelector('#df-38fa1ce9-e3b5-4dbd-8124-d5de1e7e8208 button.colab-df-convert');\n",
              "      buttonEl.style.display =\n",
              "        google.colab.kernel.accessAllowed ? 'block' : 'none';\n",
              "\n",
              "      async function convertToInteractive(key) {\n",
              "        const element = document.querySelector('#df-38fa1ce9-e3b5-4dbd-8124-d5de1e7e8208');\n",
              "        const dataTable =\n",
              "          await google.colab.kernel.invokeFunction('convertToInteractive',\n",
              "                                                    [key], {});\n",
              "        if (!dataTable) return;\n",
              "\n",
              "        const docLinkHtml = 'Like what you see? Visit the ' +\n",
              "          '<a target=\"_blank\" href=https://colab.research.google.com/notebooks/data_table.ipynb>data table notebook</a>'\n",
              "          + ' to learn more about interactive tables.';\n",
              "        element.innerHTML = '';\n",
              "        dataTable['output_type'] = 'display_data';\n",
              "        await google.colab.output.renderOutput(dataTable, element);\n",
              "        const docLink = document.createElement('div');\n",
              "        docLink.innerHTML = docLinkHtml;\n",
              "        element.appendChild(docLink);\n",
              "      }\n",
              "    </script>\n",
              "  </div>\n",
              "\n",
              "\n",
              "<div id=\"df-904d15af-844b-498a-ac0c-95dc5ca26a89\">\n",
              "  <button class=\"colab-df-quickchart\" onclick=\"quickchart('df-904d15af-844b-498a-ac0c-95dc5ca26a89')\"\n",
              "            title=\"Suggest charts\"\n",
              "            style=\"display:none;\">\n",
              "\n",
              "<svg xmlns=\"http://www.w3.org/2000/svg\" height=\"24px\"viewBox=\"0 0 24 24\"\n",
              "     width=\"24px\">\n",
              "    <g>\n",
              "        <path d=\"M19 3H5c-1.1 0-2 .9-2 2v14c0 1.1.9 2 2 2h14c1.1 0 2-.9 2-2V5c0-1.1-.9-2-2-2zM9 17H7v-7h2v7zm4 0h-2V7h2v10zm4 0h-2v-4h2v4z\"/>\n",
              "    </g>\n",
              "</svg>\n",
              "  </button>\n",
              "\n",
              "<style>\n",
              "  .colab-df-quickchart {\n",
              "      --bg-color: #E8F0FE;\n",
              "      --fill-color: #1967D2;\n",
              "      --hover-bg-color: #E2EBFA;\n",
              "      --hover-fill-color: #174EA6;\n",
              "      --disabled-fill-color: #AAA;\n",
              "      --disabled-bg-color: #DDD;\n",
              "  }\n",
              "\n",
              "  [theme=dark] .colab-df-quickchart {\n",
              "      --bg-color: #3B4455;\n",
              "      --fill-color: #D2E3FC;\n",
              "      --hover-bg-color: #434B5C;\n",
              "      --hover-fill-color: #FFFFFF;\n",
              "      --disabled-bg-color: #3B4455;\n",
              "      --disabled-fill-color: #666;\n",
              "  }\n",
              "\n",
              "  .colab-df-quickchart {\n",
              "    background-color: var(--bg-color);\n",
              "    border: none;\n",
              "    border-radius: 50%;\n",
              "    cursor: pointer;\n",
              "    display: none;\n",
              "    fill: var(--fill-color);\n",
              "    height: 32px;\n",
              "    padding: 0;\n",
              "    width: 32px;\n",
              "  }\n",
              "\n",
              "  .colab-df-quickchart:hover {\n",
              "    background-color: var(--hover-bg-color);\n",
              "    box-shadow: 0 1px 2px rgba(60, 64, 67, 0.3), 0 1px 3px 1px rgba(60, 64, 67, 0.15);\n",
              "    fill: var(--button-hover-fill-color);\n",
              "  }\n",
              "\n",
              "  .colab-df-quickchart-complete:disabled,\n",
              "  .colab-df-quickchart-complete:disabled:hover {\n",
              "    background-color: var(--disabled-bg-color);\n",
              "    fill: var(--disabled-fill-color);\n",
              "    box-shadow: none;\n",
              "  }\n",
              "\n",
              "  .colab-df-spinner {\n",
              "    border: 2px solid var(--fill-color);\n",
              "    border-color: transparent;\n",
              "    border-bottom-color: var(--fill-color);\n",
              "    animation:\n",
              "      spin 1s steps(1) infinite;\n",
              "  }\n",
              "\n",
              "  @keyframes spin {\n",
              "    0% {\n",
              "      border-color: transparent;\n",
              "      border-bottom-color: var(--fill-color);\n",
              "      border-left-color: var(--fill-color);\n",
              "    }\n",
              "    20% {\n",
              "      border-color: transparent;\n",
              "      border-left-color: var(--fill-color);\n",
              "      border-top-color: var(--fill-color);\n",
              "    }\n",
              "    30% {\n",
              "      border-color: transparent;\n",
              "      border-left-color: var(--fill-color);\n",
              "      border-top-color: var(--fill-color);\n",
              "      border-right-color: var(--fill-color);\n",
              "    }\n",
              "    40% {\n",
              "      border-color: transparent;\n",
              "      border-right-color: var(--fill-color);\n",
              "      border-top-color: var(--fill-color);\n",
              "    }\n",
              "    60% {\n",
              "      border-color: transparent;\n",
              "      border-right-color: var(--fill-color);\n",
              "    }\n",
              "    80% {\n",
              "      border-color: transparent;\n",
              "      border-right-color: var(--fill-color);\n",
              "      border-bottom-color: var(--fill-color);\n",
              "    }\n",
              "    90% {\n",
              "      border-color: transparent;\n",
              "      border-bottom-color: var(--fill-color);\n",
              "    }\n",
              "  }\n",
              "</style>\n",
              "\n",
              "  <script>\n",
              "    async function quickchart(key) {\n",
              "      const quickchartButtonEl =\n",
              "        document.querySelector('#' + key + ' button');\n",
              "      quickchartButtonEl.disabled = true;  // To prevent multiple clicks.\n",
              "      quickchartButtonEl.classList.add('colab-df-spinner');\n",
              "      try {\n",
              "        const charts = await google.colab.kernel.invokeFunction(\n",
              "            'suggestCharts', [key], {});\n",
              "      } catch (error) {\n",
              "        console.error('Error during call to suggestCharts:', error);\n",
              "      }\n",
              "      quickchartButtonEl.classList.remove('colab-df-spinner');\n",
              "      quickchartButtonEl.classList.add('colab-df-quickchart-complete');\n",
              "    }\n",
              "    (() => {\n",
              "      let quickchartButtonEl =\n",
              "        document.querySelector('#df-904d15af-844b-498a-ac0c-95dc5ca26a89 button');\n",
              "      quickchartButtonEl.style.display =\n",
              "        google.colab.kernel.accessAllowed ? 'block' : 'none';\n",
              "    })();\n",
              "  </script>\n",
              "</div>\n",
              "\n",
              "    </div>\n",
              "  </div>\n"
            ],
            "application/vnd.google.colaboratory.intrinsic+json": {
              "type": "dataframe",
              "summary": "{\n  \"name\": \"df\",\n  \"rows\": 8,\n  \"fields\": [\n    {\n      \"column\": \"Movie_ID\",\n      \"properties\": {\n        \"dtype\": \"number\",\n        \"std\": 1720.2332807214548,\n        \"min\": 1.0,\n        \"max\": 4788.0,\n        \"num_unique_values\": 8,\n        \"samples\": [\n          2382.5663865546217,\n          2380.5,\n          4760.0\n        ],\n        \"semantic_type\": \"\",\n        \"description\": \"\"\n      }\n    },\n    {\n      \"column\": \"Movie_Budget\",\n      \"properties\": {\n        \"dtype\": \"number\",\n        \"std\": 129145160.11869688,\n        \"min\": 0.0,\n        \"max\": 380000000.0,\n        \"num_unique_values\": 8,\n        \"samples\": [\n          29201287.084033612,\n          15000000.0,\n          4760.0\n        ],\n        \"semantic_type\": \"\",\n        \"description\": \"\"\n      }\n    },\n    {\n      \"column\": \"Movie_Popularity\",\n      \"properties\": {\n        \"dtype\": \"number\",\n        \"std\": 1661.1040447605237,\n        \"min\": 0.000372,\n        \"max\": 4760.0,\n        \"num_unique_values\": 8,\n        \"samples\": [\n          21.599509934663867,\n          13.119057999999999,\n          4760.0\n        ],\n        \"semantic_type\": \"\",\n        \"description\": \"\"\n      }\n    },\n    {\n      \"column\": \"Movie_Revenue\",\n      \"properties\": {\n        \"dtype\": \"number\",\n        \"std\": 969366059.9423022,\n        \"min\": 0.0,\n        \"max\": 2787965087.0,\n        \"num_unique_values\": 7,\n        \"samples\": [\n          4760.0,\n          82637425.44285715,\n          93412759.75\n        ],\n        \"semantic_type\": \"\",\n        \"description\": \"\"\n      }\n    },\n    {\n      \"column\": \"Movie_Runtime\",\n      \"properties\": {\n        \"dtype\": \"number\",\n        \"std\": 1645.7876738678387,\n        \"min\": 0.0,\n        \"max\": 4758.0,\n        \"num_unique_values\": 8,\n        \"samples\": [\n          107.18411097099622,\n          104.0,\n          4758.0\n        ],\n        \"semantic_type\": \"\",\n        \"description\": \"\"\n      }\n    },\n    {\n      \"column\": \"Movie_Vote\",\n      \"properties\": {\n        \"dtype\": \"number\",\n        \"std\": 1681.106199712945,\n        \"min\": 0.0,\n        \"max\": 4760.0,\n        \"num_unique_values\": 8,\n        \"samples\": [\n          6.113865546218487,\n          6.2,\n          4760.0\n        ],\n        \"semantic_type\": \"\",\n        \"description\": \"\"\n      }\n    },\n    {\n      \"column\": \"Movie_Vote_Count\",\n      \"properties\": {\n        \"dtype\": \"number\",\n        \"std\": 4732.148341860835,\n        \"min\": 0.0,\n        \"max\": 13752.0,\n        \"num_unique_values\": 8,\n        \"samples\": [\n          692.5084033613446,\n          238.0,\n          4760.0\n        ],\n        \"semantic_type\": \"\",\n        \"description\": \"\"\n      }\n    }\n  ]\n}"
            }
          },
          "metadata": {},
          "execution_count": 12
        }
      ]
    },
    {
      "cell_type": "code",
      "source": [
        "df.shape"
      ],
      "metadata": {
        "colab": {
          "base_uri": "https://localhost:8080/"
        },
        "id": "FxevVlgN3Q2M",
        "outputId": "410172c4-9c9e-4a04-f4d4-6de00ae0fdf6"
      },
      "execution_count": 14,
      "outputs": [
        {
          "output_type": "execute_result",
          "data": {
            "text/plain": [
              "(4760, 21)"
            ]
          },
          "metadata": {},
          "execution_count": 14
        }
      ]
    },
    {
      "cell_type": "code",
      "source": [
        "df.columns"
      ],
      "metadata": {
        "colab": {
          "base_uri": "https://localhost:8080/"
        },
        "id": "WA_ZFBG63afe",
        "outputId": "1faf796b-9978-47a2-d1ef-788b7967c2cf"
      },
      "execution_count": 15,
      "outputs": [
        {
          "output_type": "execute_result",
          "data": {
            "text/plain": [
              "Index(['Movie_ID', 'Movie_Title', 'Movie_Genre', 'Movie_Language',\n",
              "       'Movie_Budget', 'Movie_Popularity', 'Movie_Release_Date',\n",
              "       'Movie_Revenue', 'Movie_Runtime', 'Movie_Vote', 'Movie_Vote_Count',\n",
              "       'Movie_Homepage', 'Movie_Keywords', 'Movie_Overview',\n",
              "       'Movie_Production_House', 'Movie_Production_Country',\n",
              "       'Movie_Spoken_Language', 'Movie_Tagline', 'Movie_Cast', 'Movie_Crew',\n",
              "       'Movie_Director'],\n",
              "      dtype='object')"
            ]
          },
          "metadata": {},
          "execution_count": 15
        }
      ]
    },
    {
      "cell_type": "markdown",
      "source": [
        "## **get featured selection**"
      ],
      "metadata": {
        "id": "Sw1B4om43qb8"
      }
    },
    {
      "cell_type": "code",
      "source": [
        "df_features=df[['Movie_Genre','Movie_Keywords','Movie_Tagline','Movie_Cast','Movie_Director']].fillna('')"
      ],
      "metadata": {
        "id": "k-nE1psT3226"
      },
      "execution_count": 17,
      "outputs": []
    },
    {
      "cell_type": "code",
      "source": [
        "df_features.shape"
      ],
      "metadata": {
        "colab": {
          "base_uri": "https://localhost:8080/"
        },
        "id": "CcjZs80Q4VXz",
        "outputId": "d643773f-cbc1-4be7-ebad-4424c80ec647"
      },
      "execution_count": 18,
      "outputs": [
        {
          "output_type": "execute_result",
          "data": {
            "text/plain": [
              "(4760, 5)"
            ]
          },
          "metadata": {},
          "execution_count": 18
        }
      ]
    },
    {
      "cell_type": "code",
      "source": [
        "df_features"
      ],
      "metadata": {
        "colab": {
          "base_uri": "https://localhost:8080/",
          "height": 493
        },
        "id": "zJecgqCN4jMO",
        "outputId": "17b4377b-68a0-4cda-ff50-c8fe4723252f"
      },
      "execution_count": 19,
      "outputs": [
        {
          "output_type": "execute_result",
          "data": {
            "text/plain": [
              "                           Movie_Genre  \\\n",
              "0                         Crime Comedy   \n",
              "1     Adventure Action Science Fiction   \n",
              "2                     Animation Family   \n",
              "3                 Comedy Drama Romance   \n",
              "4                                Drama   \n",
              "...                                ...   \n",
              "4755                            Horror   \n",
              "4756               Comedy Family Drama   \n",
              "4757                    Thriller Drama   \n",
              "4758                            Family   \n",
              "4759                       Documentary   \n",
              "\n",
              "                                         Movie_Keywords  \\\n",
              "0             hotel new year's eve witch bet hotel room   \n",
              "1           android galaxy hermit death star lightsaber   \n",
              "2     father son relationship harbor underwater fish...   \n",
              "3     vietnam veteran hippie mentally disabled runni...   \n",
              "4     male nudity female nudity adultery midlife cri...   \n",
              "...                                                 ...   \n",
              "4755                                                      \n",
              "4756                                                      \n",
              "4757                     christian film sex trafficking   \n",
              "4758                                                      \n",
              "4759  music actors legendary perfomer classic hollyw...   \n",
              "\n",
              "                                          Movie_Tagline  \\\n",
              "0     Twelve outrageous guests. Four scandalous requ...   \n",
              "1          A long time ago in a galaxy far, far away...   \n",
              "2     There are 3.7 trillion fish in the ocean, they...   \n",
              "3     The world will never be the same, once you've ...   \n",
              "4                                          Look closer.   \n",
              "...                                                 ...   \n",
              "4755                The hot spot where Satan's waitin'.   \n",
              "4756           It’s better to stand out than to fit in.   \n",
              "4757           She never knew it could happen to her...   \n",
              "4758                                                      \n",
              "4759                                                      \n",
              "\n",
              "                                             Movie_Cast     Movie_Director  \n",
              "0     Tim Roth Antonio Banderas Jennifer Beals Madon...     Allison Anders  \n",
              "1     Mark Hamill Harrison Ford Carrie Fisher Peter ...       George Lucas  \n",
              "2     Albert Brooks Ellen DeGeneres Alexander Gould ...     Andrew Stanton  \n",
              "3     Tom Hanks Robin Wright Gary Sinise Mykelti Wil...    Robert Zemeckis  \n",
              "4     Kevin Spacey Annette Bening Thora Birch Wes Be...         Sam Mendes  \n",
              "...                                                 ...                ...  \n",
              "4755  Lisa Hart Carroll Michael Des Barres Paul Drak...         Pece Dingo  \n",
              "4756  Roni Akurati Brighton Sharbino Jason Lee Anjul...       Frank Lotito  \n",
              "4757  Nicole Smolen Kim Baldwin Ariana Stephens Brys...       Jaco Booyens  \n",
              "4758                                                                        \n",
              "4759                                    Tony Oppedisano  Simon Napier-Bell  \n",
              "\n",
              "[4760 rows x 5 columns]"
            ],
            "text/html": [
              "\n",
              "  <div id=\"df-4114bff6-0817-44d9-bac1-c83453d77c07\" class=\"colab-df-container\">\n",
              "    <div>\n",
              "<style scoped>\n",
              "    .dataframe tbody tr th:only-of-type {\n",
              "        vertical-align: middle;\n",
              "    }\n",
              "\n",
              "    .dataframe tbody tr th {\n",
              "        vertical-align: top;\n",
              "    }\n",
              "\n",
              "    .dataframe thead th {\n",
              "        text-align: right;\n",
              "    }\n",
              "</style>\n",
              "<table border=\"1\" class=\"dataframe\">\n",
              "  <thead>\n",
              "    <tr style=\"text-align: right;\">\n",
              "      <th></th>\n",
              "      <th>Movie_Genre</th>\n",
              "      <th>Movie_Keywords</th>\n",
              "      <th>Movie_Tagline</th>\n",
              "      <th>Movie_Cast</th>\n",
              "      <th>Movie_Director</th>\n",
              "    </tr>\n",
              "  </thead>\n",
              "  <tbody>\n",
              "    <tr>\n",
              "      <th>0</th>\n",
              "      <td>Crime Comedy</td>\n",
              "      <td>hotel new year's eve witch bet hotel room</td>\n",
              "      <td>Twelve outrageous guests. Four scandalous requ...</td>\n",
              "      <td>Tim Roth Antonio Banderas Jennifer Beals Madon...</td>\n",
              "      <td>Allison Anders</td>\n",
              "    </tr>\n",
              "    <tr>\n",
              "      <th>1</th>\n",
              "      <td>Adventure Action Science Fiction</td>\n",
              "      <td>android galaxy hermit death star lightsaber</td>\n",
              "      <td>A long time ago in a galaxy far, far away...</td>\n",
              "      <td>Mark Hamill Harrison Ford Carrie Fisher Peter ...</td>\n",
              "      <td>George Lucas</td>\n",
              "    </tr>\n",
              "    <tr>\n",
              "      <th>2</th>\n",
              "      <td>Animation Family</td>\n",
              "      <td>father son relationship harbor underwater fish...</td>\n",
              "      <td>There are 3.7 trillion fish in the ocean, they...</td>\n",
              "      <td>Albert Brooks Ellen DeGeneres Alexander Gould ...</td>\n",
              "      <td>Andrew Stanton</td>\n",
              "    </tr>\n",
              "    <tr>\n",
              "      <th>3</th>\n",
              "      <td>Comedy Drama Romance</td>\n",
              "      <td>vietnam veteran hippie mentally disabled runni...</td>\n",
              "      <td>The world will never be the same, once you've ...</td>\n",
              "      <td>Tom Hanks Robin Wright Gary Sinise Mykelti Wil...</td>\n",
              "      <td>Robert Zemeckis</td>\n",
              "    </tr>\n",
              "    <tr>\n",
              "      <th>4</th>\n",
              "      <td>Drama</td>\n",
              "      <td>male nudity female nudity adultery midlife cri...</td>\n",
              "      <td>Look closer.</td>\n",
              "      <td>Kevin Spacey Annette Bening Thora Birch Wes Be...</td>\n",
              "      <td>Sam Mendes</td>\n",
              "    </tr>\n",
              "    <tr>\n",
              "      <th>...</th>\n",
              "      <td>...</td>\n",
              "      <td>...</td>\n",
              "      <td>...</td>\n",
              "      <td>...</td>\n",
              "      <td>...</td>\n",
              "    </tr>\n",
              "    <tr>\n",
              "      <th>4755</th>\n",
              "      <td>Horror</td>\n",
              "      <td></td>\n",
              "      <td>The hot spot where Satan's waitin'.</td>\n",
              "      <td>Lisa Hart Carroll Michael Des Barres Paul Drak...</td>\n",
              "      <td>Pece Dingo</td>\n",
              "    </tr>\n",
              "    <tr>\n",
              "      <th>4756</th>\n",
              "      <td>Comedy Family Drama</td>\n",
              "      <td></td>\n",
              "      <td>It’s better to stand out than to fit in.</td>\n",
              "      <td>Roni Akurati Brighton Sharbino Jason Lee Anjul...</td>\n",
              "      <td>Frank Lotito</td>\n",
              "    </tr>\n",
              "    <tr>\n",
              "      <th>4757</th>\n",
              "      <td>Thriller Drama</td>\n",
              "      <td>christian film sex trafficking</td>\n",
              "      <td>She never knew it could happen to her...</td>\n",
              "      <td>Nicole Smolen Kim Baldwin Ariana Stephens Brys...</td>\n",
              "      <td>Jaco Booyens</td>\n",
              "    </tr>\n",
              "    <tr>\n",
              "      <th>4758</th>\n",
              "      <td>Family</td>\n",
              "      <td></td>\n",
              "      <td></td>\n",
              "      <td></td>\n",
              "      <td></td>\n",
              "    </tr>\n",
              "    <tr>\n",
              "      <th>4759</th>\n",
              "      <td>Documentary</td>\n",
              "      <td>music actors legendary perfomer classic hollyw...</td>\n",
              "      <td></td>\n",
              "      <td>Tony Oppedisano</td>\n",
              "      <td>Simon Napier-Bell</td>\n",
              "    </tr>\n",
              "  </tbody>\n",
              "</table>\n",
              "<p>4760 rows × 5 columns</p>\n",
              "</div>\n",
              "    <div class=\"colab-df-buttons\">\n",
              "\n",
              "  <div class=\"colab-df-container\">\n",
              "    <button class=\"colab-df-convert\" onclick=\"convertToInteractive('df-4114bff6-0817-44d9-bac1-c83453d77c07')\"\n",
              "            title=\"Convert this dataframe to an interactive table.\"\n",
              "            style=\"display:none;\">\n",
              "\n",
              "  <svg xmlns=\"http://www.w3.org/2000/svg\" height=\"24px\" viewBox=\"0 -960 960 960\">\n",
              "    <path d=\"M120-120v-720h720v720H120Zm60-500h600v-160H180v160Zm220 220h160v-160H400v160Zm0 220h160v-160H400v160ZM180-400h160v-160H180v160Zm440 0h160v-160H620v160ZM180-180h160v-160H180v160Zm440 0h160v-160H620v160Z\"/>\n",
              "  </svg>\n",
              "    </button>\n",
              "\n",
              "  <style>\n",
              "    .colab-df-container {\n",
              "      display:flex;\n",
              "      gap: 12px;\n",
              "    }\n",
              "\n",
              "    .colab-df-convert {\n",
              "      background-color: #E8F0FE;\n",
              "      border: none;\n",
              "      border-radius: 50%;\n",
              "      cursor: pointer;\n",
              "      display: none;\n",
              "      fill: #1967D2;\n",
              "      height: 32px;\n",
              "      padding: 0 0 0 0;\n",
              "      width: 32px;\n",
              "    }\n",
              "\n",
              "    .colab-df-convert:hover {\n",
              "      background-color: #E2EBFA;\n",
              "      box-shadow: 0px 1px 2px rgba(60, 64, 67, 0.3), 0px 1px 3px 1px rgba(60, 64, 67, 0.15);\n",
              "      fill: #174EA6;\n",
              "    }\n",
              "\n",
              "    .colab-df-buttons div {\n",
              "      margin-bottom: 4px;\n",
              "    }\n",
              "\n",
              "    [theme=dark] .colab-df-convert {\n",
              "      background-color: #3B4455;\n",
              "      fill: #D2E3FC;\n",
              "    }\n",
              "\n",
              "    [theme=dark] .colab-df-convert:hover {\n",
              "      background-color: #434B5C;\n",
              "      box-shadow: 0px 1px 3px 1px rgba(0, 0, 0, 0.15);\n",
              "      filter: drop-shadow(0px 1px 2px rgba(0, 0, 0, 0.3));\n",
              "      fill: #FFFFFF;\n",
              "    }\n",
              "  </style>\n",
              "\n",
              "    <script>\n",
              "      const buttonEl =\n",
              "        document.querySelector('#df-4114bff6-0817-44d9-bac1-c83453d77c07 button.colab-df-convert');\n",
              "      buttonEl.style.display =\n",
              "        google.colab.kernel.accessAllowed ? 'block' : 'none';\n",
              "\n",
              "      async function convertToInteractive(key) {\n",
              "        const element = document.querySelector('#df-4114bff6-0817-44d9-bac1-c83453d77c07');\n",
              "        const dataTable =\n",
              "          await google.colab.kernel.invokeFunction('convertToInteractive',\n",
              "                                                    [key], {});\n",
              "        if (!dataTable) return;\n",
              "\n",
              "        const docLinkHtml = 'Like what you see? Visit the ' +\n",
              "          '<a target=\"_blank\" href=https://colab.research.google.com/notebooks/data_table.ipynb>data table notebook</a>'\n",
              "          + ' to learn more about interactive tables.';\n",
              "        element.innerHTML = '';\n",
              "        dataTable['output_type'] = 'display_data';\n",
              "        await google.colab.output.renderOutput(dataTable, element);\n",
              "        const docLink = document.createElement('div');\n",
              "        docLink.innerHTML = docLinkHtml;\n",
              "        element.appendChild(docLink);\n",
              "      }\n",
              "    </script>\n",
              "  </div>\n",
              "\n",
              "\n",
              "<div id=\"df-79f9609d-5e4f-452a-ace8-db8537bcb9c1\">\n",
              "  <button class=\"colab-df-quickchart\" onclick=\"quickchart('df-79f9609d-5e4f-452a-ace8-db8537bcb9c1')\"\n",
              "            title=\"Suggest charts\"\n",
              "            style=\"display:none;\">\n",
              "\n",
              "<svg xmlns=\"http://www.w3.org/2000/svg\" height=\"24px\"viewBox=\"0 0 24 24\"\n",
              "     width=\"24px\">\n",
              "    <g>\n",
              "        <path d=\"M19 3H5c-1.1 0-2 .9-2 2v14c0 1.1.9 2 2 2h14c1.1 0 2-.9 2-2V5c0-1.1-.9-2-2-2zM9 17H7v-7h2v7zm4 0h-2V7h2v10zm4 0h-2v-4h2v4z\"/>\n",
              "    </g>\n",
              "</svg>\n",
              "  </button>\n",
              "\n",
              "<style>\n",
              "  .colab-df-quickchart {\n",
              "      --bg-color: #E8F0FE;\n",
              "      --fill-color: #1967D2;\n",
              "      --hover-bg-color: #E2EBFA;\n",
              "      --hover-fill-color: #174EA6;\n",
              "      --disabled-fill-color: #AAA;\n",
              "      --disabled-bg-color: #DDD;\n",
              "  }\n",
              "\n",
              "  [theme=dark] .colab-df-quickchart {\n",
              "      --bg-color: #3B4455;\n",
              "      --fill-color: #D2E3FC;\n",
              "      --hover-bg-color: #434B5C;\n",
              "      --hover-fill-color: #FFFFFF;\n",
              "      --disabled-bg-color: #3B4455;\n",
              "      --disabled-fill-color: #666;\n",
              "  }\n",
              "\n",
              "  .colab-df-quickchart {\n",
              "    background-color: var(--bg-color);\n",
              "    border: none;\n",
              "    border-radius: 50%;\n",
              "    cursor: pointer;\n",
              "    display: none;\n",
              "    fill: var(--fill-color);\n",
              "    height: 32px;\n",
              "    padding: 0;\n",
              "    width: 32px;\n",
              "  }\n",
              "\n",
              "  .colab-df-quickchart:hover {\n",
              "    background-color: var(--hover-bg-color);\n",
              "    box-shadow: 0 1px 2px rgba(60, 64, 67, 0.3), 0 1px 3px 1px rgba(60, 64, 67, 0.15);\n",
              "    fill: var(--button-hover-fill-color);\n",
              "  }\n",
              "\n",
              "  .colab-df-quickchart-complete:disabled,\n",
              "  .colab-df-quickchart-complete:disabled:hover {\n",
              "    background-color: var(--disabled-bg-color);\n",
              "    fill: var(--disabled-fill-color);\n",
              "    box-shadow: none;\n",
              "  }\n",
              "\n",
              "  .colab-df-spinner {\n",
              "    border: 2px solid var(--fill-color);\n",
              "    border-color: transparent;\n",
              "    border-bottom-color: var(--fill-color);\n",
              "    animation:\n",
              "      spin 1s steps(1) infinite;\n",
              "  }\n",
              "\n",
              "  @keyframes spin {\n",
              "    0% {\n",
              "      border-color: transparent;\n",
              "      border-bottom-color: var(--fill-color);\n",
              "      border-left-color: var(--fill-color);\n",
              "    }\n",
              "    20% {\n",
              "      border-color: transparent;\n",
              "      border-left-color: var(--fill-color);\n",
              "      border-top-color: var(--fill-color);\n",
              "    }\n",
              "    30% {\n",
              "      border-color: transparent;\n",
              "      border-left-color: var(--fill-color);\n",
              "      border-top-color: var(--fill-color);\n",
              "      border-right-color: var(--fill-color);\n",
              "    }\n",
              "    40% {\n",
              "      border-color: transparent;\n",
              "      border-right-color: var(--fill-color);\n",
              "      border-top-color: var(--fill-color);\n",
              "    }\n",
              "    60% {\n",
              "      border-color: transparent;\n",
              "      border-right-color: var(--fill-color);\n",
              "    }\n",
              "    80% {\n",
              "      border-color: transparent;\n",
              "      border-right-color: var(--fill-color);\n",
              "      border-bottom-color: var(--fill-color);\n",
              "    }\n",
              "    90% {\n",
              "      border-color: transparent;\n",
              "      border-bottom-color: var(--fill-color);\n",
              "    }\n",
              "  }\n",
              "</style>\n",
              "\n",
              "  <script>\n",
              "    async function quickchart(key) {\n",
              "      const quickchartButtonEl =\n",
              "        document.querySelector('#' + key + ' button');\n",
              "      quickchartButtonEl.disabled = true;  // To prevent multiple clicks.\n",
              "      quickchartButtonEl.classList.add('colab-df-spinner');\n",
              "      try {\n",
              "        const charts = await google.colab.kernel.invokeFunction(\n",
              "            'suggestCharts', [key], {});\n",
              "      } catch (error) {\n",
              "        console.error('Error during call to suggestCharts:', error);\n",
              "      }\n",
              "      quickchartButtonEl.classList.remove('colab-df-spinner');\n",
              "      quickchartButtonEl.classList.add('colab-df-quickchart-complete');\n",
              "    }\n",
              "    (() => {\n",
              "      let quickchartButtonEl =\n",
              "        document.querySelector('#df-79f9609d-5e4f-452a-ace8-db8537bcb9c1 button');\n",
              "      quickchartButtonEl.style.display =\n",
              "        google.colab.kernel.accessAllowed ? 'block' : 'none';\n",
              "    })();\n",
              "  </script>\n",
              "</div>\n",
              "\n",
              "  <div id=\"id_31ae508b-2519-4527-8acd-3d02ee0dac87\">\n",
              "    <style>\n",
              "      .colab-df-generate {\n",
              "        background-color: #E8F0FE;\n",
              "        border: none;\n",
              "        border-radius: 50%;\n",
              "        cursor: pointer;\n",
              "        display: none;\n",
              "        fill: #1967D2;\n",
              "        height: 32px;\n",
              "        padding: 0 0 0 0;\n",
              "        width: 32px;\n",
              "      }\n",
              "\n",
              "      .colab-df-generate:hover {\n",
              "        background-color: #E2EBFA;\n",
              "        box-shadow: 0px 1px 2px rgba(60, 64, 67, 0.3), 0px 1px 3px 1px rgba(60, 64, 67, 0.15);\n",
              "        fill: #174EA6;\n",
              "      }\n",
              "\n",
              "      [theme=dark] .colab-df-generate {\n",
              "        background-color: #3B4455;\n",
              "        fill: #D2E3FC;\n",
              "      }\n",
              "\n",
              "      [theme=dark] .colab-df-generate:hover {\n",
              "        background-color: #434B5C;\n",
              "        box-shadow: 0px 1px 3px 1px rgba(0, 0, 0, 0.15);\n",
              "        filter: drop-shadow(0px 1px 2px rgba(0, 0, 0, 0.3));\n",
              "        fill: #FFFFFF;\n",
              "      }\n",
              "    </style>\n",
              "    <button class=\"colab-df-generate\" onclick=\"generateWithVariable('df_features')\"\n",
              "            title=\"Generate code using this dataframe.\"\n",
              "            style=\"display:none;\">\n",
              "\n",
              "  <svg xmlns=\"http://www.w3.org/2000/svg\" height=\"24px\"viewBox=\"0 0 24 24\"\n",
              "       width=\"24px\">\n",
              "    <path d=\"M7,19H8.4L18.45,9,17,7.55,7,17.6ZM5,21V16.75L18.45,3.32a2,2,0,0,1,2.83,0l1.4,1.43a1.91,1.91,0,0,1,.58,1.4,1.91,1.91,0,0,1-.58,1.4L9.25,21ZM18.45,9,17,7.55Zm-12,3A5.31,5.31,0,0,0,4.9,8.1,5.31,5.31,0,0,0,1,6.5,5.31,5.31,0,0,0,4.9,4.9,5.31,5.31,0,0,0,6.5,1,5.31,5.31,0,0,0,8.1,4.9,5.31,5.31,0,0,0,12,6.5,5.46,5.46,0,0,0,6.5,12Z\"/>\n",
              "  </svg>\n",
              "    </button>\n",
              "    <script>\n",
              "      (() => {\n",
              "      const buttonEl =\n",
              "        document.querySelector('#id_31ae508b-2519-4527-8acd-3d02ee0dac87 button.colab-df-generate');\n",
              "      buttonEl.style.display =\n",
              "        google.colab.kernel.accessAllowed ? 'block' : 'none';\n",
              "\n",
              "      buttonEl.onclick = () => {\n",
              "        google.colab.notebook.generateWithVariable('df_features');\n",
              "      }\n",
              "      })();\n",
              "    </script>\n",
              "  </div>\n",
              "\n",
              "    </div>\n",
              "  </div>\n"
            ],
            "application/vnd.google.colaboratory.intrinsic+json": {
              "type": "dataframe",
              "variable_name": "df_features",
              "summary": "{\n  \"name\": \"df_features\",\n  \"rows\": 4760,\n  \"fields\": [\n    {\n      \"column\": \"Movie_Genre\",\n      \"properties\": {\n        \"dtype\": \"category\",\n        \"num_unique_values\": 1164,\n        \"samples\": [\n          \"Family Animation Adventure\",\n          \"Adventure Science Fiction Action\",\n          \"Action Crime Drama Romance Thriller\"\n        ],\n        \"semantic_type\": \"\",\n        \"description\": \"\"\n      }\n    },\n    {\n      \"column\": \"Movie_Keywords\",\n      \"properties\": {\n        \"dtype\": \"string\",\n        \"num_unique_values\": 4203,\n        \"samples\": [\n          \"canada nazis sequel spin off ancient evil\",\n          \"sex professor wedding woman director columbia university\",\n          \"prophecy sea beach gold small town\"\n        ],\n        \"semantic_type\": \"\",\n        \"description\": \"\"\n      }\n    },\n    {\n      \"column\": \"Movie_Tagline\",\n      \"properties\": {\n        \"dtype\": \"string\",\n        \"num_unique_values\": 3928,\n        \"samples\": [\n          \"The messenger must be silenced.\",\n          \"It's not the house that's haunted.\",\n          \"The final hunt begins.\"\n        ],\n        \"semantic_type\": \"\",\n        \"description\": \"\"\n      }\n    },\n    {\n      \"column\": \"Movie_Cast\",\n      \"properties\": {\n        \"dtype\": \"string\",\n        \"num_unique_values\": 4715,\n        \"samples\": [\n          \"Robin Tunney Fairuza Balk Neve Campbell Rachel True Skeet Ulrich\",\n          \"Peter Sellers Christopher Plummer Herbert Lom Catherine Schell Peter Arne\",\n          \"John Wayne Laraine Day Cedric Hardwicke Judith Anderson Anthony Quinn\"\n        ],\n        \"semantic_type\": \"\",\n        \"description\": \"\"\n      }\n    },\n    {\n      \"column\": \"Movie_Director\",\n      \"properties\": {\n        \"dtype\": \"category\",\n        \"num_unique_values\": 2332,\n        \"samples\": [\n          \"Rob McKittrick\",\n          \"Terron R. Parsons\",\n          \"Cyrus Nowrasteh\"\n        ],\n        \"semantic_type\": \"\",\n        \"description\": \"\"\n      }\n    }\n  ]\n}"
            }
          },
          "metadata": {},
          "execution_count": 19
        }
      ]
    },
    {
      "cell_type": "code",
      "source": [
        "x=df_features['Movie_Genre']+ ' '+df_features['Movie_Keywords']+ ' '+df_features['Movie_Tagline']+ ' '+df_features['Movie_Cast']+ ' '+df_features['Movie_Director']"
      ],
      "metadata": {
        "id": "syPJpVKH4nNK"
      },
      "execution_count": 21,
      "outputs": []
    },
    {
      "cell_type": "code",
      "source": [
        "x"
      ],
      "metadata": {
        "colab": {
          "base_uri": "https://localhost:8080/"
        },
        "id": "TeNv5CiD55vE",
        "outputId": "799fe5f9-b1e8-4a92-fae2-a37412b2b8f2"
      },
      "execution_count": 23,
      "outputs": [
        {
          "output_type": "execute_result",
          "data": {
            "text/plain": [
              "0       Crime Comedy hotel new year's eve witch bet ho...\n",
              "1       Adventure Action Science Fiction android galax...\n",
              "2       Animation Family father son relationship harbo...\n",
              "3       Comedy Drama Romance vietnam veteran hippie me...\n",
              "4       Drama male nudity female nudity adultery midli...\n",
              "                              ...                        \n",
              "4755    Horror  The hot spot where Satan's waitin'. Li...\n",
              "4756    Comedy Family Drama  It’s better to stand out ...\n",
              "4757    Thriller Drama christian film sex trafficking ...\n",
              "4758                                           Family    \n",
              "4759    Documentary music actors legendary perfomer cl...\n",
              "Length: 4760, dtype: object"
            ]
          },
          "metadata": {},
          "execution_count": 23
        }
      ]
    },
    {
      "cell_type": "code",
      "source": [
        "x.shape"
      ],
      "metadata": {
        "colab": {
          "base_uri": "https://localhost:8080/"
        },
        "id": "4r_cwq_A6OvA",
        "outputId": "be08add3-fe74-4272-8216-02371a1cdd1a"
      },
      "execution_count": 24,
      "outputs": [
        {
          "output_type": "execute_result",
          "data": {
            "text/plain": [
              "(4760,)"
            ]
          },
          "metadata": {},
          "execution_count": 24
        }
      ]
    },
    {
      "cell_type": "markdown",
      "source": [
        "# get feature text conversion to"
      ],
      "metadata": {
        "id": "BLyIsUWE6umv"
      }
    },
    {
      "cell_type": "code",
      "source": [
        "from sklearn.feature_extraction.text import TfidfVectorizer"
      ],
      "metadata": {
        "id": "RHcoWJxA7EJE"
      },
      "execution_count": 25,
      "outputs": []
    },
    {
      "cell_type": "code",
      "source": [
        "Tfid=TfidfVectorizer()"
      ],
      "metadata": {
        "id": "KNVG1bAl7aAd"
      },
      "execution_count": 26,
      "outputs": []
    },
    {
      "cell_type": "code",
      "source": [
        "x=Tfid.fit_transform(x)"
      ],
      "metadata": {
        "id": "5_bboSlV7hcS"
      },
      "execution_count": 31,
      "outputs": []
    },
    {
      "cell_type": "code",
      "source": [
        "x.shape"
      ],
      "metadata": {
        "colab": {
          "base_uri": "https://localhost:8080/"
        },
        "id": "BBOyWW8B7pn3",
        "outputId": "8832d4c5-6e2b-4560-c99c-608ce6943028"
      },
      "execution_count": 32,
      "outputs": [
        {
          "output_type": "execute_result",
          "data": {
            "text/plain": [
              "(4760, 17258)"
            ]
          },
          "metadata": {},
          "execution_count": 32
        }
      ]
    },
    {
      "cell_type": "code",
      "source": [
        "print(x)"
      ],
      "metadata": {
        "colab": {
          "base_uri": "https://localhost:8080/"
        },
        "id": "NJUSiayg78t7",
        "outputId": "54e08005-6650-4fab-af90-a81f2573adb6"
      },
      "execution_count": 33,
      "outputs": [
        {
          "output_type": "stream",
          "name": "stdout",
          "text": [
            "  (0, 617)\t0.1633382144407513\n",
            "  (0, 492)\t0.1432591540388685\n",
            "  (0, 15413)\t0.1465525095337543\n",
            "  (0, 9675)\t0.14226057295252661\n",
            "  (0, 9465)\t0.1659841367820977\n",
            "  (0, 1390)\t0.16898383612799558\n",
            "  (0, 7825)\t0.09799561597509843\n",
            "  (0, 1214)\t0.13865857545144072\n",
            "  (0, 729)\t0.13415063359531618\n",
            "  (0, 13093)\t0.1432591540388685\n",
            "  (0, 15355)\t0.10477815972666779\n",
            "  (0, 9048)\t0.0866842116160778\n",
            "  (0, 11161)\t0.06250380151644369\n",
            "  (0, 16773)\t0.17654247479915475\n",
            "  (0, 5612)\t0.08603537588547631\n",
            "  (0, 16735)\t0.10690083751525419\n",
            "  (0, 7904)\t0.13348000542112332\n",
            "  (0, 15219)\t0.09800472886453934\n",
            "  (0, 11242)\t0.07277788238484746\n",
            "  (0, 3878)\t0.11998399582562203\n",
            "  (0, 5499)\t0.11454057510303811\n",
            "  (0, 7071)\t0.19822417598406614\n",
            "  (0, 7454)\t0.14745635785412262\n",
            "  (0, 1495)\t0.19712637387361423\n",
            "  (0, 9206)\t0.15186283580984414\n",
            "  :\t:\n",
            "  (4757, 5455)\t0.12491480594769522\n",
            "  (4757, 2967)\t0.16273475835631626\n",
            "  (4757, 8464)\t0.23522565554066333\n",
            "  (4757, 6938)\t0.17088173678136628\n",
            "  (4757, 8379)\t0.17480603856721913\n",
            "  (4757, 15303)\t0.07654356007668191\n",
            "  (4757, 15384)\t0.09754322497537371\n",
            "  (4757, 7649)\t0.11479421494340192\n",
            "  (4757, 10896)\t0.14546473055066447\n",
            "  (4757, 4494)\t0.05675298448720501\n",
            "  (4758, 5238)\t1.0\n",
            "  (4759, 11264)\t0.33947721804318337\n",
            "  (4759, 11708)\t0.33947721804318337\n",
            "  (4759, 205)\t0.3237911628497312\n",
            "  (4759, 8902)\t0.3040290704566037\n",
            "  (4759, 14062)\t0.3237911628497312\n",
            "  (4759, 3058)\t0.2812896191863103\n",
            "  (4759, 7130)\t0.26419662449963793\n",
            "  (4759, 10761)\t0.3126617295732147\n",
            "  (4759, 4358)\t0.18306542312175342\n",
            "  (4759, 14051)\t0.20084315377640435\n",
            "  (4759, 5690)\t0.19534291014627303\n",
            "  (4759, 15431)\t0.19628653185946862\n",
            "  (4759, 1490)\t0.21197258705292082\n",
            "  (4759, 10666)\t0.15888268987343043\n"
          ]
        }
      ]
    },
    {
      "cell_type": "markdown",
      "source": [
        "# Get similarity score using cosine similarity"
      ],
      "metadata": {
        "id": "omqVYGiC8rCJ"
      }
    },
    {
      "cell_type": "code",
      "source": [
        "!pip install matplotlib-venn"
      ],
      "metadata": {
        "colab": {
          "base_uri": "https://localhost:8080/"
        },
        "id": "wsCc7H2782Ai",
        "outputId": "5e4e55a3-554e-4213-d005-810d4a0b65be"
      },
      "execution_count": 38,
      "outputs": [
        {
          "output_type": "stream",
          "name": "stdout",
          "text": [
            "Requirement already satisfied: matplotlib-venn in /usr/local/lib/python3.10/dist-packages (0.11.10)\n",
            "Requirement already satisfied: matplotlib in /usr/local/lib/python3.10/dist-packages (from matplotlib-venn) (3.7.1)\n",
            "Requirement already satisfied: numpy in /usr/local/lib/python3.10/dist-packages (from matplotlib-venn) (1.25.2)\n",
            "Requirement already satisfied: scipy in /usr/local/lib/python3.10/dist-packages (from matplotlib-venn) (1.11.4)\n",
            "Requirement already satisfied: contourpy>=1.0.1 in /usr/local/lib/python3.10/dist-packages (from matplotlib->matplotlib-venn) (1.2.1)\n",
            "Requirement already satisfied: cycler>=0.10 in /usr/local/lib/python3.10/dist-packages (from matplotlib->matplotlib-venn) (0.12.1)\n",
            "Requirement already satisfied: fonttools>=4.22.0 in /usr/local/lib/python3.10/dist-packages (from matplotlib->matplotlib-venn) (4.53.0)\n",
            "Requirement already satisfied: kiwisolver>=1.0.1 in /usr/local/lib/python3.10/dist-packages (from matplotlib->matplotlib-venn) (1.4.5)\n",
            "Requirement already satisfied: packaging>=20.0 in /usr/local/lib/python3.10/dist-packages (from matplotlib->matplotlib-venn) (24.1)\n",
            "Requirement already satisfied: pillow>=6.2.0 in /usr/local/lib/python3.10/dist-packages (from matplotlib->matplotlib-venn) (9.4.0)\n",
            "Requirement already satisfied: pyparsing>=2.3.1 in /usr/local/lib/python3.10/dist-packages (from matplotlib->matplotlib-venn) (3.1.2)\n",
            "Requirement already satisfied: python-dateutil>=2.7 in /usr/local/lib/python3.10/dist-packages (from matplotlib->matplotlib-venn) (2.8.2)\n",
            "Requirement already satisfied: six>=1.5 in /usr/local/lib/python3.10/dist-packages (from python-dateutil>=2.7->matplotlib->matplotlib-venn) (1.16.0)\n"
          ]
        }
      ]
    },
    {
      "cell_type": "code",
      "source": [
        "from sklearn.metrics.pairwise import cosine_similarity"
      ],
      "metadata": {
        "id": "MC9cPBnz8AU_"
      },
      "execution_count": 41,
      "outputs": []
    },
    {
      "cell_type": "code",
      "source": [
        "similarity_score=cosine_similarity(x)"
      ],
      "metadata": {
        "id": "m2q2SrOk9tml"
      },
      "execution_count": 44,
      "outputs": []
    },
    {
      "cell_type": "code",
      "source": [
        "similarity_score"
      ],
      "metadata": {
        "colab": {
          "base_uri": "https://localhost:8080/"
        },
        "id": "M1rVB_Ii-IUY",
        "outputId": "0178a870-b52a-43f4-8f25-4b1dc1c7e30d"
      },
      "execution_count": 45,
      "outputs": [
        {
          "output_type": "execute_result",
          "data": {
            "text/plain": [
              "array([[1.        , 0.01351235, 0.03570468, ..., 0.        , 0.        ,\n",
              "        0.        ],\n",
              "       [0.01351235, 1.        , 0.00806674, ..., 0.        , 0.        ,\n",
              "        0.        ],\n",
              "       [0.03570468, 0.00806674, 1.        , ..., 0.        , 0.08014876,\n",
              "        0.        ],\n",
              "       ...,\n",
              "       [0.        , 0.        , 0.        , ..., 1.        , 0.        ,\n",
              "        0.        ],\n",
              "       [0.        , 0.        , 0.08014876, ..., 0.        , 1.        ,\n",
              "        0.        ],\n",
              "       [0.        , 0.        , 0.        , ..., 0.        , 0.        ,\n",
              "        1.        ]])"
            ]
          },
          "metadata": {},
          "execution_count": 45
        }
      ]
    },
    {
      "cell_type": "code",
      "source": [
        "similarity_score.shape"
      ],
      "metadata": {
        "colab": {
          "base_uri": "https://localhost:8080/"
        },
        "id": "2_Qeksu0-W_x",
        "outputId": "76cf69d9-a785-4c5f-d973-2d28bf94b189"
      },
      "execution_count": 46,
      "outputs": [
        {
          "output_type": "execute_result",
          "data": {
            "text/plain": [
              "(4760, 4760)"
            ]
          },
          "metadata": {},
          "execution_count": 46
        }
      ]
    },
    {
      "cell_type": "markdown",
      "source": [
        "## **GET MOVIE NAME AS INPUT FROM USER AND VALIDATE FOR CLOSEST SELLING**"
      ],
      "metadata": {
        "id": "8TAVf6Ze-lFH"
      }
    },
    {
      "cell_type": "code",
      "source": [
        "FAVOURITE_MOVIE_NAME=input('enter your favourite movie name:')"
      ],
      "metadata": {
        "colab": {
          "base_uri": "https://localhost:8080/"
        },
        "id": "U97qp0C7-1Vj",
        "outputId": "83d48499-e640-48f7-f1ff-6e05f881c3cb"
      },
      "execution_count": 47,
      "outputs": [
        {
          "name": "stdout",
          "output_type": "stream",
          "text": [
            "enter your favourite movie name:four rooms\n"
          ]
        }
      ]
    },
    {
      "cell_type": "code",
      "source": [
        "all_movie_title_list=df['Movie_Title'].tolist()"
      ],
      "metadata": {
        "id": "yCjMvV_i-_NG"
      },
      "execution_count": 48,
      "outputs": []
    },
    {
      "cell_type": "code",
      "source": [
        "import difflib"
      ],
      "metadata": {
        "id": "hnPBvxlD_UIa"
      },
      "execution_count": 49,
      "outputs": []
    },
    {
      "cell_type": "code",
      "source": [
        "movie_recommendation=difflib.get_close_matches(FAVOURITE_MOVIE_NAME,all_movie_title_list)\n",
        "print(movie_recommendation)"
      ],
      "metadata": {
        "colab": {
          "base_uri": "https://localhost:8080/"
        },
        "id": "qxEitayD_b4W",
        "outputId": "9fbf24e8-4ab1-447f-993f-611b93f20d39"
      },
      "execution_count": 50,
      "outputs": [
        {
          "output_type": "stream",
          "name": "stdout",
          "text": [
            "['Four Rooms', 'Four Brothers', 'Four Lions']\n"
          ]
        }
      ]
    },
    {
      "cell_type": "code",
      "source": [
        "close_match=movie_recommendation[0]\n",
        "print(close_match)"
      ],
      "metadata": {
        "colab": {
          "base_uri": "https://localhost:8080/"
        },
        "id": "GGqEWcrf_hEe",
        "outputId": "5869fecd-4c5c-4b62-b2a0-af229a7f9a1f"
      },
      "execution_count": 51,
      "outputs": [
        {
          "output_type": "stream",
          "name": "stdout",
          "text": [
            "Four Rooms\n"
          ]
        }
      ]
    },
    {
      "cell_type": "code",
      "source": [
        "index_of_close_match_movie=df[df.Movie_Title==close_match]['Movie_ID'].values[0]\n",
        "print(index_of_close_match_movie)"
      ],
      "metadata": {
        "colab": {
          "base_uri": "https://localhost:8080/"
        },
        "id": "EpsVPn7G_mcs",
        "outputId": "7d199baa-e357-4dc6-8fda-4dbf017b6b85"
      },
      "execution_count": 53,
      "outputs": [
        {
          "output_type": "stream",
          "name": "stdout",
          "text": [
            "1\n"
          ]
        }
      ]
    },
    {
      "cell_type": "code",
      "source": [
        "#getting a list of similar movies"
      ],
      "metadata": {
        "id": "XmbPj6_A_0o4"
      },
      "execution_count": 54,
      "outputs": []
    },
    {
      "cell_type": "code",
      "source": [
        "recommendation_score=list(enumerate(similarity_score[index_of_close_match_movie]))\n",
        "print(recommendation_score)"
      ],
      "metadata": {
        "colab": {
          "base_uri": "https://localhost:8080/"
        },
        "id": "V1rZMjvV_6FJ",
        "outputId": "ec0ee39c-89ab-4dc4-cf9d-e3ef1735f96f"
      },
      "execution_count": 55,
      "outputs": [
        {
          "output_type": "stream",
          "name": "stdout",
          "text": [
            "[(0, 0.013512350503111599), (1, 1.0000000000000002), (2, 0.00806674385442584), (3, 0.0), (4, 0.0), (5, 0.014798802030248786), (6, 0.03178899800803084), (7, 0.012742928052710543), (8, 0.021146218130171354), (9, 0.010926115280892903), (10, 0.005426822818442424), (11, 0.04424915915259761), (12, 0.02761127168417841), (13, 0.0), (14, 0.0), (15, 0.031191842182459906), (16, 0.016229143054786177), (17, 0.01254198741210096), (18, 0.0), (19, 0.03007149396258626), (20, 0.0), (21, 0.0), (22, 0.017613273267175926), (23, 0.0), (24, 0.012717274689658453), (25, 0.0), (26, 0.0), (27, 0.025401499918563827), (28, 0.018010412302093128), (29, 0.0), (30, 0.049315355123976654), (31, 0.10409517262879507), (32, 0.010353903948323653), (33, 0.02839135367608064), (34, 0.0), (35, 0.08742546957845639), (36, 0.06791734480694782), (37, 0.07709332666079831), (38, 0.005819600682671033), (39, 0.02966698794890848), (40, 0.005712381468276702), (41, 0.013137730424575427), (42, 0.0), (43, 0.022172374911757498), (44, 0.004239033909104876), (45, 0.02320800959850554), (46, 0.02746116474293213), (47, 0.0), (48, 0.005611031053655782), (49, 0.0), (50, 0.0), (51, 0.0), (52, 0.0), (53, 0.006362577784296497), (54, 0.026974695116352154), (55, 0.027754212244279333), (56, 0.02704361947110613), (57, 0.005537629304700975), (58, 0.005630010350142351), (59, 0.030360910979738545), (60, 0.0), (61, 0.0807756373022934), (62, 0.0), (63, 0.00939668188462073), (64, 0.014857006500073006), (65, 0.0484219246535945), (66, 0.0), (67, 0.04280704472709425), (68, 0.005400721905399171), (69, 0.05183353554774124), (70, 0.029599955967523548), (71, 0.0), (72, 0.017128563913213716), (73, 0.02117056564609521), (74, 0.01886592513871108), (75, 0.05741627236122422), (76, 0.03833919395355127), (77, 0.013369274284471053), (78, 0.04532568822759644), (79, 0.03908598626594617), (80, 0.043254445463386415), (81, 0.0), (82, 0.0), (83, 0.0), (84, 0.02235454062898099), (85, 0.01699047107562925), (86, 0.00808517837862981), (87, 0.02533559254454756), (88, 0.011954254273697045), (89, 0.0), (90, 0.04793236562981211), (91, 0.0940800764306973), (92, 0.01275498236869839), (93, 0.028298576172286895), (94, 0.02713253246842703), (95, 0.030392490748873017), (96, 0.017402243566552157), (97, 0.015499078774547361), (98, 0.014447886148504679), (99, 0.0), (100, 0.0), (101, 0.0824052316641063), (102, 0.03521444866475031), (103, 0.0), (104, 0.017772892820888665), (105, 0.014633407383515444), (106, 0.019903656191963784), (107, 0.02003091661191726), (108, 0.011983838586383674), (109, 0.02577778734441308), (110, 0.018050358518529333), (111, 0.024018907365189166), (112, 0.024892578730839107), (113, 0.007730946890091348), (114, 0.0), (115, 0.04152565312038163), (116, 0.0), (117, 0.014531287844931313), (118, 0.012114596467736037), (119, 0.026059489235441324), (120, 0.0), (121, 0.008640575200487987), (122, 0.013351271858415049), (123, 0.00557144592489913), (124, 0.0), (125, 0.005829805318493613), (126, 0.015170022190436736), (127, 0.0), (128, 0.02532828682644944), (129, 0.0), (130, 0.016814378311266004), (131, 0.0), (132, 0.008334902621086665), (133, 0.0), (134, 0.0), (135, 0.022811596942385937), (136, 0.01798096592023614), (137, 0.01818336390602241), (138, 0.0), (139, 0.0057135255584554985), (140, 0.0), (141, 0.010326229094177165), (142, 0.01610981319872773), (143, 0.015204128569765957), (144, 0.0048393578022277155), (145, 0.0), (146, 0.015915660164447665), (147, 0.0), (148, 0.022290714835376865), (149, 0.0), (150, 0.03971302481482229), (151, 0.03052069059354419), (152, 0.05417960690471101), (153, 0.0534374315649344), (154, 0.0), (155, 0.007015377143378129), (156, 0.007637199563605071), (157, 0.0), (158, 0.01746591765314569), (159, 0.003985545567277271), (160, 0.06359160102915365), (161, 0.0), (162, 0.005593142339955403), (163, 0.0), (164, 0.0), (165, 0.010206569888795022), (166, 0.0), (167, 0.04670316760647068), (168, 0.007388737528587364), (169, 0.0), (170, 0.00461398779738674), (171, 0.028045825419986077), (172, 0.00943109559005515), (173, 0.0), (174, 0.014574147968186181), (175, 0.0), (176, 0.0), (177, 0.0), (178, 0.009889790246906215), (179, 0.0064539715169274385), (180, 0.005441721534449926), (181, 0.022602305365600144), (182, 0.006768023690419082), (183, 0.0), (184, 0.0), (185, 0.006347871237861274), (186, 0.0), (187, 0.015559601203676113), (188, 0.0), (189, 0.030595806181100308), (190, 0.0), (191, 0.028758628902713135), (192, 0.0), (193, 0.0), (194, 0.029318249331593917), (195, 0.0), (196, 0.0), (197, 0.0), (198, 0.0), (199, 0.017754291879863465), (200, 0.014206919773084803), (201, 0.012318460002269434), (202, 0.006168864796976728), (203, 0.017790907119383415), (204, 0.0), (205, 0.0), (206, 0.0), (207, 0.0), (208, 0.04223557834382284), (209, 0.0), (210, 0.005488297984479731), (211, 0.0), (212, 0.03419736638978953), (213, 0.0), (214, 0.0), (215, 0.0), (216, 0.0), (217, 0.004963460103389384), (218, 0.014712950946247222), (219, 0.021844136490973116), (220, 0.024137709468881986), (221, 0.0), (222, 0.0), (223, 0.013956663763531245), (224, 0.0), (225, 0.010812147093566144), (226, 0.0), (227, 0.0), (228, 0.007120098439794335), (229, 0.0), (230, 0.004959201801565787), (231, 0.022239397842472156), (232, 0.01271214777886261), (233, 0.005025993117064435), (234, 0.025428489448436162), (235, 0.019011659388357766), (236, 0.02714919607195725), (237, 0.03913765869289206), (238, 0.0), (239, 0.017093952714737945), (240, 0.008701848434944754), (241, 0.04292390418546763), (242, 0.0058134246291846586), (243, 0.0), (244, 0.004981706395575845), (245, 0.0), (246, 0.0), (247, 0.013277889236154618), (248, 0.0), (249, 0.0443156805544103), (250, 0.0), (251, 0.07804519606050524), (252, 0.021660375857810603), (253, 0.0), (254, 0.0), (255, 0.03524714220412398), (256, 0.0), (257, 0.03423235652416832), (258, 0.029747309322078957), (259, 0.05537335163190966), (260, 0.05919221501462362), (261, 0.06021053180581619), (262, 0.0), (263, 0.02795987164749719), (264, 0.029586380429321296), (265, 0.01951719442563029), (266, 0.011151888187537184), (267, 0.0), (268, 0.0), (269, 0.020503476834225123), (270, 0.0), (271, 0.01110764041041329), (272, 0.0), (273, 0.0), (274, 0.0), (275, 0.0), (276, 0.0), (277, 0.005902149329938324), (278, 0.0), (279, 0.095280340869254), (280, 0.0), (281, 0.0), (282, 0.017399239004727635), (283, 0.04507820504010304), (284, 0.02868436461392649), (285, 0.023769538063401825), (286, 0.005761824392098212), (287, 0.0), (288, 0.01002684294749491), (289, 0.00947617908193493), (290, 0.00963458770485829), (291, 0.0), (292, 0.011455192419138283), (293, 0.0), (294, 0.009400877394096395), (295, 0.19502223542404776), (296, 0.003816624063683471), (297, 0.007103589240605453), (298, 0.01683468376167148), (299, 0.0067133988774449715), (300, 0.024947326164519775), (301, 0.007102651996738633), (302, 0.0), (303, 0.08336093343854396), (304, 0.0), (305, 0.011795395683520313), (306, 0.01087832316073424), (307, 0.01663896022766368), (308, 0.02177350976650411), (309, 0.007477522573696541), (310, 0.011343808840086551), (311, 0.008824141314293424), (312, 0.0), (313, 0.0), (314, 0.02476736331858547), (315, 0.011843167231528003), (316, 0.026553256460040767), (317, 0.008231983334692885), (318, 0.0), (319, 0.0508816010583705), (320, 0.012377768461801716), (321, 0.01145982226078758), (322, 0.011626360898243045), (323, 0.010561293966839701), (324, 0.008665009685594053), (325, 0.0), (326, 0.0), (327, 0.0190249175556576), (328, 0.004945784128806479), (329, 0.0), (330, 0.010195039162268604), (331, 0.0), (332, 0.0038129985369237695), (333, 0.02867019926376977), (334, 0.020474372835901727), (335, 0.0), (336, 0.004815540132146866), (337, 0.008532785442224846), (338, 0.008577262333995502), (339, 0.02539765882256039), (340, 0.007214284938862995), (341, 0.0), (342, 0.010241388431943627), (343, 0.036590523935703584), (344, 0.0), (345, 0.015619241178064448), (346, 0.0), (347, 0.017798925549767943), (348, 0.0), (349, 0.0), (350, 0.005543863713179266), (351, 0.0071726006184044), (352, 0.008544644825358801), (353, 0.005171946352900596), (354, 0.0), (355, 0.035292213564258025), (356, 0.017934946487097096), (357, 0.014535114445164189), (358, 0.014350181244245218), (359, 0.0), (360, 0.0), (361, 0.0071275335628312375), (362, 0.03639013384915393), (363, 0.00733707827940382), (364, 0.02103733861521099), (365, 0.00745636223744645), (366, 0.012032709202846142), (367, 0.05257798940685533), (368, 0.029352311486405113), (369, 0.013575991081006027), (370, 0.0), (371, 0.03535132529839603), (372, 0.0), (373, 0.008909801252580578), (374, 0.07552833160070821), (375, 0.022563632053396707), (376, 0.028226244348872588), (377, 0.056708274306032626), (378, 0.017814833007389976), (379, 0.027209440322459314), (380, 0.020378483921539174), (381, 0.03726490641527797), (382, 0.08066423249568166), (383, 0.013150107171189756), (384, 0.0), (385, 0.0), (386, 0.005302591072767089), (387, 0.0), (388, 0.0), (389, 0.017660045864465738), (390, 0.028436951329205668), (391, 0.0), (392, 0.0), (393, 0.0), (394, 0.019511620836255517), (395, 0.0), (396, 0.009034315559494794), (397, 0.04171513548783609), (398, 0.0), (399, 0.0), (400, 0.01929259282718928), (401, 0.03671383667827681), (402, 0.0), (403, 0.00796844119974818), (404, 0.009123483516781414), (405, 0.03625364062020131), (406, 0.0), (407, 0.06142285796429693), (408, 0.0), (409, 0.006181770080751873), (410, 0.0), (411, 0.004674124727678744), (412, 0.0), (413, 0.018942010973231657), (414, 0.0), (415, 0.0), (416, 0.02970542172135634), (417, 0.010967037650821618), (418, 0.01787521373134656), (419, 0.1103980127723734), (420, 0.0), (421, 0.030038907300918422), (422, 0.018397253527359776), (423, 0.0), (424, 0.013405899935919442), (425, 0.013394268826709018), (426, 0.011043410394627943), (427, 0.0526441683586612), (428, 0.006062066778483927), (429, 0.017652715368674948), (430, 0.029211685167890335), (431, 0.0), (432, 0.015024854811552586), (433, 0.022200650348687442), (434, 0.0139588791218928), (435, 0.004129262387342898), (436, 0.01798890086286205), (437, 0.0), (438, 0.014501657785581382), (439, 0.017634465683568537), (440, 0.026113427889458828), (441, 0.0), (442, 0.0042224570858587), (443, 0.022521264686299957), (444, 0.0), (445, 0.0), (446, 0.0), (447, 0.06746548192745533), (448, 0.01085140356188824), (449, 0.0), (450, 0.016190380610931053), (451, 0.040817632574476514), (452, 0.02355777026118958), (453, 0.01356432581784244), (454, 0.0), (455, 0.006671171017252714), (456, 0.0), (457, 0.006162619763628867), (458, 0.005682097913323985), (459, 0.0), (460, 0.017656407719638445), (461, 0.007951394756450273), (462, 0.0), (463, 0.02592699318563599), (464, 0.0), (465, 0.008582933810037588), (466, 0.0), (467, 0.028242525823021027), (468, 0.027575316019498912), (469, 0.035870905875605874), (470, 0.005370843377699781), (471, 0.0), (472, 0.061773319028259076), (473, 0.0), (474, 0.018557703798946824), (475, 0.0), (476, 0.0), (477, 0.014773992504695216), (478, 0.016698776584077535), (479, 0.019448376382638397), (480, 0.0), (481, 0.08814332798014533), (482, 0.03125419222891331), (483, 0.0), (484, 0.029242929879095634), (485, 0.0), (486, 0.03392123299488484), (487, 0.0), (488, 0.018833708683387143), (489, 0.0), (490, 0.0), (491, 0.03454082354115208), (492, 0.02131613919624144), (493, 0.0), (494, 0.014560189365738451), (495, 0.004504010214066461), (496, 0.018106443787131048), (497, 0.02629241751081074), (498, 0.06766280170410681), (499, 0.0), (500, 0.004965364412416848), (501, 0.010602251747377698), (502, 0.03227896916311415), (503, 0.0), (504, 0.0), (505, 0.01600124775990153), (506, 0.0), (507, 0.0), (508, 0.027775488825819802), (509, 0.038159825908370165), (510, 0.0), (511, 0.016155454074215998), (512, 0.035825846921607694), (513, 0.005535709645191292), (514, 0.005522459728268161), (515, 0.004590199756538681), (516, 0.023798432882909552), (517, 0.02372631304007201), (518, 0.0), (519, 0.010424827271624207), (520, 0.0), (521, 0.0), (522, 0.0), (523, 0.0), (524, 0.008624501207918198), (525, 0.0), (526, 0.0), (527, 0.0), (528, 0.01202200975318577), (529, 0.0), (530, 0.018508836244478404), (531, 0.01930430210334335), (532, 0.013458561849971233), (533, 0.005727638260443134), (534, 0.005029548978639815), (535, 0.0), (536, 0.0), (537, 0.05280454644432824), (538, 0.0077550651815694975), (539, 0.011553602549427347), (540, 0.010896947262516325), (541, 0.0), (542, 0.010163622103278293), (543, 0.01754300158493636), (544, 0.0), (545, 0.06005161691229095), (546, 0.08990859674125723), (547, 0.0), (548, 0.011071810913304857), (549, 0.00872255012822922), (550, 0.04496619054088729), (551, 0.0), (552, 0.0), (553, 0.03868449865242071), (554, 0.022147147603087253), (555, 0.04110201048613819), (556, 0.0), (557, 0.0), (558, 0.017954897955434517), (559, 0.0), (560, 0.005107772625014685), (561, 0.023768384602749687), (562, 0.01991080399033696), (563, 0.0), (564, 0.0), (565, 0.027595904043390372), (566, 0.022704532794820452), (567, 0.028811808233687394), (568, 0.010950507698138944), (569, 0.010818245056821638), (570, 0.05144231077978738), (571, 0.0), (572, 0.030288829087301874), (573, 0.01637667845622484), (574, 0.0), (575, 0.08413856796126923), (576, 0.0), (577, 0.0), (578, 0.0), (579, 0.0), (580, 0.0), (581, 0.0), (582, 0.0), (583, 0.013376126214221159), (584, 0.0), (585, 0.0), (586, 0.006994299352119735), (587, 0.0), (588, 0.0), (589, 0.0), (590, 0.0), (591, 0.032446915557739375), (592, 0.011991852799825103), (593, 0.0), (594, 0.0060015192338536884), (595, 0.0056005467944648685), (596, 0.0), (597, 0.0), (598, 0.0), (599, 0.2828019152239469), (600, 0.25719278431210035), (601, 0.1561055013652135), (602, 0.09944102898572665), (603, 0.12954327476770183), (604, 0.029546163003806726), (605, 0.008272360315375345), (606, 0.01831756446211782), (607, 0.0), (608, 0.006086489854492196), (609, 0.007459307800124895), (610, 0.01173901221208979), (611, 0.0), (612, 0.0), (613, 0.029122476742161243), (614, 0.05829344794728482), (615, 0.012230525020948376), (616, 0.0), (617, 0.0), (618, 0.0), (619, 0.04973999297433453), (620, 0.026869598728319257), (621, 0.004308589287620069), (622, 0.017084601071585357), (623, 0.0), (624, 0.0), (625, 0.029760367461890133), (626, 0.0), (627, 0.009091966469459822), (628, 0.0), (629, 0.008118144123481243), (630, 0.0), (631, 0.012139675901066328), (632, 0.004602430178350161), (633, 0.0), (634, 0.0), (635, 0.012890461997071792), (636, 0.0), (637, 0.0), (638, 0.0), (639, 0.009969920627482896), (640, 0.009884160641124726), (641, 0.004808228315204733), (642, 0.0), (643, 0.015580340409429908), (644, 0.004837535407445185), (645, 0.0), (646, 0.0), (647, 0.025332896286467302), (648, 0.0), (649, 0.029947028913762174), (650, 0.006286650069032642), (651, 0.00491643715799583), (652, 0.0), (653, 0.004430635677745044), (654, 0.07384605553609146), (655, 0.015729181009163776), (656, 0.02398616902927093), (657, 0.0), (658, 0.0), (659, 0.01374406569517996), (660, 0.0), (661, 0.01737468623776935), (662, 0.014305855268152224), (663, 0.04755647088667768), (664, 0.016854450734968038), (665, 0.0), (666, 0.033247253722921984), (667, 0.0), (668, 0.011466489275248508), (669, 0.01826172513053329), (670, 0.02609049731072529), (671, 0.0), (672, 0.009081746820838656), (673, 0.005557110252306415), (674, 0.05793902791640221), (675, 0.0), (676, 0.0), (677, 0.007358531666417609), (678, 0.018362523399276093), (679, 0.0), (680, 0.03588162922816232), (681, 0.09739447126648751), (682, 0.005727246809403682), (683, 0.005748913863993276), (684, 0.03699739909008726), (685, 0.0), (686, 0.04564196267064011), (687, 0.027669633238201215), (688, 0.005641178033812138), (689, 0.0), (690, 0.0047379754993361525), (691, 0.0075983166964077664), (692, 0.02703360809267035), (693, 0.0), (694, 0.06109827319150957), (695, 0.014809184470745505), (696, 0.0), (697, 0.0), (698, 0.008894792077698185), (699, 0.006038234993158148), (700, 0.03714356988342605), (701, 0.0), (702, 0.05134947687599316), (703, 0.0), (704, 0.0), (705, 0.008322964163702526), (706, 0.0), (707, 0.012410369531153832), (708, 0.0), (709, 0.0), (710, 0.0), (711, 0.0), (712, 0.0), (713, 0.012785114962704063), (714, 0.011946515666472575), (715, 0.013028767916278067), (716, 0.012381102621072934), (717, 0.009803970974359047), (718, 0.01744805032201478), (719, 0.004091102967634053), (720, 0.0064577994755637405), (721, 0.020236209784591737), (722, 0.0), (723, 0.004310932167714573), (724, 0.0066681814052045), (725, 0.010043845864538173), (726, 0.00561434735543746), (727, 0.005003158495767999), (728, 0.005492457288887513), (729, 0.005678568733925389), (730, 0.0), (731, 0.027647978808356646), (732, 0.008392526180852608), (733, 0.01534814382797467), (734, 0.0), (735, 0.0), (736, 0.0), (737, 0.0), (738, 0.0041950899269684195), (739, 0.018346838103305636), (740, 0.0), (741, 0.0), (742, 0.0), (743, 0.0), (744, 0.05160273254597798), (745, 0.03130127177171173), (746, 0.0), (747, 0.019777054717939852), (748, 0.017873309283750482), (749, 0.005095433179631056), (750, 0.01807191492403843), (751, 0.02950814170700636), (752, 0.0), (753, 0.0059030908026515535), (754, 0.0), (755, 0.0), (756, 0.03184059501104259), (757, 0.0), (758, 0.0), (759, 0.0), (760, 0.0), (761, 0.0), (762, 0.02793846908370722), (763, 0.04881187689507612), (764, 0.0), (765, 0.0), (766, 0.0), (767, 0.0), (768, 0.0), (769, 0.017506641286816723), (770, 0.0), (771, 0.0), (772, 0.0), (773, 0.0), (774, 0.0), (775, 0.012329122328785302), (776, 0.030865259894709198), (777, 0.023402409059054618), (778, 0.05077428750759199), (779, 0.004353002894831688), (780, 0.0), (781, 0.015538849098737005), (782, 0.0), (783, 0.0), (784, 0.018312564774362113), (785, 0.01685374230718586), (786, 0.013466474899159994), (787, 0.0), (788, 0.0), (789, 0.0), (790, 0.00911202802618853), (791, 0.0), (792, 0.010000407029398879), (793, 0.02758533265766472), (794, 0.0159455963456406), (795, 0.006018870148871725), (796, 0.020797023211795062), (797, 0.0), (798, 0.016854278892509567), (799, 0.0), (800, 0.004577190324543849), (801, 0.0), (802, 0.019409619001410857), (803, 0.03466038350048435), (804, 0.013035913859099798), (805, 0.0), (806, 0.0), (807, 0.0), (808, 0.0), (809, 0.005227991512298198), (810, 0.0), (811, 0.0), (812, 0.016772732708195178), (813, 0.01657185212659369), (814, 0.0), (815, 0.017395611705003273), (816, 0.0), (817, 0.0), (818, 0.0), (819, 0.0), (820, 0.014202617094617285), (821, 0.019423198970906417), (822, 0.0384665208432772), (823, 0.0), (824, 0.006546747639773099), (825, 0.004938921490701895), (826, 0.01259190680144559), (827, 0.004830991637118493), (828, 0.0), (829, 0.00863629103731894), (830, 0.0), (831, 0.0), (832, 0.0), (833, 0.060806119897883475), (834, 0.06444345291126057), (835, 0.06143136810671968), (836, 0.0), (837, 0.0), (838, 0.0), (839, 0.010621710606988513), (840, 0.0), (841, 0.0), (842, 0.0206635283341515), (843, 0.0), (844, 0.01815511090231991), (845, 0.020778259106663848), (846, 0.019253010667671943), (847, 0.01691992433129469), (848, 0.00513566835400953), (849, 0.02654423436046072), (850, 0.025501769901446644), (851, 0.004461102442754855), (852, 0.006422910028644221), (853, 0.04314301916263083), (854, 0.004859922098770329), (855, 0.03852461248988928), (856, 0.015084511695437983), (857, 0.0), (858, 0.0), (859, 0.0), (860, 0.0), (861, 0.0), (862, 0.0), (863, 0.022897755579105915), (864, 0.01784625992578499), (865, 0.0), (866, 0.004734085482488336), (867, 0.0), (868, 0.004728069198298872), (869, 0.005221180657530716), (870, 0.0), (871, 0.006899005765667547), (872, 0.03163038779215767), (873, 0.0), (874, 0.0), (875, 0.012958577120689051), (876, 0.02015895560358494), (877, 0.014185825470418658), (878, 0.004809810896240881), (879, 0.018425852823723117), (880, 0.018532570152682146), (881, 0.022775929947251583), (882, 0.005951951340072693), (883, 0.033742122411030445), (884, 0.01837503037964017), (885, 0.0), (886, 0.0), (887, 0.05369988185006454), (888, 0.0), (889, 0.0), (890, 0.0), (891, 0.07308073181219855), (892, 0.0162890484341993), (893, 0.0), (894, 0.0), (895, 0.023738320525114407), (896, 0.06021018219008581), (897, 0.0), (898, 0.0), (899, 0.0), (900, 0.0), (901, 0.020748278710935115), (902, 0.030308084439582238), (903, 0.022921782358715354), (904, 0.005994489814529478), (905, 0.005890778924836721), (906, 0.03146664680070559), (907, 0.0), (908, 0.005202316339571683), (909, 0.021699241996420503), (910, 0.0), (911, 0.011185620562028067), (912, 0.039395555131313376), (913, 0.02421780931225134), (914, 0.008313618252612108), (915, 0.08379117736682506), (916, 0.01560738105788175), (917, 0.0), (918, 0.05649955594822478), (919, 0.011998503232978856), (920, 0.006164004091637862), (921, 0.006249059436839613), (922, 0.0), (923, 0.02613677290489662), (924, 0.014004984985773824), (925, 0.0), (926, 0.005236986620172543), (927, 0.0), (928, 0.024935618519988732), (929, 0.003673457307004531), (930, 0.0), (931, 0.009394794898028037), (932, 0.015857237966330748), (933, 0.0), (934, 0.0), (935, 0.006245316987975187), (936, 0.014500465612399212), (937, 0.0), (938, 0.028971682533409156), (939, 0.030301842473675143), (940, 0.0), (941, 0.0), (942, 0.0), (943, 0.0), (944, 0.018141084776654763), (945, 0.021474558998770286), (946, 0.0766325487371001), (947, 0.006869255822842292), (948, 0.0064119174882559605), (949, 0.0), (950, 0.030208846853611516), (951, 0.028579852973607687), (952, 0.01917550174989798), (953, 0.0), (954, 0.010552277330536063), (955, 0.0), (956, 0.04990185853167044), (957, 0.008584488985498144), (958, 0.0), (959, 0.0), (960, 0.0), (961, 0.053998022373784274), (962, 0.00891445061932761), (963, 0.03954261975570971), (964, 0.0), (965, 0.011781035171817455), (966, 0.011147757904238841), (967, 0.0), (968, 0.0), (969, 0.0), (970, 0.0), (971, 0.0), (972, 0.0), (973, 0.019183477354469715), (974, 0.021300425518953708), (975, 0.023450611837446927), (976, 0.0), (977, 0.041321361423862495), (978, 0.0), (979, 0.017217723234940283), (980, 0.0), (981, 0.029018194486524464), (982, 0.01852883352851431), (983, 0.0), (984, 0.0), (985, 0.0), (986, 0.005088484725643405), (987, 0.0), (988, 0.033432607804726865), (989, 0.0), (990, 0.020346033287536928), (991, 0.0), (992, 0.0543542412268774), (993, 0.0), (994, 0.0051750791053071276), (995, 0.0), (996, 0.007185817359019088), (997, 0.028988836171124716), (998, 0.0), (999, 0.0), (1000, 0.01303616968347911), (1001, 0.011252839554654991), (1002, 0.01604866264777367), (1003, 0.0181316963995397), (1004, 0.0), (1005, 0.003892341143956384), (1006, 0.0), (1007, 0.019498360417557523), (1008, 0.008055844944620437), (1009, 0.025020381368474714), (1010, 0.027262140896027638), (1011, 0.16270222722174588), (1012, 0.011696271767063712), (1013, 0.06508750945379757), (1014, 0.026451459022558875), (1015, 0.005504712250134733), (1016, 0.0060312274454430515), (1017, 0.020577511091871694), (1018, 0.0), (1019, 0.0), (1020, 0.0), (1021, 0.0), (1022, 0.03369978782659422), (1023, 0.005724175792393674), (1024, 0.03876432233892937), (1025, 0.015010008623055744), (1026, 0.009225239470800964), (1027, 0.01861915172113556), (1028, 0.02852588696867777), (1029, 0.03260138298000277), (1030, 0.0), (1031, 0.024274679772785055), (1032, 0.0), (1033, 0.0), (1034, 0.0), (1035, 0.004947113182521246), (1036, 0.0), (1037, 0.0), (1038, 0.02934076867769171), (1039, 0.0), (1040, 0.0), (1041, 0.0), (1042, 0.007851802442095403), (1043, 0.03369436061073969), (1044, 0.004933088800869022), (1045, 0.012106773212546978), (1046, 0.03369845083859657), (1047, 0.0), (1048, 0.0), (1049, 0.0), (1050, 0.005720234044514979), (1051, 0.008211760200330999), (1052, 0.0), (1053, 0.0), (1054, 0.004808551859235113), (1055, 0.016197433813486654), (1056, 0.06525547246206079), (1057, 0.06435546390039697), (1058, 0.04027749490753379), (1059, 0.0), (1060, 0.02889044041290946), (1061, 0.0), (1062, 0.0), (1063, 0.01140778965251912), (1064, 0.0), (1065, 0.0046544048307561375), (1066, 0.021027635793861927), (1067, 0.021738937498847262), (1068, 0.0), (1069, 0.027359388239553105), (1070, 0.0), (1071, 0.03506775172990773), (1072, 0.01461403988588079), (1073, 0.0), (1074, 0.022901362132040585), (1075, 0.0), (1076, 0.02040733331224076), (1077, 0.0), (1078, 0.0), (1079, 0.00617459470714903), (1080, 0.0), (1081, 0.0), (1082, 0.05425994532526088), (1083, 0.035185388514817395), (1084, 0.0), (1085, 0.006845112731326115), (1086, 0.015732266485647208), (1087, 0.006826292497953077), (1088, 0.0), (1089, 0.0), (1090, 0.005890666824504805), (1091, 0.03234593446863104), (1092, 0.0042445086772198186), (1093, 0.0), (1094, 0.03294044969953066), (1095, 0.03163622506877872), (1096, 0.004954179211103859), (1097, 0.01739664698481784), (1098, 0.0), (1099, 0.012519690309862316), (1100, 0.009245693984436552), (1101, 0.01803043416559865), (1102, 0.005054077488233404), (1103, 0.0), (1104, 0.0), (1105, 0.0), (1106, 0.0), (1107, 0.0), (1108, 0.030146621809218302), (1109, 0.0), (1110, 0.0), (1111, 0.03019232690729827), (1112, 0.016014049802016515), (1113, 0.07411980943400157), (1114, 0.014843636505790719), (1115, 0.00948704240561897), (1116, 0.020627849260878246), (1117, 0.0), (1118, 0.02966140916091998), (1119, 0.0), (1120, 0.028831416806871166), (1121, 0.0), (1122, 0.005184492826693353), (1123, 0.06705439157246294), (1124, 0.0), (1125, 0.026080485136279405), (1126, 0.00663026936722001), (1127, 0.005012148280484355), (1128, 0.0), (1129, 0.022839852697817863), (1130, 0.009212252393993824), (1131, 0.017720336136452387), (1132, 0.0), (1133, 0.009381069117863256), (1134, 0.04255214912510063), (1135, 0.010956402103815169), (1136, 0.0), (1137, 0.1136302057443545), (1138, 0.0051512900188397425), (1139, 0.0), (1140, 0.01899343249387282), (1141, 0.03633008149686646), (1142, 0.0), (1143, 0.0), (1144, 0.0), (1145, 0.0), (1146, 0.017151728347096492), (1147, 0.0), (1148, 0.0), (1149, 0.0), (1150, 0.07895671112965102), (1151, 0.029626015742026588), (1152, 0.0), (1153, 0.0035704611724900067), (1154, 0.057545745014507814), (1155, 0.009750625826593019), (1156, 0.0), (1157, 0.0), (1158, 0.0), (1159, 0.03252082491247492), (1160, 0.014004842402793373), (1161, 0.0), (1162, 0.005555713824303327), (1163, 0.0), (1164, 0.0185646420177309), (1165, 0.0069552057045636825), (1166, 0.015040372363664178), (1167, 0.02744375493160968), (1168, 0.030080731290958694), (1169, 0.0), (1170, 0.0), (1171, 0.016068487792703375), (1172, 0.01987139288305215), (1173, 0.024037431979007134), (1174, 0.02326118551020249), (1175, 0.021666897471373705), (1176, 0.0), (1177, 0.0), (1178, 0.07158506716386202), (1179, 0.011805216919755328), (1180, 0.0), (1181, 0.0), (1182, 0.0), (1183, 0.004726735929748125), (1184, 0.0), (1185, 0.01243908362840665), (1186, 0.0), (1187, 0.0), (1188, 0.01853743411611139), (1189, 0.0), (1190, 0.030572504795590014), (1191, 0.0), (1192, 0.0), (1193, 0.0), (1194, 0.00586645686551672), (1195, 0.03509281601232635), (1196, 0.0), (1197, 0.0), (1198, 0.006646441865818541), (1199, 0.0), (1200, 0.0), (1201, 0.0), (1202, 0.016516054627333934), (1203, 0.0), (1204, 0.027536579101774792), (1205, 0.01887445206491659), (1206, 0.012553585450792316), (1207, 0.011279621247719068), (1208, 0.0), (1209, 0.0), (1210, 0.008585459404984466), (1211, 0.0), (1212, 0.027806645374054494), (1213, 0.008258450595718446), (1214, 0.012153202217068226), (1215, 0.008047156117046378), (1216, 0.008525076640655885), (1217, 0.0), (1218, 0.0), (1219, 0.006023590943047233), (1220, 0.015940572431212784), (1221, 0.0055822606608433595), (1222, 0.0), (1223, 0.0), (1224, 0.0), (1225, 0.012455555644657541), (1226, 0.0050411017011595845), (1227, 0.0), (1228, 0.0072053418014805205), (1229, 0.0053164100860228275), (1230, 0.05756788909432957), (1231, 0.006434166699683588), (1232, 0.0), (1233, 0.018586227082806692), (1234, 0.018702220048363683), (1235, 0.0), (1236, 0.013418543688853542), (1237, 0.07258061486532358), (1238, 0.006668710562619505), (1239, 0.0385889771680397), (1240, 0.03090444906259829), (1241, 0.00418632441625252), (1242, 0.04118373086931826), (1243, 0.016093522796576297), (1244, 0.012178551080248491), (1245, 0.026307908877540663), (1246, 0.0), (1247, 0.0), (1248, 0.00903264142341751), (1249, 0.023529487273252422), (1250, 0.01807994985834365), (1251, 0.0), (1252, 0.005045334080580912), (1253, 0.014291391147165888), (1254, 0.01210066375241298), (1255, 0.07575316150001903), (1256, 0.016748746034275324), (1257, 0.06000354510799848), (1258, 0.014283152726945924), (1259, 0.021840017301444012), (1260, 0.0), (1261, 0.018852167368547577), (1262, 0.029466962003116264), (1263, 0.02749855654741552), (1264, 0.020289573251305152), (1265, 0.04312078060365869), (1266, 0.018895799777923262), (1267, 0.009088218192475444), (1268, 0.0), (1269, 0.04713098239283732), (1270, 0.014740019113130361), (1271, 0.020429380433700097), (1272, 0.006615769483814799), (1273, 0.011236796996210791), (1274, 0.0048361438547522215), (1275, 0.0), (1276, 0.014803680580850501), (1277, 0.007030328791865774), (1278, 0.00700814952029384), (1279, 0.03939199997874313), (1280, 0.03146163394616417), (1281, 0.028933996354890145), (1282, 0.0), (1283, 0.01038311539564061), (1284, 0.0), (1285, 0.021858370414859885), (1286, 0.0), (1287, 0.006469111597639595), (1288, 0.00610925502595821), (1289, 0.013838346459268423), (1290, 0.004511486596588394), (1291, 0.00870839899459556), (1292, 0.019517286420508418), (1293, 0.011348428128147663), (1294, 0.0), (1295, 0.02687410343805429), (1296, 0.018765021674796926), (1297, 0.030859060122757236), (1298, 0.0), (1299, 0.0), (1300, 0.0), (1301, 0.035566272927364716), (1302, 0.02307777377742337), (1303, 0.0), (1304, 0.017667263688375137), (1305, 0.0), (1306, 0.0), (1307, 0.022169744521072), (1308, 0.02236390714074144), (1309, 0.03828137575043311), (1310, 0.02397333133913061), (1311, 0.018037545579841746), (1312, 0.0), (1313, 0.0), (1314, 0.039980316927427706), (1315, 0.028738733947452164), (1316, 0.0), (1317, 0.013647254353386554), (1318, 0.0), (1319, 0.0), (1320, 0.01721990099123405), (1321, 0.01358844832768253), (1322, 0.02550014861632773), (1323, 0.015174508785493613), (1324, 0.012594435069445218), (1325, 0.0), (1326, 0.021683232960631616), (1327, 0.006384975966766177), (1328, 0.01245077262399406), (1329, 0.0), (1330, 0.0), (1331, 0.0), (1332, 0.005673769581180797), (1333, 0.02430606234129256), (1334, 0.039321571116174334), (1335, 0.02480832488278405), (1336, 0.009871341628432999), (1337, 0.00519679644995356), (1338, 0.0050085810891290885), (1339, 0.0), (1340, 0.0), (1341, 0.02424948922305211), (1342, 0.04877873755225017), (1343, 0.0), (1344, 0.007602076800016878), (1345, 0.017622243267946976), (1346, 0.011874305901040764), (1347, 0.01626938007681089), (1348, 0.028076276199342474), (1349, 0.0), (1350, 0.011500906586097443), (1351, 0.006933185277832921), (1352, 0.010029189947498074), (1353, 0.0), (1354, 0.04279385181599468), (1355, 0.0), (1356, 0.0), (1357, 0.004692860950403429), (1358, 0.029118992059171865), (1359, 0.0), (1360, 0.029238673519570175), (1361, 0.018019049457079786), (1362, 0.0), (1363, 0.0), (1364, 0.0), (1365, 0.007938845792683917), (1366, 0.019130672855456728), (1367, 0.0445816918031456), (1368, 0.02046245198232803), (1369, 0.011862627822856074), (1370, 0.021599249616832836), (1371, 0.02782619779032754), (1372, 0.0), (1373, 0.03911430865730296), (1374, 0.027942805871845944), (1375, 0.0), (1376, 0.0), (1377, 0.02667493584259978), (1378, 0.03080705194613348), (1379, 0.010233645694922845), (1380, 0.012451898079340079), (1381, 0.033905431491044136), (1382, 0.029833394955532708), (1383, 0.03262671538370251), (1384, 0.004532267588087979), (1385, 0.011821703320585974), (1386, 0.012003541363336246), (1387, 0.010658548484756118), (1388, 0.006743719093011598), (1389, 0.00707055459057551), (1390, 0.0), (1391, 0.0), (1392, 0.008358676890360349), (1393, 0.032100896893381275), (1394, 0.0), (1395, 0.0), (1396, 0.04936818837850273), (1397, 0.005806447882979422), (1398, 0.013667815779561224), (1399, 0.0), (1400, 0.0), (1401, 0.049575842079459816), (1402, 0.020417884323703943), (1403, 0.021669425600512042), (1404, 0.008886717488741714), (1405, 0.0), (1406, 0.004976970081010334), (1407, 0.020692300687282783), (1408, 0.013078863975635284), (1409, 0.010057708002918834), (1410, 0.02613244987261848), (1411, 0.04263056844224829), (1412, 0.04766772971583279), (1413, 0.023170948199581758), (1414, 0.015026711563855506), (1415, 0.0), (1416, 0.0), (1417, 0.003975079343010592), (1418, 0.020417029157989975), (1419, 0.014510927561244762), (1420, 0.0), (1421, 0.0), (1422, 0.0), (1423, 0.0), (1424, 0.0), (1425, 0.0), (1426, 0.0), (1427, 0.0), (1428, 0.0), (1429, 0.0), (1430, 0.0), (1431, 0.009626766714797178), (1432, 0.005304474374089246), (1433, 0.016503181938357696), (1434, 0.0), (1435, 0.057047634911904), (1436, 0.012492470356425677), (1437, 0.013378768926681397), (1438, 0.0), (1439, 0.0), (1440, 0.011989124702159657), (1441, 0.0), (1442, 0.00504151753561437), (1443, 0.06282383073010805), (1444, 0.0), (1445, 0.015416407299370695), (1446, 0.0), (1447, 0.0), (1448, 0.0), (1449, 0.0), (1450, 0.0), (1451, 0.008830753021114638), (1452, 0.0), (1453, 0.0), (1454, 0.005593306360027055), (1455, 0.02190947768386072), (1456, 0.0), (1457, 0.0), (1458, 0.017950008794374136), (1459, 0.011621750444701321), (1460, 0.013070814158892125), (1461, 0.0), (1462, 0.015449447803963822), (1463, 0.0), (1464, 0.0), (1465, 0.012792200591593032), (1466, 0.0536638403003122), (1467, 0.03275299653698617), (1468, 0.026188964289694253), (1469, 0.023635859471202576), (1470, 0.012221004689315616), (1471, 0.003776303730600691), (1472, 0.01703958998036363), (1473, 0.017888945945849943), (1474, 0.00748806936224023), (1475, 0.006999726625625792), (1476, 0.0), (1477, 0.01636159931207622), (1478, 0.058309997416143254), (1479, 0.0), (1480, 0.0), (1481, 0.0), (1482, 0.0), (1483, 0.005052873802339425), (1484, 0.005386708923004416), (1485, 0.0), (1486, 0.06605165330540352), (1487, 0.0), (1488, 0.017705800455316265), (1489, 0.0), (1490, 0.006415403504342157), (1491, 0.0), (1492, 0.012768749966361246), (1493, 0.03754431954328831), (1494, 0.009685117914805958), (1495, 0.006831183513211842), (1496, 0.017668649370624557), (1497, 0.0), (1498, 0.016403761307324103), (1499, 0.0), (1500, 0.02764134471930152), (1501, 0.0), (1502, 0.024110097434371904), (1503, 0.014611644666240915), (1504, 0.005043599718237451), (1505, 0.017790208479435514), (1506, 0.0), (1507, 0.010765894819616439), (1508, 0.0), (1509, 0.0), (1510, 0.00514093490644069), (1511, 0.02155181980246289), (1512, 0.005125542651602694), (1513, 0.005304737886327207), (1514, 0.006214037023837694), (1515, 0.05789613638824079), (1516, 0.005244440718933362), (1517, 0.0), (1518, 0.0), (1519, 0.08645420947701714), (1520, 0.0), (1521, 0.03354535443915929), (1522, 0.011922676599964085), (1523, 0.0), (1524, 0.014725410928022131), (1525, 0.0), (1526, 0.0), (1527, 0.019423970660844843), (1528, 0.0), (1529, 0.020844110330778452), (1530, 0.024196270512770568), (1531, 0.0), (1532, 0.0), (1533, 0.043314013038950175), (1534, 0.01673311866747706), (1535, 0.019198356804838303), (1536, 0.0237417113237839), (1537, 0.033134418698796735), (1538, 0.034768569488845984), (1539, 0.008383013910917869), (1540, 0.005948758939349979), (1541, 0.0), (1542, 0.015276483773465957), (1543, 0.014813206841215277), (1544, 0.004888389762074079), (1545, 0.004883255130398422), (1546, 0.019641199061974937), (1547, 0.013751340903236176), (1548, 0.04185770854313111), (1549, 0.009273591199274043), (1550, 0.0), (1551, 0.019137231671992896), (1552, 0.011288534739087166), (1553, 0.0), (1554, 0.032529908226035915), (1555, 0.039761155681805826), (1556, 0.0), (1557, 0.0), (1558, 0.0), (1559, 0.008136434357774043), (1560, 0.005738482319207466), (1561, 0.009036410485023003), (1562, 0.0), (1563, 0.010213844139003583), (1564, 0.049316958466259456), (1565, 0.0), (1566, 0.08068047445167217), (1567, 0.03446931874951255), (1568, 0.0), (1569, 0.022877328133470678), (1570, 0.012416943184420645), (1571, 0.0), (1572, 0.030485528099060608), (1573, 0.0), (1574, 0.038654273200322144), (1575, 0.018993258994023134), (1576, 0.004078856914510741), (1577, 0.026793629610786383), (1578, 0.0), (1579, 0.027772053413355473), (1580, 0.010373961001020622), (1581, 0.005077553515898863), (1582, 0.0), (1583, 0.0), (1584, 0.038260418495333855), (1585, 0.0), (1586, 0.0075108369882092435), (1587, 0.02703759654811115), (1588, 0.0), (1589, 0.06364458484747951), (1590, 0.03721739621464738), (1591, 0.005897722562025117), (1592, 0.02865495429504111), (1593, 0.0), (1594, 0.0), (1595, 0.0), (1596, 0.015673276688175287), (1597, 0.0), (1598, 0.006628165939624655), (1599, 0.0146745187493144), (1600, 0.014490583913250022), (1601, 0.005959963805027232), (1602, 0.0), (1603, 0.012390387559382932), (1604, 0.011706199299670489), (1605, 0.0), (1606, 0.0), (1607, 0.0065387857597004485), (1608, 0.015657794281295333), (1609, 0.0), (1610, 0.0), (1611, 0.01193192802063461), (1612, 0.0), (1613, 0.018451184207565426), (1614, 0.0), (1615, 0.00795139308751615), (1616, 0.021228230769308146), (1617, 0.0), (1618, 0.0), (1619, 0.0), (1620, 0.0), (1621, 0.0), (1622, 0.0), (1623, 0.0), (1624, 0.01200676511268142), (1625, 0.017508896103263238), (1626, 0.01456863250868288), (1627, 0.00435299965651173), (1628, 0.0), (1629, 0.0), (1630, 0.0), (1631, 0.01598059587828088), (1632, 0.03857633726642967), (1633, 0.0), (1634, 0.032569230016562256), (1635, 0.0), (1636, 0.025809714535502563), (1637, 0.015827011638978157), (1638, 0.01759289535296347), (1639, 0.022976055135651634), (1640, 0.026327544756789507), (1641, 0.03275555148454297), (1642, 0.0), (1643, 0.0), (1644, 0.0), (1645, 0.028542914431569207), (1646, 0.03343787367478898), (1647, 0.016694955270168264), (1648, 0.0), (1649, 0.05128156115471554), (1650, 0.012452429632439472), (1651, 0.025339019807829544), (1652, 0.03821991418195139), (1653, 0.02226431588242634), (1654, 0.0), (1655, 0.0), (1656, 0.0), (1657, 0.020620164185481113), (1658, 0.0), (1659, 0.005427877207184044), (1660, 0.0), (1661, 0.0), (1662, 0.06434218439555016), (1663, 0.0), (1664, 0.02315959599520574), (1665, 0.004768032429176413), (1666, 0.0), (1667, 0.0), (1668, 0.0), (1669, 0.0), (1670, 0.0), (1671, 0.0), (1672, 0.0), (1673, 0.0), (1674, 0.0), (1675, 0.010756009021380547), (1676, 0.0), (1677, 0.01395584810248665), (1678, 0.01441085048719757), (1679, 0.010186356484300765), (1680, 0.004624874124533875), (1681, 0.0055907807258763365), (1682, 0.017644624028502573), (1683, 0.0), (1684, 0.0), (1685, 0.0), (1686, 0.016475946188791602), (1687, 0.005399276269729049), (1688, 0.0), (1689, 0.0), (1690, 0.0), (1691, 0.0), (1692, 0.0050385222486863555), (1693, 0.016582546188951077), (1694, 0.0), (1695, 0.0), (1696, 0.041481875225373256), (1697, 0.030372838006238932), (1698, 0.0), (1699, 0.0), (1700, 0.012798226666574299), (1701, 0.02143109763495373), (1702, 0.0), (1703, 0.018273506541026666), (1704, 0.0), (1705, 0.02986043389650788), (1706, 0.006775636386647988), (1707, 0.0), (1708, 0.0054694604433331686), (1709, 0.009547819626825377), (1710, 0.0), (1711, 0.0), (1712, 0.0), (1713, 0.013407013267682472), (1714, 0.02245805468942104), (1715, 0.0), (1716, 0.019893990325149692), (1717, 0.015195920414004572), (1718, 0.0098542943498485), (1719, 0.0), (1720, 0.0), (1721, 0.004765173833415849), (1722, 0.0), (1723, 0.024637724970119332), (1724, 0.0), (1725, 0.007423045489782888), (1726, 0.02965941035461965), (1727, 0.038697117306852796), (1728, 0.028750820694076057), (1729, 0.0), (1730, 0.0), (1731, 0.007198702707562586), (1732, 0.005442680818594911), (1733, 0.0), (1734, 0.005335854618494464), (1735, 0.005251591488506808), (1736, 0.005330997229490853), (1737, 0.017150842037619105), (1738, 0.006374235379080978), (1739, 0.0), (1740, 0.005194735967850222), (1741, 0.02525264687335184), (1742, 0.0), (1743, 0.04691561966499995), (1744, 0.0), (1745, 0.025288832066906172), (1746, 0.0), (1747, 0.0), (1748, 0.0), (1749, 0.004776207760805445), (1750, 0.015853074499756446), (1751, 0.005152220381880466), (1752, 0.0), (1753, 0.0), (1754, 0.0), (1755, 0.022417704720057913), (1756, 0.016727849104034933), (1757, 0.009261252688373115), (1758, 0.007764331032587091), (1759, 0.0), (1760, 0.0), (1761, 0.0), (1762, 0.008386908842741828), (1763, 0.0312922890283311), (1764, 0.010234320736061862), (1765, 0.0), (1766, 0.0), (1767, 0.0), (1768, 0.017317753654440975), (1769, 0.0), (1770, 0.00547565653169333), (1771, 0.0), (1772, 0.02563870407700196), (1773, 0.019077280294031163), (1774, 0.0), (1775, 0.0), (1776, 0.0), (1777, 0.0096584585902973), (1778, 0.00875669564771782), (1779, 0.0), (1780, 0.0), (1781, 0.004332917124626727), (1782, 0.026435156759895488), (1783, 0.01669075352159761), (1784, 0.0), (1785, 0.0), (1786, 0.02755074609093608), (1787, 0.0), (1788, 0.03572620120314092), (1789, 0.01090260930458049), (1790, 0.0), (1791, 0.029727337746285092), (1792, 0.0), (1793, 0.029616332126900454), (1794, 0.0), (1795, 0.0), (1796, 0.004646316565111473), (1797, 0.010351014076322525), (1798, 0.019883323288530062), (1799, 0.025005757876578653), (1800, 0.0), (1801, 0.0), (1802, 0.06053539500656778), (1803, 0.0), (1804, 0.009429819945261441), (1805, 0.009663407754477988), (1806, 0.0), (1807, 0.0), (1808, 0.01686274533005653), (1809, 0.03676403593363388), (1810, 0.02337870258962328), (1811, 0.0), (1812, 0.012612565576494743), (1813, 0.0), (1814, 0.0), (1815, 0.005894870177818689), (1816, 0.008474604444041427), (1817, 0.0), (1818, 0.004825654015628246), (1819, 0.0), (1820, 0.025239307739091468), (1821, 0.0), (1822, 0.005375616095737862), (1823, 0.004711587061518798), (1824, 0.0), (1825, 0.030730999822116807), (1826, 0.0), (1827, 0.0), (1828, 0.004394016129538099), (1829, 0.01750133149020623), (1830, 0.024788180953201976), (1831, 0.0), (1832, 0.0), (1833, 0.005749529921311364), (1834, 0.0), (1835, 0.04483465484071576), (1836, 0.019695591579468878), (1837, 0.0), (1838, 0.0), (1839, 0.0), (1840, 0.0), (1841, 0.012280027781618269), (1842, 0.0), (1843, 0.016735166592262655), (1844, 0.03487382420168329), (1845, 0.0), (1846, 0.02716446488724454), (1847, 0.02049164871426124), (1848, 0.0), (1849, 0.0), (1850, 0.005791431791287865), (1851, 0.0), (1852, 0.023821154255768265), (1853, 0.005390206910422584), (1854, 0.0), (1855, 0.00628033130912558), (1856, 0.0), (1857, 0.0), (1858, 0.0), (1859, 0.009913232186896239), (1860, 0.0), (1861, 0.014759122730848407), (1862, 0.0), (1863, 0.0), (1864, 0.017061576993880306), (1865, 0.008528778370723668), (1866, 0.0), (1867, 0.0), (1868, 0.0), (1869, 0.015250338897223907), (1870, 0.004551456627263809), (1871, 0.0), (1872, 0.034043964138596255), (1873, 0.0), (1874, 0.0), (1875, 0.043715552934558054), (1876, 0.014576918826241823), (1877, 0.0), (1878, 0.008926438800334587), (1879, 0.027457330746387423), (1880, 0.0), (1881, 0.09418517648201527), (1882, 0.0), (1883, 0.05910188110858783), (1884, 0.0), (1885, 0.0), (1886, 0.009384343473513478), (1887, 0.0), (1888, 0.026660821257253862), (1889, 0.0068168544385844455), (1890, 0.016372191062736137), (1891, 0.0), (1892, 0.0), (1893, 0.0), (1894, 0.012794347757887006), (1895, 0.011122280750392698), (1896, 0.01873618008540239), (1897, 0.0), (1898, 0.011040085687103202), (1899, 0.0), (1900, 0.0), (1901, 0.029362906475100398), (1902, 0.0), (1903, 0.04114473179725581), (1904, 0.031245915948592343), (1905, 0.0), (1906, 0.04993469015477235), (1907, 0.0), (1908, 0.02458330073333232), (1909, 0.0), (1910, 0.015884412164034814), (1911, 0.025394086991696596), (1912, 0.006428514264999026), (1913, 0.0), (1914, 0.0), (1915, 0.0), (1916, 0.0), (1917, 0.0), (1918, 0.0), (1919, 0.0), (1920, 0.008692554918583003), (1921, 0.0), (1922, 0.0), (1923, 0.0), (1924, 0.018368576803629633), (1925, 0.03189927018107189), (1926, 0.02503287447098204), (1927, 0.0), (1928, 0.0), (1929, 0.0), (1930, 0.017853893248328718), (1931, 0.01206326726654467), (1932, 0.006972179168654396), (1933, 0.016418619447233454), (1934, 0.01653770184520598), (1935, 0.0), (1936, 0.027147253715209145), (1937, 0.014236510680490592), (1938, 0.022628277790959033), (1939, 0.08972158720778871), (1940, 0.01724491938203189), (1941, 0.006094953114625857), (1942, 0.0), (1943, 0.012842745193481383), (1944, 0.0), (1945, 0.011896480361580624), (1946, 0.0), (1947, 0.0), (1948, 0.03312916017210062), (1949, 0.005279366344491157), (1950, 0.0), (1951, 0.0), (1952, 0.0), (1953, 0.0), (1954, 0.0), (1955, 0.033365384345724954), (1956, 0.0), (1957, 0.0), (1958, 0.019874838227706106), (1959, 0.0), (1960, 0.0), (1961, 0.024269309142395213), (1962, 0.0), (1963, 0.0), (1964, 0.0), (1965, 0.02460703100070717), (1966, 0.017236663666201635), (1967, 0.00913307817963526), (1968, 0.02486219896074039), (1969, 0.015516417439936063), (1970, 0.0), (1971, 0.0043162850295876245), (1972, 0.0), (1973, 0.0047904692297537485), (1974, 0.025566317675280285), (1975, 0.0), (1976, 0.02550484618112308), (1977, 0.012904452011996205), (1978, 0.03256891285063961), (1979, 0.09919622315212599), (1980, 0.0), (1981, 0.014749218490631096), (1982, 0.027062290711621226), (1983, 0.0), (1984, 0.016303943557214234), (1985, 0.021392397018875867), (1986, 0.0406748315322467), (1987, 0.0108378859100926), (1988, 0.0), (1989, 0.005392983532419383), (1990, 0.0), (1991, 0.035082230478412385), (1992, 0.0), (1993, 0.0), (1994, 0.0), (1995, 0.0), (1996, 0.009033259262086797), (1997, 0.021154974784671488), (1998, 0.0), (1999, 0.007584682411489991), (2000, 0.011758007539104281), (2001, 0.0), (2002, 0.0), (2003, 0.0), (2004, 0.0), (2005, 0.0), (2006, 0.027089337982139694), (2007, 0.01716242161112641), (2008, 0.014349057360201497), (2009, 0.0), (2010, 0.009324043445434945), (2011, 0.0), (2012, 0.022824791396744662), (2013, 0.00940706214482203), (2014, 0.011743061344469044), (2015, 0.01232864720564721), (2016, 0.02757443566221622), (2017, 0.018024339442718647), (2018, 0.028207603431231177), (2019, 0.02263648596180567), (2020, 0.004343760583591357), (2021, 0.03022548627469172), (2022, 0.07518384519889793), (2023, 0.0), (2024, 0.004876431036058727), (2025, 0.00420076991726468), (2026, 0.017647355502348454), (2027, 0.016247633522702795), (2028, 0.005453772091675728), (2029, 0.0), (2030, 0.0), (2031, 0.015199502158710028), (2032, 0.0), (2033, 0.004632068448895547), (2034, 0.009727349467145981), (2035, 0.007964337254525063), (2036, 0.008558059785081515), (2037, 0.010245488960300066), (2038, 0.03302633706748011), (2039, 0.0), (2040, 0.005625870500182432), (2041, 0.02752464087837121), (2042, 0.03079319909320148), (2043, 0.014559771210309068), (2044, 0.07442322279250052), (2045, 0.011999057776299244), (2046, 0.0), (2047, 0.0), (2048, 0.0069109153149870565), (2049, 0.030841584481770663), (2050, 0.006402434875179264), (2051, 0.0), (2052, 0.0047491326320427425), (2053, 0.009706074843724228), (2054, 0.0), (2055, 0.022871879243992088), (2056, 0.0), (2057, 0.015592614803392293), (2058, 0.035803415835735014), (2059, 0.0), (2060, 0.0), (2061, 0.038069119800506104), (2062, 0.04056644922489137), (2063, 0.0), (2064, 0.019990524764118906), (2065, 0.010607520072582923), (2066, 0.013282132632759487), (2067, 0.029645420859902284), (2068, 0.0), (2069, 0.0), (2070, 0.02211593681642186), (2071, 0.0), (2072, 0.018300908206973537), (2073, 0.04482714333977121), (2074, 0.008299588058100358), (2075, 0.015470521249812002), (2076, 0.0), (2077, 0.00621045248741518), (2078, 0.01815783738672554), (2079, 0.0), (2080, 0.0), (2081, 0.005097758531437283), (2082, 0.00552448827603276), (2083, 0.03759668460381294), (2084, 0.0), (2085, 0.005305617380374772), (2086, 0.03460766648640645), (2087, 0.0), (2088, 0.04258097218447795), (2089, 0.020752921443688805), (2090, 0.018513518788963505), (2091, 0.04022721322201069), (2092, 0.0), (2093, 0.010919613502407612), (2094, 0.004818902169057124), (2095, 0.029236569904559487), (2096, 0.0), (2097, 0.0), (2098, 0.0), (2099, 0.0), (2100, 0.015496660918815288), (2101, 0.0), (2102, 0.0), (2103, 0.020650936042321176), (2104, 0.010040277506296437), (2105, 0.017121053681696103), (2106, 0.0), (2107, 0.014054497540583823), (2108, 0.0), (2109, 0.0), (2110, 0.0), (2111, 0.009208946946933898), (2112, 0.021490956256097808), (2113, 0.003984952389465658), (2114, 0.04352849574743374), (2115, 0.0), (2116, 0.0), (2117, 0.011325292174922522), (2118, 0.0267175021755671), (2119, 0.0), (2120, 0.0), (2121, 0.0), (2122, 0.03477941021125128), (2123, 0.01828067636746704), (2124, 0.010914890844566375), (2125, 0.027022121845250664), (2126, 0.0), (2127, 0.00991178151810279), (2128, 0.0), (2129, 0.0), (2130, 0.006787309982636744), (2131, 0.0), (2132, 0.0), (2133, 0.015207774650331199), (2134, 0.0), (2135, 0.016105796523150435), (2136, 0.032021257096426906), (2137, 0.0), (2138, 0.0), (2139, 0.011081150244978872), (2140, 0.01787836524737835), (2141, 0.045350568876412076), (2142, 0.0), (2143, 0.041321123921531915), (2144, 0.0), (2145, 0.0), (2146, 0.0), (2147, 0.0), (2148, 0.0), (2149, 0.0), (2150, 0.027003532632536985), (2151, 0.0), (2152, 0.0), (2153, 0.011871388380139875), (2154, 0.0), (2155, 0.10596420487410282), (2156, 0.0), (2157, 0.0), (2158, 0.03155380554362766), (2159, 0.010366780449473112), (2160, 0.0), (2161, 0.028605737407151284), (2162, 0.0), (2163, 0.0), (2164, 0.013215352588089193), (2165, 0.0), (2166, 0.004795907624868726), (2167, 0.009033938707381332), (2168, 0.0), (2169, 0.0), (2170, 0.018209002446677964), (2171, 0.03431554770810625), (2172, 0.006876126378902431), (2173, 0.0), (2174, 0.009318702033197788), (2175, 0.0), (2176, 0.0), (2177, 0.021022622612228693), (2178, 0.022207450555112283), (2179, 0.0), (2180, 0.04628693323673778), (2181, 0.00578021784621172), (2182, 0.023783170614156524), (2183, 0.021136164176412293), (2184, 0.004783602151283834), (2185, 0.010577186041586285), (2186, 0.0), (2187, 0.0), (2188, 0.04148880761820819), (2189, 0.0), (2190, 0.0), (2191, 0.00843127777593979), (2192, 0.0), (2193, 0.0), (2194, 0.0), (2195, 0.0), (2196, 0.009941826340524706), (2197, 0.017905807665802603), (2198, 0.013454550166521499), (2199, 0.03641640270081255), (2200, 0.0), (2201, 0.008745509440443647), (2202, 0.036687309152042706), (2203, 0.0), (2204, 0.007969529856262286), (2205, 0.021371026549040256), (2206, 0.004867499263238643), (2207, 0.0), (2208, 0.012513829659019277), (2209, 0.0), (2210, 0.00517756152027005), (2211, 0.0), (2212, 0.005081332450789898), (2213, 0.0), (2214, 0.0), (2215, 0.0), (2216, 0.01908298616393505), (2217, 0.02390153538832364), (2218, 0.026190404452475058), (2219, 0.0), (2220, 0.01349935292469466), (2221, 0.051312757132209355), (2222, 0.017398018448491023), (2223, 0.0), (2224, 0.004832189222283259), (2225, 0.0), (2226, 0.0), (2227, 0.012043482936696288), (2228, 0.0), (2229, 0.0), (2230, 0.03456787260582231), (2231, 0.0), (2232, 0.02230538185282206), (2233, 0.05090801777324833), (2234, 0.03753063532975679), (2235, 0.009660423262670815), (2236, 0.0), (2237, 0.039806478095577455), (2238, 0.005273720373307793), (2239, 0.004967356278396098), (2240, 0.029562482396473175), (2241, 0.005295422746282965), (2242, 0.0), (2243, 0.005462198360845367), (2244, 0.0), (2245, 0.0), (2246, 0.0), (2247, 0.0), (2248, 0.01587796942673081), (2249, 0.007021878420349952), (2250, 0.017623271890361884), (2251, 0.02052951999105527), (2252, 0.0), (2253, 0.019160791519522317), (2254, 0.0), (2255, 0.0), (2256, 0.024385696695539548), (2257, 0.0), (2258, 0.031341561361502505), (2259, 0.013960388141879478), (2260, 0.02992672211149503), (2261, 0.0), (2262, 0.008469710928781475), (2263, 0.010090064233393103), (2264, 0.0), (2265, 0.016103699377748394), (2266, 0.0), (2267, 0.0), (2268, 0.016267356988859363), (2269, 0.02058797265851642), (2270, 0.0), (2271, 0.0), (2272, 0.0), (2273, 0.0), (2274, 0.0046855955765139935), (2275, 0.006896163113356484), (2276, 0.021746273805117157), (2277, 0.04702443498949357), (2278, 0.017996061261094216), (2279, 0.0), (2280, 0.01757212314822689), (2281, 0.0), (2282, 0.0), (2283, 0.026059317862102596), (2284, 0.0), (2285, 0.012083666961961023), (2286, 0.022669528220457112), (2287, 0.011203647337314795), (2288, 0.018681139565324335), (2289, 0.0), (2290, 0.0), (2291, 0.04430373217449013), (2292, 0.0), (2293, 0.0), (2294, 0.018950629373865553), (2295, 0.0), (2296, 0.009918144304132378), (2297, 0.0), (2298, 0.01165096339837431), (2299, 0.040057606642120276), (2300, 0.0), (2301, 0.0), (2302, 0.0), (2303, 0.0), (2304, 0.01973328556366376), (2305, 0.0), (2306, 0.0), (2307, 0.0), (2308, 0.0), (2309, 0.0), (2310, 0.0), (2311, 0.008843631105137594), (2312, 0.023147991688821583), (2313, 0.0), (2314, 0.021419833021185754), (2315, 0.0046937508070904405), (2316, 0.037880279717537296), (2317, 0.008698720605178008), (2318, 0.0), (2319, 0.0), (2320, 0.0), (2321, 0.0), (2322, 0.038773956042702416), (2323, 0.0), (2324, 0.008663236240767853), (2325, 0.0), (2326, 0.047763695286823664), (2327, 0.008765235352937642), (2328, 0.0), (2329, 0.01580724124989004), (2330, 0.03123861622778658), (2331, 0.0), (2332, 0.006919344361269557), (2333, 0.0), (2334, 0.025783243890640527), (2335, 0.0), (2336, 0.0), (2337, 0.02588940188215271), (2338, 0.0), (2339, 0.0), (2340, 0.0), (2341, 0.0), (2342, 0.0), (2343, 0.0), (2344, 0.0), (2345, 0.0), (2346, 0.0), (2347, 0.008642308293158605), (2348, 0.0), (2349, 0.022261896574495243), (2350, 0.0), (2351, 0.0), (2352, 0.0057383788218604145), (2353, 0.02183556255348025), (2354, 0.016860554424021117), (2355, 0.07027001489001064), (2356, 0.013198746726335545), (2357, 0.0201381208439932), (2358, 0.0), (2359, 0.0), (2360, 0.0), (2361, 0.021052007803100473), (2362, 0.0), (2363, 0.026162629852341062), (2364, 0.019598684900127814), (2365, 0.009128376755293524), (2366, 0.0), (2367, 0.0), (2368, 0.011205111660725024), (2369, 0.0), (2370, 0.0), (2371, 0.0), (2372, 0.0), (2373, 0.0), (2374, 0.0), (2375, 0.0), (2376, 0.0), (2377, 0.0), (2378, 0.017056846510873594), (2379, 0.0), (2380, 0.016817790098835057), (2381, 0.013163848538569518), (2382, 0.013773068309485917), (2383, 0.005662176204946005), (2384, 0.0), (2385, 0.03044229469426631), (2386, 0.0), (2387, 0.01604337406358723), (2388, 0.0), (2389, 0.010531691324024836), (2390, 0.0), (2391, 0.01717252663919373), (2392, 0.0), (2393, 0.0), (2394, 0.0), (2395, 0.0), (2396, 0.0), (2397, 0.0), (2398, 0.0), (2399, 0.013378777337907367), (2400, 0.0), (2401, 0.0), (2402, 0.014560899983475997), (2403, 0.022441838990652076), (2404, 0.0), (2405, 0.0), (2406, 0.0), (2407, 0.0), (2408, 0.0), (2409, 0.008953992925061995), (2410, 0.0), (2411, 0.022048157885115754), (2412, 0.004421726503102626), (2413, 0.030991797789255527), (2414, 0.006768294152921739), (2415, 0.037553833327947206), (2416, 0.016600803389181098), (2417, 0.0), (2418, 0.015640097035559443), (2419, 0.0), (2420, 0.018867107319650623), (2421, 0.05849689683498266), (2422, 0.014322608291375135), (2423, 0.0), (2424, 0.004615740081912828), (2425, 0.0), (2426, 0.010641996842669223), (2427, 0.030853334145381835), (2428, 0.013029874558930767), (2429, 0.004720492980834439), (2430, 0.00953833137846371), (2431, 0.0), (2432, 0.022006951394595804), (2433, 0.010339364494883437), (2434, 0.0), (2435, 0.03172368186913766), (2436, 0.0), (2437, 0.0), (2438, 0.0), (2439, 0.01874475468726246), (2440, 0.0), (2441, 0.0), (2442, 0.027478157670849608), (2443, 0.011649884750451967), (2444, 0.027093983086019666), (2445, 0.0), (2446, 0.0), (2447, 0.0), (2448, 0.019269480486981478), (2449, 0.0), (2450, 0.022732179334183714), (2451, 0.026263277233811572), (2452, 0.0), (2453, 0.00815178446626866), (2454, 0.0), (2455, 0.0), (2456, 0.016594692874467725), (2457, 0.0), (2458, 0.0), (2459, 0.006198248287516133), (2460, 0.0), (2461, 0.015589315536121189), (2462, 0.015809217900245445), (2463, 0.0), (2464, 0.0), (2465, 0.027856366595188843), (2466, 0.01515306653337635), (2467, 0.0), (2468, 0.023189695657926217), (2469, 0.0), (2470, 0.02391068338060151), (2471, 0.017535238172732323), (2472, 0.03940975014809207), (2473, 0.006394662879120121), (2474, 0.06388355189570183), (2475, 0.0), (2476, 0.005790407528548497), (2477, 0.0), (2478, 0.0), (2479, 0.049469252644954415), (2480, 0.0), (2481, 0.0), (2482, 0.0), (2483, 0.0), (2484, 0.08209188508706428), (2485, 0.0), (2486, 0.0), (2487, 0.016294653199059178), (2488, 0.0), (2489, 0.0), (2490, 0.036104874450647674), (2491, 0.014823976661154556), (2492, 0.016949181168664666), (2493, 0.015409069474226458), (2494, 0.0), (2495, 0.01684227232554772), (2496, 0.01658893796268526), (2497, 0.046661113177593236), (2498, 0.01739674820761725), (2499, 0.005414356903725497), (2500, 0.024749577899417827), (2501, 0.029687819668902896), (2502, 0.01418576735530745), (2503, 0.0), (2504, 0.006555711479883972), (2505, 0.0), (2506, 0.011845191562970113), (2507, 0.031364330943041835), (2508, 0.0), (2509, 0.0), (2510, 0.0), (2511, 0.015293864404696128), (2512, 0.06550757027323911), (2513, 0.004722950895579817), (2514, 0.008446286326607641), (2515, 0.0), (2516, 0.0), (2517, 0.008937066688861723), (2518, 0.0), (2519, 0.0), (2520, 0.008149804245588314), (2521, 0.02972417683657213), (2522, 0.012583420873558404), (2523, 0.0), (2524, 0.0), (2525, 0.008852661608046174), (2526, 0.015931317412974797), (2527, 0.04423060931222241), (2528, 0.0), (2529, 0.0), (2530, 0.015006415319371283), (2531, 0.0), (2532, 0.00758021594849317), (2533, 0.0), (2534, 0.019620873762386522), (2535, 0.0), (2536, 0.0), (2537, 0.020240844236043394), (2538, 0.0056250773423423385), (2539, 0.042973549706389884), (2540, 0.02986698349651385), (2541, 0.029235426671853457), (2542, 0.0), (2543, 0.0), (2544, 0.014604109224971016), (2545, 0.0), (2546, 0.0), (2547, 0.0067058563287570195), (2548, 0.0), (2549, 0.01875885728179654), (2550, 0.0), (2551, 0.006822375635270885), (2552, 0.038825545695606235), (2553, 0.009165395622374669), (2554, 0.011910847069385905), (2555, 0.013426320264618184), (2556, 0.0), (2557, 0.0), (2558, 0.0), (2559, 0.015520907658132604), (2560, 0.010790000943582777), (2561, 0.0), (2562, 0.005055514091703302), (2563, 0.071087500134384), (2564, 0.0), (2565, 0.0), (2566, 0.0), (2567, 0.08022654817161642), (2568, 0.0), (2569, 0.0066347109165898486), (2570, 0.03043185692932006), (2571, 0.017138328874214452), (2572, 0.0), (2573, 0.01871498536199047), (2574, 0.07642499128756541), (2575, 0.007338822912602072), (2576, 0.00576100193108372), (2577, 0.0), (2578, 0.01658087382407257), (2579, 0.0), (2580, 0.008395670832507092), (2581, 0.04323957882460481), (2582, 0.018017781127718912), (2583, 0.0), (2584, 0.017077780406752167), (2585, 0.0), (2586, 0.0), (2587, 0.013093907938379805), (2588, 0.0), (2589, 0.01745841962991266), (2590, 0.006250520534364684), (2591, 0.0), (2592, 0.0), (2593, 0.014834191323727383), (2594, 0.06230660726596639), (2595, 0.0), (2596, 0.0), (2597, 0.029164389879924004), (2598, 0.0), (2599, 0.019172391969497174), (2600, 0.006424689889217079), (2601, 0.009804578504306249), (2602, 0.0), (2603, 0.035186925896596444), (2604, 0.0), (2605, 0.043109736190492326), (2606, 0.0), (2607, 0.0), (2608, 0.0), (2609, 0.0071618126522655125), (2610, 0.0), (2611, 0.0), (2612, 0.016267509603305697), (2613, 0.0), (2614, 0.017458138026022404), (2615, 0.043962142318079024), (2616, 0.011544183318767734), (2617, 0.05728339042167178), (2618, 0.01689444714711753), (2619, 0.0), (2620, 0.0), (2621, 0.0), (2622, 0.027346488708749568), (2623, 0.0), (2624, 0.0), (2625, 0.00585067115342859), (2626, 0.005588895625107521), (2627, 0.0), (2628, 0.0), (2629, 0.0), (2630, 0.0), (2631, 0.0), (2632, 0.009180303187290174), (2633, 0.0), (2634, 0.004758226628691904), (2635, 0.0), (2636, 0.01880659879848283), (2637, 0.017302608007805004), (2638, 0.0), (2639, 0.0), (2640, 0.01235363725346322), (2641, 0.011313983873515045), (2642, 0.028391388922603216), (2643, 0.0), (2644, 0.025318284749347254), (2645, 0.00655364050047356), (2646, 0.022435890622737806), (2647, 0.011958316950224028), (2648, 0.0), (2649, 0.0), (2650, 0.0), (2651, 0.0), (2652, 0.0), (2653, 0.0), (2654, 0.0), (2655, 0.0), (2656, 0.0), (2657, 0.05559379437101475), (2658, 0.0), (2659, 0.007335284184652208), (2660, 0.006138833460876424), (2661, 0.0), (2662, 0.0), (2663, 0.009191089117891469), (2664, 0.0), (2665, 0.02773893906957469), (2666, 0.03179078808008838), (2667, 0.006939074626572018), (2668, 0.031456318070225725), (2669, 0.03704557110092487), (2670, 0.005450753407265064), (2671, 0.019276540069790488), (2672, 0.01323360089843818), (2673, 0.0), (2674, 0.004687656408436338), (2675, 0.0), (2676, 0.005839366569265636), (2677, 0.0), (2678, 0.0), (2679, 0.0), (2680, 0.02188504793206828), (2681, 0.014185311109794985), (2682, 0.05617355008245847), (2683, 0.0), (2684, 0.0), (2685, 0.0), (2686, 0.024949807166415407), (2687, 0.009249378693780747), (2688, 0.005760561073123461), (2689, 0.024202357361383955), (2690, 0.0), (2691, 0.030738867381126255), (2692, 0.0), (2693, 0.0), (2694, 0.0), (2695, 0.017683181891171813), (2696, 0.0), (2697, 0.004168919206727334), (2698, 0.009159704039243509), (2699, 0.0), (2700, 0.0), (2701, 0.0), (2702, 0.0), (2703, 0.0), (2704, 0.0), (2705, 0.0), (2706, 0.004841301429233157), (2707, 0.013857209135040228), (2708, 0.018081214167285656), (2709, 0.0), (2710, 0.013275312241219526), (2711, 0.02172433565374112), (2712, 0.010044802782462454), (2713, 0.028944342518490998), (2714, 0.00538943874392589), (2715, 0.032192031572864786), (2716, 0.0), (2717, 0.0), (2718, 0.024334613757749493), (2719, 0.0), (2720, 0.02570966151308493), (2721, 0.0), (2722, 0.0), (2723, 0.0), (2724, 0.015762709699249398), (2725, 0.017235261904649482), (2726, 0.0), (2727, 0.0), (2728, 0.01607587623228518), (2729, 0.03152113700561977), (2730, 0.011551061466277013), (2731, 0.0), (2732, 0.0), (2733, 0.03107624319852698), (2734, 0.0), (2735, 0.0), (2736, 0.014049348183113146), (2737, 0.0), (2738, 0.0), (2739, 0.0), (2740, 0.01512014777441537), (2741, 0.006045643809408121), (2742, 0.00472803457927096), (2743, 0.0), (2744, 0.0), (2745, 0.0), (2746, 0.0), (2747, 0.0), (2748, 0.0), (2749, 0.026889522143953702), (2750, 0.01109057280249996), (2751, 0.013744287896364987), (2752, 0.0), (2753, 0.0), (2754, 0.0053388409284783325), (2755, 0.024101416021194155), (2756, 0.02135453570870657), (2757, 0.0), (2758, 0.0), (2759, 0.009160756817416705), (2760, 0.0), (2761, 0.012697196276759292), (2762, 0.0), (2763, 0.031021128583930344), (2764, 0.0), (2765, 0.0), (2766, 0.007459722400224064), (2767, 0.003972929162676839), (2768, 0.04284709536645646), (2769, 0.029567174061338464), (2770, 0.02687021094271204), (2771, 0.0), (2772, 0.00603229985202256), (2773, 0.0), (2774, 0.009434626071850263), (2775, 0.0), (2776, 0.010125401102994407), (2777, 0.004711940564009187), (2778, 0.006157566190394894), (2779, 0.0), (2780, 0.005272747173028015), (2781, 0.010688833964306402), (2782, 0.017897833698727463), (2783, 0.0), (2784, 0.0), (2785, 0.03530236317617935), (2786, 0.0), (2787, 0.004842249725255379), (2788, 0.005184351668834886), (2789, 0.01474482778311235), (2790, 0.018650965101153685), (2791, 0.004670238440639063), (2792, 0.0), (2793, 0.0), (2794, 0.029922712775706902), (2795, 0.006431002949121441), (2796, 0.0), (2797, 0.0), (2798, 0.017934599818717943), (2799, 0.028036999155895918), (2800, 0.0), (2801, 0.008064658944002904), (2802, 0.0), (2803, 0.010744722813132754), (2804, 0.05815864876008873), (2805, 0.0), (2806, 0.023776861530059472), (2807, 0.009222998963497313), (2808, 0.0), (2809, 0.009895645954016591), (2810, 0.05685461899203505), (2811, 0.005576619735415335), (2812, 0.0), (2813, 0.034524725840867035), (2814, 0.0), (2815, 0.021295638792420926), (2816, 0.015266881430032794), (2817, 0.010024655320167164), (2818, 0.0), (2819, 0.005394557272050842), (2820, 0.021485080302607595), (2821, 0.03178829508305635), (2822, 0.010189622585949798), (2823, 0.0), (2824, 0.017282016786657528), (2825, 0.005030653521043224), (2826, 0.021321384697741086), (2827, 0.014956642417616012), (2828, 0.017146489325770377), (2829, 0.00900718224664374), (2830, 0.023894112344920712), (2831, 0.0), (2832, 0.021100412437715082), (2833, 0.01433159535839185), (2834, 0.0), (2835, 0.0), (2836, 0.01464019553202142), (2837, 0.021370375367341515), (2838, 0.0), (2839, 0.0), (2840, 0.005679608574886855), (2841, 0.0), (2842, 0.004402795629048701), (2843, 0.04026568571251331), (2844, 0.026557176083751098), (2845, 0.008653052528016946), (2846, 0.0), (2847, 0.011657083461073175), (2848, 0.0), (2849, 0.01867147650497041), (2850, 0.04534506969226146), (2851, 0.0), (2852, 0.010498715687225572), (2853, 0.0), (2854, 0.09067406550627026), (2855, 0.0), (2856, 0.01651449639622959), (2857, 0.030921358447594353), (2858, 0.0), (2859, 0.013988699788765817), (2860, 0.0320559210248756), (2861, 0.0), (2862, 0.004745822133041998), (2863, 0.0), (2864, 0.005788486064871912), (2865, 0.0), (2866, 0.014961508146013823), (2867, 0.00523636022607072), (2868, 0.013651014943829799), (2869, 0.0), (2870, 0.0), (2871, 0.0), (2872, 0.0), (2873, 0.0), (2874, 0.018071595780348323), (2875, 0.0), (2876, 0.014750517632729075), (2877, 0.0), (2878, 0.0), (2879, 0.0), (2880, 0.024523602336690844), (2881, 0.005767440743115329), (2882, 0.0), (2883, 0.0), (2884, 0.0), (2885, 0.004773954446716475), (2886, 0.0), (2887, 0.006803524070518482), (2888, 0.012789599380850426), (2889, 0.0), (2890, 0.016281361446329003), (2891, 0.02277476075894566), (2892, 0.0), (2893, 0.0), (2894, 0.0), (2895, 0.014132457308710135), (2896, 0.0), (2897, 0.0), (2898, 0.05144391521717726), (2899, 0.021462281685417604), (2900, 0.024970310836640853), (2901, 0.0), (2902, 0.0), (2903, 0.005710748869229916), (2904, 0.02025234684234545), (2905, 0.0), (2906, 0.0), (2907, 0.0), (2908, 0.011647177224154679), (2909, 0.0), (2910, 0.004982468571919212), (2911, 0.0), (2912, 0.00910319383085978), (2913, 0.00417688663326263), (2914, 0.0), (2915, 0.0), (2916, 0.0), (2917, 0.01326711202787747), (2918, 0.004906104277690644), (2919, 0.0), (2920, 0.006143499263737834), (2921, 0.019762225165997856), (2922, 0.04625600692330794), (2923, 0.0), (2924, 0.0), (2925, 0.0), (2926, 0.0), (2927, 0.0296329699320397), (2928, 0.0), (2929, 0.0), (2930, 0.0), (2931, 0.0), (2932, 0.0), (2933, 0.0), (2934, 0.0), (2935, 0.012872237027951516), (2936, 0.0), (2937, 0.01695415390779965), (2938, 0.0), (2939, 0.0), (2940, 0.012619639730388202), (2941, 0.0), (2942, 0.020902886141853396), (2943, 0.005074069838700704), (2944, 0.030581777867392496), (2945, 0.024520739781328217), (2946, 0.0), (2947, 0.005219421709926679), (2948, 0.006631575882228124), (2949, 0.0), (2950, 0.044861127429874914), (2951, 0.0), (2952, 0.020212688155041427), (2953, 0.0), (2954, 0.015379784035398799), (2955, 0.047371838539192655), (2956, 0.02403034497882294), (2957, 0.0682651682134753), (2958, 0.004744178210532723), (2959, 0.005360862011155663), (2960, 0.01204215453827498), (2961, 0.017384442757496423), (2962, 0.02909241805716937), (2963, 0.005437252453498137), (2964, 0.0), (2965, 0.0), (2966, 0.0), (2967, 0.0), (2968, 0.0), (2969, 0.004223555139167665), (2970, 0.01713776944824026), (2971, 0.00443092221037486), (2972, 0.0), (2973, 0.0), (2974, 0.0), (2975, 0.0), (2976, 0.0), (2977, 0.0), (2978, 0.0), (2979, 0.005532556174101459), (2980, 0.0), (2981, 0.05550240544945958), (2982, 0.020187476126206468), (2983, 0.0), (2984, 0.0), (2985, 0.0), (2986, 0.0), (2987, 0.0), (2988, 0.0), (2989, 0.027655449302195385), (2990, 0.006855223812594428), (2991, 0.0), (2992, 0.004748166632442189), (2993, 0.0), (2994, 0.0), (2995, 0.0168120136902624), (2996, 0.0103460729938432), (2997, 0.0), (2998, 0.01772516533069329), (2999, 0.0), (3000, 0.009625679535734727), (3001, 0.06080737956367353), (3002, 0.005146229954370226), (3003, 0.047446879847448914), (3004, 0.0), (3005, 0.017850715513004295), (3006, 0.0), (3007, 0.0), (3008, 0.0), (3009, 0.0), (3010, 0.009065661297423012), (3011, 0.06274026652061833), (3012, 0.0), (3013, 0.0), (3014, 0.025547926645186833), (3015, 0.0), (3016, 0.0), (3017, 0.0), (3018, 0.0), (3019, 0.0), (3020, 0.021440760618371503), (3021, 0.01674153779444423), (3022, 0.03749822162397856), (3023, 0.0), (3024, 0.004212565318242388), (3025, 0.0), (3026, 0.0), (3027, 0.0), (3028, 0.0), (3029, 0.0), (3030, 0.0), (3031, 0.0), (3032, 0.0), (3033, 0.0), (3034, 0.014850912534325807), (3035, 0.0), (3036, 0.0), (3037, 0.0), (3038, 0.0), (3039, 0.0), (3040, 0.03906846772540386), (3041, 0.0), (3042, 0.0), (3043, 0.0), (3044, 0.00555091464479975), (3045, 0.026617864698615525), (3046, 0.02834813577001209), (3047, 0.016108356065178752), (3048, 0.018790672407249034), (3049, 0.0), (3050, 0.0), (3051, 0.02530335953002627), (3052, 0.0), (3053, 0.0), (3054, 0.0), (3055, 0.0), (3056, 0.0), (3057, 0.0), (3058, 0.006654328394436887), (3059, 0.024459040086150723), (3060, 0.02758801507403922), (3061, 0.0), (3062, 0.013089800687111765), (3063, 0.06275489814955028), (3064, 0.005541112558177607), (3065, 0.010028683663387303), (3066, 0.0), (3067, 0.015883654783736448), (3068, 0.015762647861612092), (3069, 0.0), (3070, 0.004548893687484188), (3071, 0.0), (3072, 0.0), (3073, 0.04133378935190409), (3074, 0.019726380382564197), (3075, 0.0), (3076, 0.0), (3077, 0.0), (3078, 0.0), (3079, 0.016348208173957907), (3080, 0.01977229747289225), (3081, 0.0), (3082, 0.02413873403230504), (3083, 0.015657968338986573), (3084, 0.0), (3085, 0.004864809587830777), (3086, 0.0), (3087, 0.018614848199400447), (3088, 0.0), (3089, 0.02155258353414048), (3090, 0.0), (3091, 0.013489129990331574), (3092, 0.0), (3093, 0.0), (3094, 0.05303690418963104), (3095, 0.0), (3096, 0.046361926126889205), (3097, 0.021885111735953373), (3098, 0.01708107584029671), (3099, 0.01050190466006849), (3100, 0.027598843153084918), (3101, 0.0), (3102, 0.0), (3103, 0.0), (3104, 0.016040683357421197), (3105, 0.023350381282034934), (3106, 0.0), (3107, 0.0), (3108, 0.0), (3109, 0.0), (3110, 0.0), (3111, 0.008414326802770997), (3112, 0.005475882764631818), (3113, 0.009588828568600886), (3114, 0.027313694291087123), (3115, 0.030897282472524427), (3116, 0.0), (3117, 0.010777551391484619), (3118, 0.0), (3119, 0.0), (3120, 0.008703939917426204), (3121, 0.015050496179787081), (3122, 0.042472010429395426), (3123, 0.02163705534720539), (3124, 0.01225813645783708), (3125, 0.0), (3126, 0.004876799156680758), (3127, 0.03139980747951664), (3128, 0.0), (3129, 0.010143930763854852), (3130, 0.004645677662795729), (3131, 0.03161001980878955), (3132, 0.03132491907132532), (3133, 0.04360314908653039), (3134, 0.03083724998747025), (3135, 0.0110584726545831), (3136, 0.011011946309924584), (3137, 0.0), (3138, 0.0), (3139, 0.0), (3140, 0.0), (3141, 0.03978693682570608), (3142, 0.0), (3143, 0.0047295143503489605), (3144, 0.0), (3145, 0.020888657440505897), (3146, 0.0), (3147, 0.0), (3148, 0.0), (3149, 0.017035577829868805), (3150, 0.015437608732130358), (3151, 0.0), (3152, 0.012575948585743782), (3153, 0.0), (3154, 0.0), (3155, 0.0), (3156, 0.02685764290209151), (3157, 0.0), (3158, 0.019881816124944513), (3159, 0.0), (3160, 0.02337250369908937), (3161, 0.005023710611106697), (3162, 0.009803274632848502), (3163, 0.012850992836967761), (3164, 0.0), (3165, 0.00584897872753973), (3166, 0.04558210684318839), (3167, 0.0), (3168, 0.005734181194491014), (3169, 0.02034663847185911), (3170, 0.0), (3171, 0.0), (3172, 0.013747932440329834), (3173, 0.0), (3174, 0.03297970768867863), (3175, 0.01007412478772634), (3176, 0.0), (3177, 0.0), (3178, 0.0), (3179, 0.0), (3180, 0.0393841405888697), (3181, 0.02487913214443921), (3182, 0.025517911538121715), (3183, 0.01029485002314682), (3184, 0.0), (3185, 0.034525640694292745), (3186, 0.0), (3187, 0.0), (3188, 0.0), (3189, 0.0), (3190, 0.0), (3191, 0.02350474814987323), (3192, 0.005625703384646577), (3193, 0.02775450914784456), (3194, 0.05266764415497983), (3195, 0.00925175780799447), (3196, 0.0), (3197, 0.0), (3198, 0.0), (3199, 0.0), (3200, 0.0), (3201, 0.032571049850073995), (3202, 0.012837100679365419), (3203, 0.0), (3204, 0.023642122315568476), (3205, 0.008782408347733518), (3206, 0.014285092577218318), (3207, 0.0), (3208, 0.007058324671908095), (3209, 0.0), (3210, 0.005136618466314347), (3211, 0.0), (3212, 0.020766312692016363), (3213, 0.004268681901167916), (3214, 0.0), (3215, 0.034020864247211714), (3216, 0.0), (3217, 0.0), (3218, 0.0), (3219, 0.02201224123398147), (3220, 0.0), (3221, 0.005695606195966519), (3222, 0.0), (3223, 0.018940972796460957), (3224, 0.009787897261322556), (3225, 0.023396248258345794), (3226, 0.0), (3227, 0.00513457306708298), (3228, 0.0), (3229, 0.009763918563659794), (3230, 0.0), (3231, 0.03031652025425869), (3232, 0.027347160900788807), (3233, 0.018249016379574434), (3234, 0.0), (3235, 0.020757214497247004), (3236, 0.0), (3237, 0.0), (3238, 0.0138367398861569), (3239, 0.0), (3240, 0.0), (3241, 0.005312660355416041), (3242, 0.0), (3243, 0.0), (3244, 0.00861210376602917), (3245, 0.0), (3246, 0.0), (3247, 0.020649051826914858), (3248, 0.0), (3249, 0.0), (3250, 0.0), (3251, 0.0), (3252, 0.023501012112334418), (3253, 0.005790951229338541), (3254, 0.0), (3255, 0.0), (3256, 0.010959071446513244), (3257, 0.0), (3258, 0.0), (3259, 0.005370508217314465), (3260, 0.0), (3261, 0.0), (3262, 0.0), (3263, 0.005547697089024739), (3264, 0.0), (3265, 0.0), (3266, 0.0), (3267, 0.0046206891043370415), (3268, 0.0), (3269, 0.0), (3270, 0.08222565462322233), (3271, 0.0), (3272, 0.006833829970946254), (3273, 0.0), (3274, 0.0), (3275, 0.026594531911254875), (3276, 0.01782291999019297), (3277, 0.0), (3278, 0.0), (3279, 0.008055841943711627), (3280, 0.0), (3281, 0.0), (3282, 0.0), (3283, 0.0), (3284, 0.03803359171724485), (3285, 0.024151656032728102), (3286, 0.006518955845395364), (3287, 0.006941340208037505), (3288, 0.0), (3289, 0.0), (3290, 0.0), (3291, 0.0), (3292, 0.0), (3293, 0.0), (3294, 0.01636112035805139), (3295, 0.014631876499391348), (3296, 0.0), (3297, 0.005411015055770853), (3298, 0.04893724974770759), (3299, 0.01934832120595609), (3300, 0.025505080736086688), (3301, 0.0), (3302, 0.01145459912113312), (3303, 0.032692818879730974), (3304, 0.0), (3305, 0.018692758379710097), (3306, 0.004668592426999212), (3307, 0.0), (3308, 0.0), (3309, 0.0), (3310, 0.005312422588060798), (3311, 0.013110722127593916), (3312, 0.005914683743203634), (3313, 0.02110958237045435), (3314, 0.0), (3315, 0.0), (3316, 0.023033482856531652), (3317, 0.0), (3318, 0.0), (3319, 0.016512972078756107), (3320, 0.017659758792286366), (3321, 0.015584772231786226), (3322, 0.0), (3323, 0.1328619564932534), (3324, 0.0), (3325, 0.0), (3326, 0.0), (3327, 0.006022657846418513), (3328, 0.007760482566436542), (3329, 0.008594712466911503), (3330, 0.0), (3331, 0.01478694980887261), (3332, 0.03803623433650212), (3333, 0.0), (3334, 0.0), (3335, 0.0), (3336, 0.034161018646129464), (3337, 0.017024872650677616), (3338, 0.008758730885627349), (3339, 0.0043824041056241955), (3340, 0.005047947101846289), (3341, 0.0), (3342, 0.01246990849977204), (3343, 0.005087221234495749), (3344, 0.007984159138102196), (3345, 0.0), (3346, 0.006696633350005133), (3347, 0.0), (3348, 0.0), (3349, 0.0), (3350, 0.0), (3351, 0.0), (3352, 0.0), (3353, 0.0386045196672619), (3354, 0.0), (3355, 0.0), (3356, 0.013320794296331678), (3357, 0.03477396887322534), (3358, 0.01951971138213747), (3359, 0.018711490834298707), (3360, 0.026890446512678207), (3361, 0.04193591850573389), (3362, 0.0), (3363, 0.018401712816478358), (3364, 0.0), (3365, 0.010220981663941218), (3366, 0.04807207687798134), (3367, 0.06988999767419121), (3368, 0.022290561458373964), (3369, 0.0), (3370, 0.00912553223750125), (3371, 0.01634480659701446), (3372, 0.0), (3373, 0.005731570653771344), (3374, 0.019696855660251606), (3375, 0.016328727988452196), (3376, 0.0), (3377, 0.007857095863150882), (3378, 0.0), (3379, 0.0), (3380, 0.022236790874397356), (3381, 0.015886350530232535), (3382, 0.018429043547861727), (3383, 0.005766147381038655), (3384, 0.023268326463799394), (3385, 0.019881317716631867), (3386, 0.0), (3387, 0.007414699724459317), (3388, 0.0), (3389, 0.04729724623910196), (3390, 0.0), (3391, 0.0), (3392, 0.0), (3393, 0.008085615027111453), (3394, 0.005855696248870936), (3395, 0.0061682259632214), (3396, 0.0), (3397, 0.0060258423575736565), (3398, 0.0), (3399, 0.008783280528440256), (3400, 0.009193977026816819), (3401, 0.0), (3402, 0.0), (3403, 0.0), (3404, 0.012012577098812609), (3405, 0.02511197881830265), (3406, 0.0), (3407, 0.0), (3408, 0.09564937476935083), (3409, 0.0), (3410, 0.0), (3411, 0.008248213582374504), (3412, 0.02639383191066501), (3413, 0.0), (3414, 0.03767830331023526), (3415, 0.0), (3416, 0.005087606255335039), (3417, 0.0), (3418, 0.0), (3419, 0.01362548478412075), (3420, 0.008704374922565537), (3421, 0.011653082624038455), (3422, 0.0), (3423, 0.01688291601538491), (3424, 0.005579331674874632), (3425, 0.0), (3426, 0.006246082879054125), (3427, 0.029657316606508655), (3428, 0.0687240672080485), (3429, 0.003462316117120466), (3430, 0.0), (3431, 0.0), (3432, 0.005055068644493796), (3433, 0.0), (3434, 0.0), (3435, 0.0), (3436, 0.0), (3437, 0.0), (3438, 0.01260453662559161), (3439, 0.008709009259655363), (3440, 0.005916708730204961), (3441, 0.005050546212949563), (3442, 0.0), (3443, 0.021636595468252653), (3444, 0.007401365365659077), (3445, 0.005215242011787816), (3446, 0.0), (3447, 0.009186554937641974), (3448, 0.014322819930845141), (3449, 0.0), (3450, 0.005914270790123218), (3451, 0.005458185696254103), (3452, 0.0417765227567697), (3453, 0.0251122418417866), (3454, 0.025982532227941085), (3455, 0.0), (3456, 0.04657121304370902), (3457, 0.0), (3458, 0.0), (3459, 0.013169798911955653), (3460, 0.0), (3461, 0.007157200264942388), (3462, 0.0), (3463, 0.030478208763291194), (3464, 0.005397012523983682), (3465, 0.004836938187116536), (3466, 0.06595956650654046), (3467, 0.0489663105047033), (3468, 0.07906619615212551), (3469, 0.03308750478680213), (3470, 0.0), (3471, 0.0), (3472, 0.00645152037928258), (3473, 0.0), (3474, 0.0), (3475, 0.0), (3476, 0.0), (3477, 0.016702215648129917), (3478, 0.0), (3479, 0.0), (3480, 0.021817468021805668), (3481, 0.0), (3482, 0.006755591315114705), (3483, 0.05023628679564955), (3484, 0.014752131300585223), (3485, 0.0), (3486, 0.012055132034197072), (3487, 0.009039026563020604), (3488, 0.0), (3489, 0.0), (3490, 0.0), (3491, 0.0), (3492, 0.021442965095292137), (3493, 0.0), (3494, 0.0), (3495, 0.0), (3496, 0.0), (3497, 0.0), (3498, 0.030695241605937354), (3499, 0.0), (3500, 0.0), (3501, 0.0), (3502, 0.045038775326883454), (3503, 0.009014907111990088), (3504, 0.016916480432213044), (3505, 0.0), (3506, 0.0), (3507, 0.005278984994319262), (3508, 0.01916218939017249), (3509, 0.030589349262570426), (3510, 0.017333427189424027), (3511, 0.0), (3512, 0.0), (3513, 0.023920878483730174), (3514, 0.023754161257552236), (3515, 0.1001467481147079), (3516, 0.024830558926158864), (3517, 0.01527733733847409), (3518, 0.0), (3519, 0.0), (3520, 0.030448284383038197), (3521, 0.0), (3522, 0.00521182843698815), (3523, 0.021151494857501445), (3524, 0.02290913817417741), (3525, 0.0044271854105398765), (3526, 0.009076889655042837), (3527, 0.0), (3528, 0.021031578863109513), (3529, 0.010330578747672728), (3530, 0.033686902074692916), (3531, 0.00493923325612289), (3532, 0.0340175480630626), (3533, 0.02578222365928621), (3534, 0.0), (3535, 0.0), (3536, 0.0), (3537, 0.03984763623589516), (3538, 0.012820333105064243), (3539, 0.026687813408413787), (3540, 0.017209262323774517), (3541, 0.0), (3542, 0.018149501243996526), (3543, 0.0), (3544, 0.0), (3545, 0.0), (3546, 0.005009518611388316), (3547, 0.0), (3548, 0.0), (3549, 0.0), (3550, 0.049353059850419864), (3551, 0.0), (3552, 0.0), (3553, 0.0), (3554, 0.006164437012434894), (3555, 0.01144315880180979), (3556, 0.004553247522021707), (3557, 0.0), (3558, 0.008679389128619696), (3559, 0.043104657717563076), (3560, 0.013266093778989482), (3561, 0.0), (3562, 0.0), (3563, 0.0), (3564, 0.0), (3565, 0.0), (3566, 0.02016690964476059), (3567, 0.006433088792094214), (3568, 0.011323192499442632), (3569, 0.0), (3570, 0.0), (3571, 0.0), (3572, 0.0), (3573, 0.0), (3574, 0.010313782847971683), (3575, 0.0), (3576, 0.018016347899614718), (3577, 0.0), (3578, 0.01694989775423642), (3579, 0.008024747309294528), (3580, 0.0), (3581, 0.017674759120361067), (3582, 0.011374132780967775), (3583, 0.017149030186269256), (3584, 0.0), (3585, 0.023543865313198138), (3586, 0.012706500886111497), (3587, 0.007563663914441084), (3588, 0.00625671016459895), (3589, 0.008669513721992221), (3590, 0.0), (3591, 0.005314853162965949), (3592, 0.0), (3593, 0.005684619189356099), (3594, 0.03236539048644116), (3595, 0.021844175698952566), (3596, 0.0), (3597, 0.012083516289461114), (3598, 0.020854327492541992), (3599, 0.0), (3600, 0.010646495251311125), (3601, 0.0), (3602, 0.005007128890809646), (3603, 0.005189560125356372), (3604, 0.0055932310955202486), (3605, 0.037928313962308044), (3606, 0.0), (3607, 0.011296119736851275), (3608, 0.0), (3609, 0.004788307736323978), (3610, 0.0), (3611, 0.0), (3612, 0.0), (3613, 0.0), (3614, 0.0), (3615, 0.0), (3616, 0.021962654499692338), (3617, 0.0), (3618, 0.0), (3619, 0.02883081413264589), (3620, 0.0), (3621, 0.0), (3622, 0.0), (3623, 0.023552339806642366), (3624, 0.0), (3625, 0.017267884935697968), (3626, 0.0), (3627, 0.0), (3628, 0.012911197927060771), (3629, 0.011532978031540395), (3630, 0.032214323446575405), (3631, 0.0), (3632, 0.0), (3633, 0.0), (3634, 0.014998114376562262), (3635, 0.0377010074404568), (3636, 0.0), (3637, 0.012674963641594612), (3638, 0.03264781047191151), (3639, 0.0), (3640, 0.0), (3641, 0.02361652638170512), (3642, 0.005522114672246349), (3643, 0.0), (3644, 0.0), (3645, 0.003838342364984529), (3646, 0.0), (3647, 0.0), (3648, 0.016635935363899408), (3649, 0.0), (3650, 0.0), (3651, 0.010754697181394218), (3652, 0.0), (3653, 0.0), (3654, 0.0), (3655, 0.0), (3656, 0.017944737729063742), (3657, 0.00996362727412033), (3658, 0.0042791573496783605), (3659, 0.010246322976259443), (3660, 0.004910751126485675), (3661, 0.0), (3662, 0.014747512682114133), (3663, 0.0), (3664, 0.0), (3665, 0.026998276879755062), (3666, 0.0), (3667, 0.0), (3668, 0.012267734304417827), (3669, 0.0), (3670, 0.0), (3671, 0.021984485171663647), (3672, 0.035595468660114586), (3673, 0.05361372933438348), (3674, 0.007935866838532103), (3675, 0.0), (3676, 0.005146115243535294), (3677, 0.0), (3678, 0.0375082862913477), (3679, 0.0), (3680, 0.005758477974930613), (3681, 0.0), (3682, 0.0), (3683, 0.02778137046631467), (3684, 0.0183731909122045), (3685, 0.02398967480765657), (3686, 0.0), (3687, 0.0), (3688, 0.019655447480905697), (3689, 0.0), (3690, 0.03019425998036755), (3691, 0.0), (3692, 0.024582518944923262), (3693, 0.02520892066809871), (3694, 0.0), (3695, 0.017627382027102644), (3696, 0.0), (3697, 0.013007231288297418), (3698, 0.0050577007068472795), (3699, 0.0), (3700, 0.01121479609275916), (3701, 0.0), (3702, 0.044216395180817915), (3703, 0.0076008952191497555), (3704, 0.0), (3705, 0.023748721555110763), (3706, 0.020661113685843474), (3707, 0.00518287740034239), (3708, 0.005879673179421161), (3709, 0.03299728420591963), (3710, 0.005413778618682901), (3711, 0.0), (3712, 0.0), (3713, 0.016234200996838966), (3714, 0.03779995102615931), (3715, 0.006571124728839006), (3716, 0.00844958792590485), (3717, 0.0), (3718, 0.057119286061857476), (3719, 0.0), (3720, 0.022032708422252346), (3721, 0.0), (3722, 0.0), (3723, 0.0048058625323222455), (3724, 0.024208594987876583), (3725, 0.0), (3726, 0.006056399999628036), (3727, 0.0), (3728, 0.015777972767437743), (3729, 0.0), (3730, 0.0), (3731, 0.008017453932551223), (3732, 0.0149795604067696), (3733, 0.0), (3734, 0.021533826779831417), (3735, 0.02375745130951152), (3736, 0.0), (3737, 0.0), (3738, 0.004657835053026629), (3739, 0.0), (3740, 0.0), (3741, 0.005915273039577137), (3742, 0.015436129531694502), (3743, 0.030571031306917684), (3744, 0.035957599063095105), (3745, 0.0), (3746, 0.00925467509484329), (3747, 0.06675650522517816), (3748, 0.0), (3749, 0.03050272473844451), (3750, 0.0), (3751, 0.0), (3752, 0.007986852308696201), (3753, 0.0), (3754, 0.010902774085065407), (3755, 0.0), (3756, 0.0), (3757, 0.0), (3758, 0.0), (3759, 0.0), (3760, 0.0), (3761, 0.0), (3762, 0.0), (3763, 0.030472182682226356), (3764, 0.0), (3765, 0.0), (3766, 0.0), (3767, 0.0), (3768, 0.0), (3769, 0.035786196998475524), (3770, 0.0), (3771, 0.005515675200062588), (3772, 0.0), (3773, 0.028897238500133635), (3774, 0.0), (3775, 0.046156721033676656), (3776, 0.004361309036036593), (3777, 0.0), (3778, 0.016700891610901162), (3779, 0.0), (3780, 0.0), (3781, 0.0), (3782, 0.022717068611049003), (3783, 0.027866447498216908), (3784, 0.0), (3785, 0.005934498378168836), (3786, 0.011328579892689716), (3787, 0.0516817748445867), (3788, 0.018201081806213493), (3789, 0.0), (3790, 0.03339098143684678), (3791, 0.0), (3792, 0.0), (3793, 0.0), (3794, 0.013727785894715018), (3795, 0.06498162438759361), (3796, 0.0), (3797, 0.01962973563278877), (3798, 0.030646952122224062), (3799, 0.0), (3800, 0.0), (3801, 0.0), (3802, 0.03529398428106976), (3803, 0.005874683756348597), (3804, 0.0), (3805, 0.006694955072542885), (3806, 0.0), (3807, 0.02105970647788936), (3808, 0.0), (3809, 0.0), (3810, 0.0), (3811, 0.0), (3812, 0.0), (3813, 0.0), (3814, 0.005008843577351117), (3815, 0.0), (3816, 0.0), (3817, 0.05326234987437665), (3818, 0.0), (3819, 0.01590368342000691), (3820, 0.0), (3821, 0.0), (3822, 0.027123147575954545), (3823, 0.024310619127354816), (3824, 0.0), (3825, 0.0), (3826, 0.006455134179359864), (3827, 0.0), (3828, 0.0), (3829, 0.00873905474838926), (3830, 0.0), (3831, 0.0), (3832, 0.0), (3833, 0.0), (3834, 0.03161282861482671), (3835, 0.0), (3836, 0.0), (3837, 0.0), (3838, 0.0), (3839, 0.0), (3840, 0.08749017163494882), (3841, 0.0), (3842, 0.0), (3843, 0.04542754299703032), (3844, 0.0), (3845, 0.04771627254727364), (3846, 0.012581987751185523), (3847, 0.0800783498225357), (3848, 0.0), (3849, 0.06062714067439515), (3850, 0.04016769483617379), (3851, 0.033092473804472326), (3852, 0.014009451525980515), (3853, 0.0), (3854, 0.008693814708028503), (3855, 0.0), (3856, 0.02843921844744332), (3857, 0.0), (3858, 0.0), (3859, 0.0), (3860, 0.004617110859029837), (3861, 0.0), (3862, 0.005318449115508627), (3863, 0.0), (3864, 0.0), (3865, 0.005988042945318754), (3866, 0.0), (3867, 0.030831578625616855), (3868, 0.0), (3869, 0.032388281549785736), (3870, 0.012343373258202098), (3871, 0.041369825179281616), (3872, 0.0), (3873, 0.01896784835522464), (3874, 0.0), (3875, 0.0), (3876, 0.0), (3877, 0.007475857399187695), (3878, 0.0), (3879, 0.03263294161743129), (3880, 0.0), (3881, 0.0), (3882, 0.009894462467692029), (3883, 0.0), (3884, 0.0), (3885, 0.03741452615389705), (3886, 0.017035846464579636), (3887, 0.0), (3888, 0.0321508998148537), (3889, 0.05494261090373927), (3890, 0.015555140773894615), (3891, 0.0139727761457229), (3892, 0.0), (3893, 0.0), (3894, 0.00824513065558103), (3895, 0.0), (3896, 0.0), (3897, 0.04846863122751945), (3898, 0.0), (3899, 0.0), (3900, 0.017057543917861455), (3901, 0.0), (3902, 0.0), (3903, 0.007690885049406439), (3904, 0.0), (3905, 0.0), (3906, 0.0), (3907, 0.0306535255008293), (3908, 0.02313164529548057), (3909, 0.0), (3910, 0.0), (3911, 0.0), (3912, 0.0), (3913, 0.0), (3914, 0.0), (3915, 0.0), (3916, 0.0), (3917, 0.011357600821558655), (3918, 0.0), (3919, 0.018543522558365184), (3920, 0.0), (3921, 0.0), (3922, 0.0), (3923, 0.02714785629778132), (3924, 0.010334452226233824), (3925, 0.0), (3926, 0.0), (3927, 0.0), (3928, 0.0), (3929, 0.0), (3930, 0.0), (3931, 0.01726029564698732), (3932, 0.0), (3933, 0.0), (3934, 0.0), (3935, 0.0), (3936, 0.0), (3937, 0.045027637979469154), (3938, 0.0), (3939, 0.0), (3940, 0.035525474508981275), (3941, 0.0), (3942, 0.0), (3943, 0.010105269956634156), (3944, 0.0), (3945, 0.0), (3946, 0.0039490817761094876), (3947, 0.005884771875191463), (3948, 0.0), (3949, 0.03845599738368884), (3950, 0.0), (3951, 0.01721642224956079), (3952, 0.0), (3953, 0.004633340291436092), (3954, 0.018376678891223068), (3955, 0.022784049390082876), (3956, 0.0), (3957, 0.01462123572712884), (3958, 0.004367002016710182), (3959, 0.0), (3960, 0.028885975700112095), (3961, 0.017746540652025487), (3962, 0.0), (3963, 0.011718473967911884), (3964, 0.0), (3965, 0.06036372554542333), (3966, 0.041021038341788836), (3967, 0.0), (3968, 0.047911106218052925), (3969, 0.0), (3970, 0.008991618691566537), (3971, 0.0), (3972, 0.04460872712495825), (3973, 0.015709462133126986), (3974, 0.0), (3975, 0.0), (3976, 0.0), (3977, 0.03191034326622999), (3978, 0.00485721017997087), (3979, 0.01253538282292637), (3980, 0.009471783490032982), (3981, 0.0), (3982, 0.029538307491473147), (3983, 0.007043124964359605), (3984, 0.0), (3985, 0.0), (3986, 0.0), (3987, 0.0), (3988, 0.0), (3989, 0.0), (3990, 0.0), (3991, 0.02024683391221768), (3992, 0.0), (3993, 0.004704991918048061), (3994, 0.017238452581115754), (3995, 0.0), (3996, 0.033355848444078934), (3997, 0.024305964992644886), (3998, 0.021995742485280332), (3999, 0.0), (4000, 0.0), (4001, 0.005100944663980299), (4002, 0.0), (4003, 0.0), (4004, 0.0), (4005, 0.005441354003332301), (4006, 0.027959139601230122), (4007, 0.023950490449461282), (4008, 0.0), (4009, 0.0062040785866471874), (4010, 0.0), (4011, 0.0), (4012, 0.004806114980091062), (4013, 0.0), (4014, 0.017948172365566856), (4015, 0.02658873116578695), (4016, 0.006695996284572634), (4017, 0.0), (4018, 0.007559631577370605), (4019, 0.0), (4020, 0.0049958480548172556), (4021, 0.0), (4022, 0.0), (4023, 0.0), (4024, 0.0), (4025, 0.0), (4026, 0.0), (4027, 0.0), (4028, 0.0), (4029, 0.0), (4030, 0.0), (4031, 0.025097350968111897), (4032, 0.03493988982199571), (4033, 0.032649747345052445), (4034, 0.007449177386099248), (4035, 0.0), (4036, 0.0065606537040778365), (4037, 0.004824100403517728), (4038, 0.005444173783332475), (4039, 0.0049640974857084125), (4040, 0.0), (4041, 0.029883875350232358), (4042, 0.0), (4043, 0.021703087625927354), (4044, 0.004620517643810018), (4045, 0.039319949567631185), (4046, 0.02502920411768477), (4047, 0.0), (4048, 0.0), (4049, 0.0), (4050, 0.0), (4051, 0.0), (4052, 0.0), (4053, 0.0), (4054, 0.046638348419834025), (4055, 0.023957631632240177), (4056, 0.011743054563144246), (4057, 0.0), (4058, 0.0), (4059, 0.013798290250954767), (4060, 0.0), (4061, 0.0), (4062, 0.0), (4063, 0.016370647139821323), (4064, 0.0), (4065, 0.0), (4066, 0.0), (4067, 0.0), (4068, 0.03359466401319793), (4069, 0.0), (4070, 0.046398015011040177), (4071, 0.0), (4072, 0.0), (4073, 0.0), (4074, 0.014503059349623287), (4075, 0.0), (4076, 0.03647186856428806), (4077, 0.05401000818245392), (4078, 0.0), (4079, 0.009745785754924328), (4080, 0.0), (4081, 0.0), (4082, 0.0), (4083, 0.02920687086602077), (4084, 0.0), (4085, 0.0), (4086, 0.007265811454488925), (4087, 0.019283441708932765), (4088, 0.02169570177780204), (4089, 0.06765076085936787), (4090, 0.0), (4091, 0.03246422932088998), (4092, 0.0), (4093, 0.021656032447797006), (4094, 0.01091501448627858), (4095, 0.004321677768330685), (4096, 0.0), (4097, 0.0), (4098, 0.005219907216809401), (4099, 0.011803735806487626), (4100, 0.041444344066039036), (4101, 0.0), (4102, 0.020414583665916895), (4103, 0.06797236193435138), (4104, 0.0), (4105, 0.0), (4106, 0.0), (4107, 0.0), (4108, 0.0), (4109, 0.008506539191866579), (4110, 0.0), (4111, 0.0), (4112, 0.011524595790977692), (4113, 0.0), (4114, 0.031179385070607038), (4115, 0.0), (4116, 0.005551842249512617), (4117, 0.01073177034752995), (4118, 0.007240743817151336), (4119, 0.005659895526568052), (4120, 0.0), (4121, 0.005791897524041262), (4122, 0.018000079127725187), (4123, 0.0), (4124, 0.0), (4125, 0.0), (4126, 0.0), (4127, 0.0), (4128, 0.0441388431129361), (4129, 0.0), (4130, 0.012904817237559423), (4131, 0.005449487202291448), (4132, 0.0), (4133, 0.0), (4134, 0.026721491909578263), (4135, 0.0), (4136, 0.0), (4137, 0.0), (4138, 0.0), (4139, 0.017129637773885563), (4140, 0.0), (4141, 0.0), (4142, 0.015095106061783834), (4143, 0.04477964849951752), (4144, 0.005645654625730543), (4145, 0.0), (4146, 0.0), (4147, 0.011447283562931664), (4148, 0.005072445513456977), (4149, 0.0), (4150, 0.0), (4151, 0.0), (4152, 0.02333047025106282), (4153, 0.02692444637329424), (4154, 0.01602906288732178), (4155, 0.00898145055428829), (4156, 0.0), (4157, 0.0), (4158, 0.02647432523833672), (4159, 0.0), (4160, 0.007528202524318609), (4161, 0.0), (4162, 0.0), (4163, 0.0), (4164, 0.0), (4165, 0.016358480772545297), (4166, 0.020757333601969963), (4167, 0.0), (4168, 0.0430723068398186), (4169, 0.01001437687036972), (4170, 0.0), (4171, 0.05920713077097662), (4172, 0.0), (4173, 0.0), (4174, 0.026603020688010258), (4175, 0.0), (4176, 0.0), (4177, 0.0), (4178, 0.0), (4179, 0.0), (4180, 0.0), (4181, 0.03256747751644835), (4182, 0.0), (4183, 0.0), (4184, 0.0), (4185, 0.005710550337415213), (4186, 0.021873314704105973), (4187, 0.0), (4188, 0.011731256047087016), (4189, 0.0), (4190, 0.0), (4191, 0.0), (4192, 0.0), (4193, 0.0107373468188648), (4194, 0.02791693475292462), (4195, 0.006710402143603139), (4196, 0.014622199265050581), (4197, 0.0), (4198, 0.0), (4199, 0.014647195358174915), (4200, 0.012199188375263802), (4201, 0.0), (4202, 0.007120590250071042), (4203, 0.0), (4204, 0.0), (4205, 0.0), (4206, 0.0), (4207, 0.019167304832245442), (4208, 0.0), (4209, 0.0), (4210, 0.01197575271873728), (4211, 0.01158991245528719), (4212, 0.023017048124617343), (4213, 0.0), (4214, 0.0), (4215, 0.0), (4216, 0.0), (4217, 0.0), (4218, 0.006567845479201751), (4219, 0.0), (4220, 0.0), (4221, 0.028305222766278115), (4222, 0.0), (4223, 0.0), (4224, 0.011546896395473261), (4225, 0.0), (4226, 0.0), (4227, 0.0), (4228, 0.0), (4229, 0.0), (4230, 0.0), (4231, 0.0), (4232, 0.0), (4233, 0.005393625041671313), (4234, 0.0), (4235, 0.0), (4236, 0.010919220593935124), (4237, 0.0), (4238, 0.03447741179470902), (4239, 0.0), (4240, 0.038729515201357076), (4241, 0.014334123409825764), (4242, 0.011679468426853962), (4243, 0.0), (4244, 0.005833921749374263), (4245, 0.0), (4246, 0.0), (4247, 0.0), (4248, 0.021806229993556477), (4249, 0.005254265562042775), (4250, 0.01848625129727062), (4251, 0.0), (4252, 0.0), (4253, 0.0), (4254, 0.0), (4255, 0.0364185851007831), (4256, 0.0), (4257, 0.0235977885199515), (4258, 0.0), (4259, 0.0), (4260, 0.0), (4261, 0.044498009341282556), (4262, 0.0), (4263, 0.017708836826585868), (4264, 0.02249894817898524), (4265, 0.0), (4266, 0.017899738451880337), (4267, 0.0), (4268, 0.009363316302994373), (4269, 0.026146399119411627), (4270, 0.012527949550934447), (4271, 0.0), (4272, 0.011201022081076633), (4273, 0.0), (4274, 0.06424558893936931), (4275, 0.016670760683897293), (4276, 0.026445142859409135), (4277, 0.022944651776827082), (4278, 0.0), (4279, 0.0), (4280, 0.0), (4281, 0.0), (4282, 0.0), (4283, 0.012035247068976743), (4284, 0.0), (4285, 0.026792896504162573), (4286, 0.0), (4287, 0.0), (4288, 0.006831283329197601), (4289, 0.012566570591934669), (4290, 0.0), (4291, 0.0), (4292, 0.015183944273857655), (4293, 0.00568246593958928), (4294, 0.012092525037966801), (4295, 0.0), (4296, 0.0), (4297, 0.0), (4298, 0.0), (4299, 0.03207928027166387), (4300, 0.006766966481004858), (4301, 0.0), (4302, 0.022294448047916336), (4303, 0.006447686717444768), (4304, 0.0), (4305, 0.014936650144595198), (4306, 0.0), (4307, 0.037790407686477206), (4308, 0.0), (4309, 0.0), (4310, 0.005097531008731489), (4311, 0.0), (4312, 0.02452954640989374), (4313, 0.0), (4314, 0.0), (4315, 0.0), (4316, 0.0), (4317, 0.0), (4318, 0.0), (4319, 0.0), (4320, 0.0), (4321, 0.0), (4322, 0.0), (4323, 0.007072505473649356), (4324, 0.0), (4325, 0.03150370461475166), (4326, 0.0), (4327, 0.0), (4328, 0.004757238512576882), (4329, 0.0), (4330, 0.0), (4331, 0.0), (4332, 0.0), (4333, 0.0), (4334, 0.01833404727466666), (4335, 0.0), (4336, 0.0), (4337, 0.0), (4338, 0.02200160723204536), (4339, 0.062362417523382965), (4340, 0.0), (4341, 0.025467314283667882), (4342, 0.0), (4343, 0.00831559158200852), (4344, 0.015163444379579286), (4345, 0.0048303410073670386), (4346, 0.020580014576267795), (4347, 0.03622797683590425), (4348, 0.0), (4349, 0.0), (4350, 0.015918980564049376), (4351, 0.00720058979394637), (4352, 0.0), (4353, 0.0044223582477581624), (4354, 0.007024064662233499), (4355, 0.0), (4356, 0.0), (4357, 0.0), (4358, 0.0), (4359, 0.0), (4360, 0.0), (4361, 0.0), (4362, 0.0), (4363, 0.0), (4364, 0.02447656793842984), (4365, 0.015624473572693894), (4366, 0.0), (4367, 0.0), (4368, 0.0), (4369, 0.0), (4370, 0.0), (4371, 0.020880186120332673), (4372, 0.0), (4373, 0.017187087048986915), (4374, 0.008924062475965907), (4375, 0.0), (4376, 0.0052209500097089075), (4377, 0.0), (4378, 0.02757318487277282), (4379, 0.005276181770772635), (4380, 0.009567479241250202), (4381, 0.0), (4382, 0.0), (4383, 0.017800817284923876), (4384, 0.005393683075655158), (4385, 0.01694744950968059), (4386, 0.0), (4387, 0.0), (4388, 0.03464295037678203), (4389, 0.018217017784550284), (4390, 0.00529175645555069), (4391, 0.01792685503834611), (4392, 0.005362257856688693), (4393, 0.005744637549628655), (4394, 0.0), (4395, 0.015641722560498495), (4396, 0.0), (4397, 0.0), (4398, 0.0), (4399, 0.0), (4400, 0.0), (4401, 0.027320956677042055), (4402, 0.0), (4403, 0.0), (4404, 0.025592625171696515), (4405, 0.014646513530411125), (4406, 0.018763126677129722), (4407, 0.0), (4408, 0.0), (4409, 0.0), (4410, 0.015252826441231989), (4411, 0.0), (4412, 0.0), (4413, 0.0), (4414, 0.0), (4415, 0.0), (4416, 0.0), (4417, 0.0), (4418, 0.008818515510282747), (4419, 0.012308659576078844), (4420, 0.009913201796026254), (4421, 0.0), (4422, 0.0), (4423, 0.0), (4424, 0.0), (4425, 0.0), (4426, 0.008111832687208139), (4427, 0.0), (4428, 0.006375748102590349), (4429, 0.004421498421319006), (4430, 0.005331672944869676), (4431, 0.0), (4432, 0.004457217212629781), (4433, 0.0), (4434, 0.03077511168304884), (4435, 0.005116666051515594), (4436, 0.005491183761259271), (4437, 0.0), (4438, 0.0), (4439, 0.01085154050400166), (4440, 0.0065124324068614806), (4441, 0.008930587012851822), (4442, 0.0), (4443, 0.006238268044248052), (4444, 0.02773246490355816), (4445, 0.010880527512641784), (4446, 0.029772538893396785), (4447, 0.0046200548613142), (4448, 0.0), (4449, 0.0), (4450, 0.004514154525866089), (4451, 0.011092216299076349), (4452, 0.0), (4453, 0.04196643424919721), (4454, 0.007746378323959244), (4455, 0.08129106828805602), (4456, 0.01215920888007996), (4457, 0.03164737059332215), (4458, 0.0), (4459, 0.0), (4460, 0.0), (4461, 0.0), (4462, 0.005754758958460163), (4463, 0.0), (4464, 0.0), (4465, 0.0), (4466, 0.025463032169440257), (4467, 0.025259105072783394), (4468, 0.03019471731047902), (4469, 0.0), (4470, 0.0), (4471, 0.0), (4472, 0.01714731114829229), (4473, 0.0), (4474, 0.0), (4475, 0.0), (4476, 0.0), (4477, 0.02473344356220748), (4478, 0.022953525476159444), (4479, 0.0), (4480, 0.0), (4481, 0.004865488266769355), (4482, 0.02260639016050411), (4483, 0.0), (4484, 0.0), (4485, 0.0), (4486, 0.005278321529131202), (4487, 0.07534689034293753), (4488, 0.0), (4489, 0.018731559130203555), (4490, 0.027076101309631173), (4491, 0.012846835305776134), (4492, 0.007212904106869343), (4493, 0.031997676579390365), (4494, 0.02829914835028222), (4495, 0.0), (4496, 0.0), (4497, 0.0), (4498, 0.0), (4499, 0.0), (4500, 0.0), (4501, 0.0067837144099315546), (4502, 0.0), (4503, 0.005135804607695174), (4504, 0.0), (4505, 0.0), (4506, 0.01919605852926975), (4507, 0.0), (4508, 0.0), (4509, 0.011687145128793187), (4510, 0.0), (4511, 0.0), (4512, 0.0), (4513, 0.0), (4514, 0.0), (4515, 0.07229918391703406), (4516, 0.007699497365446197), (4517, 0.0), (4518, 0.0), (4519, 0.00538677452924363), (4520, 0.0), (4521, 0.0), (4522, 0.0), (4523, 0.006423124373954516), (4524, 0.0), (4525, 0.0), (4526, 0.007658418908604805), (4527, 0.0), (4528, 0.0), (4529, 0.038753239004795444), (4530, 0.02654308482765711), (4531, 0.028237444031413025), (4532, 0.0), (4533, 0.006871904958999064), (4534, 0.014096418103440977), (4535, 0.027369887809894636), (4536, 0.0), (4537, 0.0), (4538, 0.0), (4539, 0.0), (4540, 0.0), (4541, 0.0), (4542, 0.0), (4543, 0.0049049844558570034), (4544, 0.0), (4545, 0.015967107626473343), (4546, 0.022929323947895573), (4547, 0.020463732938024486), (4548, 0.008812805626934102), (4549, 0.03668345611232515), (4550, 0.011446033414957053), (4551, 0.010404338219518586), (4552, 0.025965028811243147), (4553, 0.00445276656801448), (4554, 0.0), (4555, 0.0), (4556, 0.0), (4557, 0.029579388995747795), (4558, 0.0), (4559, 0.0), (4560, 0.0), (4561, 0.0), (4562, 0.0), (4563, 0.0), (4564, 0.011368359509130618), (4565, 0.0), (4566, 0.058822078148460966), (4567, 0.024351904893933497), (4568, 0.004759789862148641), (4569, 0.00630301861086364), (4570, 0.008026436394820957), (4571, 0.0), (4572, 0.0), (4573, 0.004936626890780736), (4574, 0.0), (4575, 0.0), (4576, 0.024747870510813175), (4577, 0.0), (4578, 0.0), (4579, 0.0), (4580, 0.0), (4581, 0.02982091410998289), (4582, 0.0), (4583, 0.0), (4584, 0.0), (4585, 0.0), (4586, 0.005302632885169654), (4587, 0.008960147479747707), (4588, 0.02368225415004959), (4589, 0.013819433503056394), (4590, 0.004559925152447589), (4591, 0.004736182358616479), (4592, 0.0), (4593, 0.02165155044282281), (4594, 0.0), (4595, 0.0), (4596, 0.0), (4597, 0.005900227059695408), (4598, 0.0), (4599, 0.0), (4600, 0.004660238147573763), (4601, 0.019331183190045464), (4602, 0.0), (4603, 0.0), (4604, 0.0), (4605, 0.016389483645761545), (4606, 0.018348933355093317), (4607, 0.013651721253824193), (4608, 0.004518992637422136), (4609, 0.011888016549586086), (4610, 0.0), (4611, 0.0), (4612, 0.0), (4613, 0.031236761534997007), (4614, 0.04207935941899596), (4615, 0.0), (4616, 0.0), (4617, 0.0), (4618, 0.0), (4619, 0.005618590049076246), (4620, 0.0), (4621, 0.0), (4622, 0.018829482523841576), (4623, 0.009367337774772883), (4624, 0.016859992547340066), (4625, 0.0), (4626, 0.023887468030963442), (4627, 0.0), (4628, 0.0), (4629, 0.005312314846345089), (4630, 0.005710739571635964), (4631, 0.006183975322641061), (4632, 0.0), (4633, 0.0), (4634, 0.0), (4635, 0.0), (4636, 0.0), (4637, 0.0), (4638, 0.01618141612493074), (4639, 0.0), (4640, 0.0), (4641, 0.04264868119716224), (4642, 0.006009645042905039), (4643, 0.006906729260296676), (4644, 0.0), (4645, 0.0), (4646, 0.006492774703275437), (4647, 0.030108452086127217), (4648, 0.015259456296554992), (4649, 0.004676632745710445), (4650, 0.010834400972843616), (4651, 0.0), (4652, 0.0), (4653, 0.006226103258386121), (4654, 0.0), (4655, 0.0), (4656, 0.005491238191990115), (4657, 0.0), (4658, 0.009038230801757615), (4659, 0.005495269352261145), (4660, 0.02187417740561991), (4661, 0.004513954269941459), (4662, 0.0), (4663, 0.0068706451770911324), (4664, 0.0), (4665, 0.0), (4666, 0.006894210457604927), (4667, 0.03917763675809942), (4668, 0.0), (4669, 0.0), (4670, 0.016992104074084566), (4671, 0.0), (4672, 0.01652527720194849), (4673, 0.004932200138009329), (4674, 0.015101639844978759), (4675, 0.0), (4676, 0.06243597194234215), (4677, 0.02743137919211639), (4678, 0.0), (4679, 0.0), (4680, 0.0), (4681, 0.0), (4682, 0.03485977196104102), (4683, 0.027231547399615037), (4684, 0.00519669750514754), (4685, 0.0), (4686, 0.0), (4687, 0.0), (4688, 0.009334873900546834), (4689, 0.0), (4690, 0.018612811330521287), (4691, 0.0), (4692, 0.0), (4693, 0.0), (4694, 0.0), (4695, 0.0), (4696, 0.0), (4697, 0.016488939713116955), (4698, 0.006143946383979882), (4699, 0.0), (4700, 0.0), (4701, 0.0), (4702, 0.0), (4703, 0.012654455535201736), (4704, 0.0), (4705, 0.007280771702366951), (4706, 0.0), (4707, 0.0), (4708, 0.0050534759291161755), (4709, 0.006921818378356541), (4710, 0.018650538454635286), (4711, 0.0), (4712, 0.0), (4713, 0.0), (4714, 0.02030866181530477), (4715, 0.0), (4716, 0.0052778159149), (4717, 0.0), (4718, 0.0), (4719, 0.0), (4720, 0.017908662194907003), (4721, 0.0), (4722, 0.0), (4723, 0.006226277117618103), (4724, 0.0), (4725, 0.02787083841778481), (4726, 0.0054762567250853465), (4727, 0.005470547956617013), (4728, 0.0), (4729, 0.0), (4730, 0.02113122766921435), (4731, 0.0), (4732, 0.0), (4733, 0.004249010878286197), (4734, 0.0), (4735, 0.0), (4736, 0.038887375009355976), (4737, 0.03172034153538444), (4738, 0.0), (4739, 0.010384411883809546), (4740, 0.042661383716892015), (4741, 0.005802893864429819), (4742, 0.013107712105529778), (4743, 0.014141753086777214), (4744, 0.015784546930098158), (4745, 0.00525331701220003), (4746, 0.0), (4747, 0.016680317966343804), (4748, 0.0), (4749, 0.0), (4750, 0.0), (4751, 0.0), (4752, 0.0036477001856196067), (4753, 0.0), (4754, 0.018237403712483155), (4755, 0.0), (4756, 0.009758181661941662), (4757, 0.0), (4758, 0.0), (4759, 0.0)]\n"
          ]
        }
      ]
    },
    {
      "cell_type": "code",
      "source": [
        "len(recommendation_score)"
      ],
      "metadata": {
        "colab": {
          "base_uri": "https://localhost:8080/"
        },
        "id": "8QjaoIrD_9sQ",
        "outputId": "727f0c17-426b-46d3-fabd-354c3edf88e2"
      },
      "execution_count": 56,
      "outputs": [
        {
          "output_type": "execute_result",
          "data": {
            "text/plain": [
              "4760"
            ]
          },
          "metadata": {},
          "execution_count": 56
        }
      ]
    },
    {
      "cell_type": "code",
      "source": [
        "#get all movies sorted based on recommendation score w r t fav movie"
      ],
      "metadata": {
        "id": "dmbE7rAfAHAn"
      },
      "execution_count": 57,
      "outputs": []
    },
    {
      "cell_type": "code",
      "source": [
        "sorted_similar_movies=sorted(recommendation_score,key=lambda x:x[1],reverse=True)\n",
        "print(sorted_similar_movies)"
      ],
      "metadata": {
        "colab": {
          "base_uri": "https://localhost:8080/"
        },
        "id": "OJrnTTjAATpd",
        "outputId": "db828dd8-e69a-4744-c820-c4cb6d257008"
      },
      "execution_count": 58,
      "outputs": [
        {
          "output_type": "stream",
          "name": "stdout",
          "text": [
            "[(1, 1.0000000000000002), (599, 0.2828019152239469), (600, 0.25719278431210035), (295, 0.19502223542404776), (1011, 0.16270222722174588), (601, 0.1561055013652135), (3323, 0.1328619564932534), (603, 0.12954327476770183), (1137, 0.1136302057443545), (419, 0.1103980127723734), (2155, 0.10596420487410282), (31, 0.10409517262879507), (3515, 0.1001467481147079), (602, 0.09944102898572665), (1979, 0.09919622315212599), (681, 0.09739447126648751), (3408, 0.09564937476935083), (279, 0.095280340869254), (1881, 0.09418517648201527), (91, 0.0940800764306973), (2854, 0.09067406550627026), (546, 0.08990859674125723), (1939, 0.08972158720778871), (481, 0.08814332798014533), (3840, 0.08749017163494882), (35, 0.08742546957845639), (1519, 0.08645420947701714), (575, 0.08413856796126923), (915, 0.08379117736682506), (303, 0.08336093343854396), (101, 0.0824052316641063), (3270, 0.08222565462322233), (2484, 0.08209188508706428), (4455, 0.08129106828805602), (61, 0.0807756373022934), (1566, 0.08068047445167217), (382, 0.08066423249568166), (2567, 0.08022654817161642), (3847, 0.0800783498225357), (3468, 0.07906619615212551), (1150, 0.07895671112965102), (251, 0.07804519606050524), (37, 0.07709332666079831), (946, 0.0766325487371001), (2574, 0.07642499128756541), (1255, 0.07575316150001903), (374, 0.07552833160070821), (4487, 0.07534689034293753), (2022, 0.07518384519889793), (2044, 0.07442322279250052), (1113, 0.07411980943400157), (654, 0.07384605553609146), (891, 0.07308073181219855), (1237, 0.07258061486532358), (4515, 0.07229918391703406), (1178, 0.07158506716386202), (2563, 0.071087500134384), (2355, 0.07027001489001064), (3367, 0.06988999767419121), (3428, 0.0687240672080485), (2957, 0.0682651682134753), (4103, 0.06797236193435138), (36, 0.06791734480694782), (498, 0.06766280170410681), (4089, 0.06765076085936787), (447, 0.06746548192745533), (1123, 0.06705439157246294), (3747, 0.06675650522517816), (1486, 0.06605165330540352), (3466, 0.06595956650654046), (2512, 0.06550757027323911), (1056, 0.06525547246206079), (1013, 0.06508750945379757), (3795, 0.06498162438759361), (834, 0.06444345291126057), (1057, 0.06435546390039697), (1662, 0.06434218439555016), (4274, 0.06424558893936931), (2474, 0.06388355189570183), (1589, 0.06364458484747951), (160, 0.06359160102915365), (1443, 0.06282383073010805), (3063, 0.06275489814955028), (3011, 0.06274026652061833), (4676, 0.06243597194234215), (4339, 0.062362417523382965), (2594, 0.06230660726596639), (472, 0.061773319028259076), (835, 0.06143136810671968), (407, 0.06142285796429693), (694, 0.06109827319150957), (3001, 0.06080737956367353), (833, 0.060806119897883475), (3849, 0.06062714067439515), (1802, 0.06053539500656778), (3965, 0.06036372554542333), (261, 0.06021053180581619), (896, 0.06021018219008581), (545, 0.06005161691229095), (1257, 0.06000354510799848), (4171, 0.05920713077097662), (260, 0.05919221501462362), (1883, 0.05910188110858783), (4566, 0.058822078148460966), (2421, 0.05849689683498266), (1478, 0.058309997416143254), (614, 0.05829344794728482), (2804, 0.05815864876008873), (674, 0.05793902791640221), (1515, 0.05789613638824079), (1230, 0.05756788909432957), (1154, 0.057545745014507814), (75, 0.05741627236122422), (2617, 0.05728339042167178), (3718, 0.057119286061857476), (1435, 0.057047634911904), (2810, 0.05685461899203505), (377, 0.056708274306032626), (918, 0.05649955594822478), (2682, 0.05617355008245847), (2657, 0.05559379437101475), (2981, 0.05550240544945958), (259, 0.05537335163190966), (3889, 0.05494261090373927), (992, 0.0543542412268774), (1082, 0.05425994532526088), (152, 0.05417960690471101), (4077, 0.05401000818245392), (961, 0.053998022373784274), (887, 0.05369988185006454), (1466, 0.0536638403003122), (3673, 0.05361372933438348), (153, 0.0534374315649344), (3817, 0.05326234987437665), (3094, 0.05303690418963104), (537, 0.05280454644432824), (3194, 0.05266764415497983), (427, 0.0526441683586612), (367, 0.05257798940685533), (69, 0.05183353554774124), (3787, 0.0516817748445867), (744, 0.05160273254597798), (2898, 0.05144391521717726), (570, 0.05144231077978738), (702, 0.05134947687599316), (2221, 0.051312757132209355), (1649, 0.05128156115471554), (2233, 0.05090801777324833), (319, 0.0508816010583705), (778, 0.05077428750759199), (3483, 0.05023628679564955), (1906, 0.04993469015477235), (956, 0.04990185853167044), (619, 0.04973999297433453), (1401, 0.049575842079459816), (2479, 0.049469252644954415), (1396, 0.04936818837850273), (3550, 0.049353059850419864), (1564, 0.049316958466259456), (30, 0.049315355123976654), (3467, 0.0489663105047033), (3298, 0.04893724974770759), (763, 0.04881187689507612), (1342, 0.04877873755225017), (3897, 0.04846863122751945), (65, 0.0484219246535945), (3366, 0.04807207687798134), (90, 0.04793236562981211), (3968, 0.047911106218052925), (2326, 0.047763695286823664), (3845, 0.04771627254727364), (1412, 0.04766772971583279), (663, 0.04755647088667768), (3003, 0.047446879847448914), (2955, 0.047371838539192655), (3389, 0.04729724623910196), (1269, 0.04713098239283732), (2277, 0.04702443498949357), (1743, 0.04691561966499995), (167, 0.04670316760647068), (2497, 0.046661113177593236), (4054, 0.046638348419834025), (3456, 0.04657121304370902), (4070, 0.046398015011040177), (3096, 0.046361926126889205), (2180, 0.04628693323673778), (2922, 0.04625600692330794), (3775, 0.046156721033676656), (686, 0.04564196267064011), (3166, 0.04558210684318839), (3843, 0.04542754299703032), (2141, 0.045350568876412076), (2850, 0.04534506969226146), (78, 0.04532568822759644), (283, 0.04507820504010304), (3502, 0.045038775326883454), (3937, 0.045027637979469154), (550, 0.04496619054088729), (2950, 0.044861127429874914), (1835, 0.04483465484071576), (2073, 0.04482714333977121), (4143, 0.04477964849951752), (3972, 0.04460872712495825), (1367, 0.0445816918031456), (4261, 0.044498009341282556), (249, 0.0443156805544103), (2291, 0.04430373217449013), (11, 0.04424915915259761), (2527, 0.04423060931222241), (3702, 0.044216395180817915), (4128, 0.0441388431129361), (2615, 0.043962142318079024), (1875, 0.043715552934558054), (3133, 0.04360314908653039), (2114, 0.04352849574743374), (1533, 0.043314013038950175), (80, 0.043254445463386415), (2581, 0.04323957882460481), (853, 0.04314301916263083), (1265, 0.04312078060365869), (2605, 0.043109736190492326), (3559, 0.043104657717563076), (4168, 0.0430723068398186), (2539, 0.042973549706389884), (241, 0.04292390418546763), (2768, 0.04284709536645646), (67, 0.04280704472709425), (1354, 0.04279385181599468), (4740, 0.042661383716892015), (4641, 0.04264868119716224), (1411, 0.04263056844224829), (2088, 0.04258097218447795), (1134, 0.04255214912510063), (3122, 0.042472010429395426), (208, 0.04223557834382284), (4614, 0.04207935941899596), (4453, 0.04196643424919721), (3361, 0.04193591850573389), (1548, 0.04185770854313111), (3452, 0.0417765227567697), (397, 0.04171513548783609), (115, 0.04152565312038163), (2188, 0.04148880761820819), (1696, 0.041481875225373256), (4100, 0.041444344066039036), (3871, 0.041369825179281616), (3073, 0.04133378935190409), (977, 0.041321361423862495), (2143, 0.041321123921531915), (1242, 0.04118373086931826), (1903, 0.04114473179725581), (555, 0.04110201048613819), (3966, 0.041021038341788836), (451, 0.040817632574476514), (1986, 0.0406748315322467), (2062, 0.04056644922489137), (1058, 0.04027749490753379), (2843, 0.04026568571251331), (2091, 0.04022721322201069), (3850, 0.04016769483617379), (2299, 0.040057606642120276), (1314, 0.039980316927427706), (3537, 0.03984763623589516), (2237, 0.039806478095577455), (3141, 0.03978693682570608), (1555, 0.039761155681805826), (150, 0.03971302481482229), (963, 0.03954261975570971), (2472, 0.03940975014809207), (912, 0.039395555131313376), (1279, 0.03939199997874313), (3180, 0.0393841405888697), (1334, 0.039321571116174334), (4045, 0.039319949567631185), (4667, 0.03917763675809942), (237, 0.03913765869289206), (1373, 0.03911430865730296), (79, 0.03908598626594617), (3040, 0.03906846772540386), (4736, 0.038887375009355976), (2552, 0.038825545695606235), (2322, 0.038773956042702416), (1024, 0.03876432233892937), (4529, 0.038753239004795444), (4240, 0.038729515201357076), (1727, 0.038697117306852796), (553, 0.03868449865242071), (1574, 0.038654273200322144), (3353, 0.0386045196672619), (1239, 0.0385889771680397), (1632, 0.03857633726642967), (855, 0.03852461248988928), (822, 0.0384665208432772), (3949, 0.03845599738368884), (76, 0.03833919395355127), (1309, 0.03828137575043311), (1584, 0.038260418495333855), (1652, 0.03821991418195139), (509, 0.038159825908370165), (2061, 0.038069119800506104), (3332, 0.03803623433650212), (3284, 0.03803359171724485), (3605, 0.037928313962308044), (2316, 0.037880279717537296), (3714, 0.03779995102615931), (4307, 0.037790407686477206), (3635, 0.0377010074404568), (3414, 0.03767830331023526), (2083, 0.03759668460381294), (2415, 0.037553833327947206), (1493, 0.03754431954328831), (2234, 0.03753063532975679), (3678, 0.0375082862913477), (3022, 0.03749822162397856), (3885, 0.03741452615389705), (381, 0.03726490641527797), (1590, 0.03721739621464738), (700, 0.03714356988342605), (2669, 0.03704557110092487), (684, 0.03699739909008726), (1809, 0.03676403593363388), (401, 0.03671383667827681), (2202, 0.036687309152042706), (4549, 0.03668345611232515), (343, 0.036590523935703584), (4076, 0.03647186856428806), (4255, 0.0364185851007831), (2199, 0.03641640270081255), (362, 0.03639013384915393), (1141, 0.03633008149686646), (405, 0.03625364062020131), (4347, 0.03622797683590425), (2490, 0.036104874450647674), (3744, 0.035957599063095105), (680, 0.03588162922816232), (469, 0.035870905875605874), (512, 0.035825846921607694), (2058, 0.035803415835735014), (3769, 0.035786196998475524), (1788, 0.03572620120314092), (3672, 0.035595468660114586), (1301, 0.035566272927364716), (3940, 0.035525474508981275), (371, 0.03535132529839603), (2785, 0.03530236317617935), (3802, 0.03529398428106976), (355, 0.035292213564258025), (255, 0.03524714220412398), (102, 0.03521444866475031), (2603, 0.035186925896596444), (1083, 0.035185388514817395), (1195, 0.03509281601232635), (1991, 0.035082230478412385), (1071, 0.03506775172990773), (4032, 0.03493988982199571), (1844, 0.03487382420168329), (4682, 0.03485977196104102), (2122, 0.03477941021125128), (3357, 0.03477396887322534), (1538, 0.034768569488845984), (803, 0.03466038350048435), (4388, 0.03464295037678203), (2086, 0.03460766648640645), (2230, 0.03456787260582231), (491, 0.03454082354115208), (3185, 0.034525640694292745), (2813, 0.034524725840867035), (4238, 0.03447741179470902), (1567, 0.03446931874951255), (2171, 0.03431554770810625), (257, 0.03423235652416832), (212, 0.03419736638978953), (3336, 0.034161018646129464), (1872, 0.034043964138596255), (3215, 0.034020864247211714), (3532, 0.0340175480630626), (486, 0.03392123299488484), (1381, 0.033905431491044136), (883, 0.033742122411030445), (1022, 0.03369978782659422), (1046, 0.03369845083859657), (1043, 0.03369436061073969), (3530, 0.033686902074692916), (4068, 0.03359466401319793), (1521, 0.03354535443915929), (1646, 0.03343787367478898), (988, 0.033432607804726865), (3790, 0.03339098143684678), (1955, 0.033365384345724954), (3996, 0.033355848444078934), (666, 0.033247253722921984), (1537, 0.033134418698796735), (1948, 0.03312916017210062), (3851, 0.033092473804472326), (3469, 0.03308750478680213), (2038, 0.03302633706748011), (3709, 0.03299728420591963), (3174, 0.03297970768867863), (1094, 0.03294044969953066), (1641, 0.03275555148454297), (1467, 0.03275299653698617), (3303, 0.032692818879730974), (4033, 0.032649747345052445), (3638, 0.03264781047191151), (3879, 0.03263294161743129), (1383, 0.03262671538370251), (1029, 0.03260138298000277), (3201, 0.032571049850073995), (1634, 0.032569230016562256), (1978, 0.03256891285063961), (4181, 0.03256747751644835), (1554, 0.032529908226035915), (1159, 0.03252082491247492), (4091, 0.03246422932088998), (591, 0.032446915557739375), (3869, 0.032388281549785736), (3594, 0.03236539048644116), (1091, 0.03234593446863104), (502, 0.03227896916311415), (3630, 0.032214323446575405), (2715, 0.032192031572864786), (3888, 0.0321508998148537), (1393, 0.032100896893381275), (4299, 0.03207928027166387), (2860, 0.0320559210248756), (2136, 0.032021257096426906), (4493, 0.031997676579390365), (3977, 0.03191034326622999), (1925, 0.03189927018107189), (756, 0.03184059501104259), (2666, 0.03179078808008838), (6, 0.03178899800803084), (2821, 0.03178829508305635), (2435, 0.03172368186913766), (4737, 0.03172034153538444), (4457, 0.03164737059332215), (1095, 0.03163622506877872), (872, 0.03163038779215767), (3834, 0.03161282861482671), (3131, 0.03161001980878955), (2158, 0.03155380554362766), (2729, 0.03152113700561977), (4325, 0.03150370461475166), (906, 0.03146664680070559), (1280, 0.03146163394616417), (2668, 0.031456318070225725), (3127, 0.03139980747951664), (2507, 0.031364330943041835), (2258, 0.031341561361502505), (3132, 0.03132491907132532), (745, 0.03130127177171173), (1763, 0.0312922890283311), (482, 0.03125419222891331), (1904, 0.031245915948592343), (2330, 0.03123861622778658), (4613, 0.031236761534997007), (15, 0.031191842182459906), (4114, 0.031179385070607038), (2733, 0.03107624319852698), (2763, 0.031021128583930344), (2413, 0.030991797789255527), (2857, 0.030921358447594353), (1240, 0.03090444906259829), (3115, 0.030897282472524427), (776, 0.030865259894709198), (1297, 0.030859060122757236), (2427, 0.030853334145381835), (2049, 0.030841584481770663), (3134, 0.03083724998747025), (3867, 0.030831578625616855), (1378, 0.03080705194613348), (2042, 0.03079319909320148), (4434, 0.03077511168304884), (2691, 0.030738867381126255), (1825, 0.030730999822116807), (3498, 0.030695241605937354), (3907, 0.0306535255008293), (3798, 0.030646952122224062), (189, 0.030595806181100308), (3509, 0.030589349262570426), (2944, 0.030581777867392496), (1190, 0.030572504795590014), (3743, 0.030571031306917684), (151, 0.03052069059354419), (3749, 0.03050272473844451), (1572, 0.030485528099060608), (3463, 0.030478208763291194), (3763, 0.030472182682226356), (3520, 0.030448284383038197), (2385, 0.03044229469426631), (2570, 0.03043185692932006), (95, 0.030392490748873017), (1697, 0.030372838006238932), (59, 0.030360910979738545), (3231, 0.03031652025425869), (902, 0.030308084439582238), (939, 0.030301842473675143), (572, 0.030288829087301874), (2021, 0.03022548627469172), (950, 0.030208846853611516), (4468, 0.03019471731047902), (3690, 0.03019425998036755), (1111, 0.03019232690729827), (1108, 0.030146621809218302), (4647, 0.030108452086127217), (1168, 0.030080731290958694), (19, 0.03007149396258626), (421, 0.030038907300918422), (649, 0.029947028913762174), (2260, 0.02992672211149503), (2794, 0.029922712775706902), (4041, 0.029883875350232358), (2540, 0.02986698349651385), (1705, 0.02986043389650788), (1382, 0.029833394955532708), (4581, 0.02982091410998289), (4446, 0.029772538893396785), (625, 0.029760367461890133), (258, 0.029747309322078957), (1791, 0.029727337746285092), (2521, 0.02972417683657213), (416, 0.02970542172135634), (2501, 0.029687819668902896), (39, 0.02966698794890848), (1118, 0.02966140916091998), (1726, 0.02965941035461965), (3427, 0.029657316606508655), (2067, 0.029645420859902284), (2927, 0.0296329699320397), (1151, 0.029626015742026588), (1793, 0.029616332126900454), (70, 0.029599955967523548), (264, 0.029586380429321296), (4557, 0.029579388995747795), (2769, 0.029567174061338464), (2240, 0.029562482396473175), (604, 0.029546163003806726), (3982, 0.029538307491473147), (751, 0.02950814170700636), (1262, 0.029466962003116264), (1901, 0.029362906475100398), (368, 0.029352311486405113), (1038, 0.02934076867769171), (194, 0.029318249331593917), (484, 0.029242929879095634), (1360, 0.029238673519570175), (2095, 0.029236569904559487), (2541, 0.029235426671853457), (430, 0.029211685167890335), (4083, 0.02920687086602077), (2597, 0.029164389879924004), (613, 0.029122476742161243), (1358, 0.029118992059171865), (2962, 0.02909241805716937), (981, 0.029018194486524464), (997, 0.028988836171124716), (938, 0.028971682533409156), (2713, 0.028944342518490998), (1281, 0.028933996354890145), (3773, 0.028897238500133635), (1060, 0.02889044041290946), (3960, 0.028885975700112095), (1120, 0.028831416806871166), (3619, 0.02883081413264589), (567, 0.028811808233687394), (191, 0.028758628902713135), (1728, 0.028750820694076057), (1315, 0.028738733947452164), (284, 0.02868436461392649), (333, 0.02867019926376977), (1592, 0.02865495429504111), (2161, 0.028605737407151284), (951, 0.028579852973607687), (1645, 0.028542914431569207), (1028, 0.02852588696867777), (3856, 0.02843921844744332), (390, 0.028436951329205668), (2642, 0.028391388922603216), (33, 0.02839135367608064), (3046, 0.02834813577001209), (4221, 0.028305222766278115), (4494, 0.02829914835028222), (93, 0.028298576172286895), (467, 0.028242525823021027), (4531, 0.028237444031413025), (376, 0.028226244348872588), (2018, 0.028207603431231177), (1348, 0.028076276199342474), (171, 0.028045825419986077), (2799, 0.028036999155895918), (263, 0.02795987164749719), (4006, 0.027959139601230122), (1374, 0.027942805871845944), (762, 0.02793846908370722), (4194, 0.02791693475292462), (4725, 0.02787083841778481), (3783, 0.027866447498216908), (2465, 0.027856366595188843), (1371, 0.02782619779032754), (1212, 0.027806645374054494), (3683, 0.02778137046631467), (508, 0.027775488825819802), (1579, 0.027772053413355473), (3193, 0.02775450914784456), (55, 0.027754212244279333), (2665, 0.02773893906957469), (4444, 0.02773246490355816), (687, 0.027669633238201215), (2989, 0.027655449302195385), (731, 0.027647978808356646), (1500, 0.02764134471930152), (12, 0.02761127168417841), (3100, 0.027598843153084918), (565, 0.027595904043390372), (3060, 0.02758801507403922), (793, 0.02758533265766472), (468, 0.027575316019498912), (2016, 0.02757443566221622), (4378, 0.02757318487277282), (1786, 0.02755074609093608), (1204, 0.027536579101774792), (2041, 0.02752464087837121), (1263, 0.02749855654741552), (2442, 0.027478157670849608), (46, 0.02746116474293213), (1879, 0.027457330746387423), (1167, 0.02744375493160968), (4677, 0.02743137919211639), (4535, 0.027369887809894636), (1069, 0.027359388239553105), (3232, 0.027347160900788807), (2622, 0.027346488708749568), (4401, 0.027320956677042055), (3114, 0.027313694291087123), (1010, 0.027262140896027638), (4683, 0.027231547399615037), (379, 0.027209440322459314), (1846, 0.02716446488724454), (236, 0.02714919607195725), (3923, 0.02714785629778132), (1936, 0.027147253715209145), (94, 0.02713253246842703), (3822, 0.027123147575954545), (2444, 0.027093983086019666), (2006, 0.027089337982139694), (4490, 0.027076101309631173), (1982, 0.027062290711621226), (56, 0.02704361947110613), (1587, 0.02703759654811115), (692, 0.02703360809267035), (2125, 0.027022121845250664), (2150, 0.027003532632536985), (3665, 0.026998276879755062), (54, 0.026974695116352154), (4153, 0.02692444637329424), (3360, 0.026890446512678207), (2749, 0.026889522143953702), (1295, 0.02687410343805429), (2770, 0.02687021094271204), (620, 0.026869598728319257), (3156, 0.02685764290209151), (1577, 0.026793629610786383), (4285, 0.026792896504162573), (4134, 0.026721491909578263), (2118, 0.0267175021755671), (3539, 0.026687813408413787), (1377, 0.02667493584259978), (1888, 0.026660821257253862), (3045, 0.026617864698615525), (4174, 0.026603020688010258), (3275, 0.026594531911254875), (4015, 0.02658873116578695), (2844, 0.026557176083751098), (316, 0.026553256460040767), (849, 0.02654423436046072), (4530, 0.02654308482765711), (4158, 0.02647432523833672), (1014, 0.026451459022558875), (4276, 0.026445142859409135), (1782, 0.026435156759895488), (3412, 0.02639383191066501), (1640, 0.026327544756789507), (1245, 0.026307908877540663), (497, 0.02629241751081074), (2451, 0.026263277233811572), (2218, 0.026190404452475058), (1468, 0.026188964289694253), (2363, 0.026162629852341062), (4269, 0.026146399119411627), (923, 0.02613677290489662), (1410, 0.02613244987261848), (440, 0.026113427889458828), (670, 0.02609049731072529), (1125, 0.026080485136279405), (119, 0.026059489235441324), (2283, 0.026059317862102596), (3454, 0.025982532227941085), (4552, 0.025965028811243147), (463, 0.02592699318563599), (2337, 0.02588940188215271), (1636, 0.025809714535502563), (2334, 0.025783243890640527), (3533, 0.02578222365928621), (109, 0.02577778734441308), (2720, 0.02570966151308493), (1772, 0.02563870407700196), (4404, 0.025592625171696515), (1974, 0.025566317675280285), (3014, 0.025547926645186833), (3182, 0.025517911538121715), (3300, 0.025505080736086688), (1976, 0.02550484618112308), (850, 0.025501769901446644), (1322, 0.02550014861632773), (4341, 0.025467314283667882), (4466, 0.025463032169440257), (234, 0.025428489448436162), (27, 0.025401499918563827), (339, 0.02539765882256039), (1911, 0.025394086991696596), (1651, 0.025339019807829544), (87, 0.02533559254454756), (647, 0.025332896286467302), (128, 0.02532828682644944), (2644, 0.025318284749347254), (3051, 0.02530335953002627), (1745, 0.025288832066906172), (4467, 0.025259105072783394), (1741, 0.02525264687335184), (1820, 0.025239307739091468), (3693, 0.02520892066809871), (3453, 0.0251122418417866), (3405, 0.02511197881830265), (4031, 0.025097350968111897), (1926, 0.02503287447098204), (4046, 0.02502920411768477), (1009, 0.025020381368474714), (1799, 0.025005757876578653), (2900, 0.024970310836640853), (2686, 0.024949807166415407), (300, 0.024947326164519775), (928, 0.024935618519988732), (112, 0.024892578730839107), (3181, 0.02487913214443921), (1968, 0.02486219896074039), (3516, 0.024830558926158864), (1335, 0.02480832488278405), (1830, 0.024788180953201976), (314, 0.02476736331858547), (2500, 0.024749577899417827), (4576, 0.024747870510813175), (4477, 0.02473344356220748), (1723, 0.024637724970119332), (1965, 0.02460703100070717), (1908, 0.02458330073333232), (3692, 0.024582518944923262), (4312, 0.02452954640989374), (2880, 0.024523602336690844), (2945, 0.024520739781328217), (4364, 0.02447656793842984), (3059, 0.024459040086150723), (2256, 0.024385696695539548), (4567, 0.024351904893933497), (2718, 0.024334613757749493), (3823, 0.024310619127354816), (1333, 0.02430606234129256), (3997, 0.024305964992644886), (1031, 0.024274679772785055), (1961, 0.024269309142395213), (1341, 0.02424948922305211), (913, 0.02421780931225134), (3724, 0.024208594987876583), (2689, 0.024202357361383955), (1530, 0.024196270512770568), (3285, 0.024151656032728102), (3082, 0.02413873403230504), (220, 0.024137709468881986), (1502, 0.024110097434371904), (2755, 0.024101416021194155), (1173, 0.024037431979007134), (2956, 0.02403034497882294), (111, 0.024018907365189166), (3685, 0.02398967480765657), (656, 0.02398616902927093), (1310, 0.02397333133913061), (4055, 0.023957631632240177), (4007, 0.023950490449461282), (3513, 0.023920878483730174), (2470, 0.02391068338060151), (2217, 0.02390153538832364), (2830, 0.023894112344920712), (4626, 0.023887468030963442), (1852, 0.023821154255768265), (516, 0.023798432882909552), (2182, 0.023783170614156524), (2806, 0.023776861530059472), (285, 0.023769538063401825), (561, 0.023768384602749687), (3735, 0.02375745130951152), (3514, 0.023754161257552236), (3705, 0.023748721555110763), (1536, 0.0237417113237839), (895, 0.023738320525114407), (517, 0.02372631304007201), (4588, 0.02368225415004959), (3204, 0.023642122315568476), (1469, 0.023635859471202576), (3641, 0.02361652638170512), (4257, 0.0235977885199515), (452, 0.02355777026118958), (3623, 0.023552339806642366), (3585, 0.023543865313198138), (1249, 0.023529487273252422), (3191, 0.02350474814987323), (3252, 0.023501012112334418), (975, 0.023450611837446927), (777, 0.023402409059054618), (3225, 0.023396248258345794), (1810, 0.02337870258962328), (3160, 0.02337250369908937), (3105, 0.023350381282034934), (4152, 0.02333047025106282), (3384, 0.023268326463799394), (1174, 0.02326118551020249), (45, 0.02320800959850554), (2468, 0.023189695657926217), (1413, 0.023170948199581758), (1664, 0.02315959599520574), (2312, 0.023147991688821583), (3908, 0.02313164529548057), (1302, 0.02307777377742337), (3316, 0.023033482856531652), (4212, 0.023017048124617343), (1639, 0.022976055135651634), (4478, 0.022953525476159444), (4277, 0.022944651776827082), (4546, 0.022929323947895573), (903, 0.022921782358715354), (3524, 0.02290913817417741), (1074, 0.022901362132040585), (863, 0.022897755579105915), (1569, 0.022877328133470678), (2055, 0.022871879243992088), (1129, 0.022839852697817863), (2012, 0.022824791396744662), (135, 0.022811596942385937), (3955, 0.022784049390082876), (881, 0.022775929947251583), (2891, 0.02277476075894566), (2450, 0.022732179334183714), (3782, 0.022717068611049003), (566, 0.022704532794820452), (2286, 0.022669528220457112), (2019, 0.02263648596180567), (1938, 0.022628277790959033), (4482, 0.02260639016050411), (181, 0.022602305365600144), (375, 0.022563632053396707), (443, 0.022521264686299957), (4264, 0.02249894817898524), (1714, 0.02245805468942104), (2403, 0.022441838990652076), (2646, 0.022435890622737806), (1755, 0.022417704720057913), (1308, 0.02236390714074144), (84, 0.02235454062898099), (2232, 0.02230538185282206), (4302, 0.022294448047916336), (148, 0.022290714835376865), (3368, 0.022290561458373964), (1653, 0.02226431588242634), (2349, 0.022261896574495243), (231, 0.022239397842472156), (3380, 0.022236790874397356), (2178, 0.022207450555112283), (433, 0.022200650348687442), (43, 0.022172374911757498), (1307, 0.022169744521072), (554, 0.022147147603087253), (2070, 0.02211593681642186), (2411, 0.022048157885115754), (3720, 0.022032708422252346), (3219, 0.02201224123398147), (2432, 0.022006951394595804), (4338, 0.02200160723204536), (3998, 0.021995742485280332), (3671, 0.021984485171663647), (3616, 0.021962654499692338), (1455, 0.02190947768386072), (3097, 0.021885111735953373), (2680, 0.02188504793206828), (4660, 0.02187417740561991), (4186, 0.021873314704105973), (1285, 0.021858370414859885), (3595, 0.021844175698952566), (219, 0.021844136490973116), (1259, 0.021840017301444012), (2353, 0.02183556255348025), (3480, 0.021817468021805668), (4248, 0.021806229993556477), (308, 0.02177350976650411), (2276, 0.021746273805117157), (1067, 0.021738937498847262), (2711, 0.02172433565374112), (4043, 0.021703087625927354), (909, 0.021699241996420503), (4088, 0.02169570177780204), (1326, 0.021683232960631616), (1403, 0.021669425600512042), (1175, 0.021666897471373705), (252, 0.021660375857810603), (4093, 0.021656032447797006), (4593, 0.02165155044282281), (3123, 0.02163705534720539), (3443, 0.021636595468252653), (1370, 0.021599249616832836), (3089, 0.02155258353414048), (1511, 0.02155181980246289), (3734, 0.021533826779831417), (2112, 0.021490956256097808), (2820, 0.021485080302607595), (945, 0.021474558998770286), (2899, 0.021462281685417604), (3492, 0.021442965095292137), (3020, 0.021440760618371503), (1701, 0.02143109763495373), (2314, 0.021419833021185754), (1985, 0.021392397018875867), (2205, 0.021371026549040256), (2837, 0.021370375367341515), (2756, 0.02135453570870657), (2826, 0.021321384697741086), (492, 0.02131613919624144), (974, 0.021300425518953708), (2815, 0.021295638792420926), (1616, 0.021228230769308146), (73, 0.02117056564609521), (1997, 0.021154974784671488), (3523, 0.021151494857501445), (8, 0.021146218130171354), (2183, 0.021136164176412293), (4730, 0.02113122766921435), (3313, 0.02110958237045435), (2832, 0.021100412437715082), (3807, 0.02105970647788936), (2361, 0.021052007803100473), (364, 0.02103733861521099), (3528, 0.021031578863109513), (1066, 0.021027635793861927), (2177, 0.021022622612228693), (2942, 0.020902886141853396), (3145, 0.020888657440505897), (4371, 0.020880186120332673), (3598, 0.020854327492541992), (1529, 0.020844110330778452), (796, 0.020797023211795062), (845, 0.020778259106663848), (3212, 0.020766312692016363), (4166, 0.020757333601969963), (3235, 0.020757214497247004), (2089, 0.020752921443688805), (901, 0.020748278710935115), (1407, 0.020692300687282783), (842, 0.0206635283341515), (3706, 0.020661113685843474), (2103, 0.020650936042321176), (3247, 0.020649051826914858), (1116, 0.020627849260878246), (1657, 0.020620164185481113), (2269, 0.02058797265851642), (4346, 0.020580014576267795), (1017, 0.020577511091871694), (2251, 0.02052951999105527), (269, 0.020503476834225123), (1847, 0.02049164871426124), (334, 0.020474372835901727), (4547, 0.020463732938024486), (1368, 0.02046245198232803), (1271, 0.020429380433700097), (1402, 0.020417884323703943), (1418, 0.020417029157989975), (4102, 0.020414583665916895), (1076, 0.02040733331224076), (380, 0.020378483921539174), (3169, 0.02034663847185911), (990, 0.020346033287536928), (4714, 0.02030866181530477), (1264, 0.020289573251305152), (2904, 0.02025234684234545), (3991, 0.02024683391221768), (2537, 0.020240844236043394), (721, 0.020236209784591737), (2952, 0.020212688155041427), (2982, 0.020187476126206468), (3566, 0.02016690964476059), (876, 0.02015895560358494), (2357, 0.0201381208439932), (107, 0.02003091661191726), (2064, 0.019990524764118906), (562, 0.01991080399033696), (106, 0.019903656191963784), (1716, 0.019893990325149692), (1798, 0.019883323288530062), (3158, 0.019881816124944513), (3385, 0.019881317716631867), (1958, 0.019874838227706106), (1172, 0.01987139288305215), (747, 0.019777054717939852), (3080, 0.01977229747289225), (2921, 0.019762225165997856), (2304, 0.01973328556366376), (3074, 0.019726380382564197), (3374, 0.019696855660251606), (1836, 0.019695591579468878), (3688, 0.019655447480905697), (1546, 0.019641199061974937), (3797, 0.01962973563278877), (2534, 0.019620873762386522), (2364, 0.019598684900127814), (3358, 0.01951971138213747), (1292, 0.019517286420508418), (265, 0.01951719442563029), (394, 0.019511620836255517), (1007, 0.019498360417557523), (479, 0.019448376382638397), (1527, 0.019423970660844843), (821, 0.019423198970906417), (802, 0.019409619001410857), (3299, 0.01934832120595609), (4601, 0.019331183190045464), (531, 0.01930430210334335), (400, 0.01929259282718928), (4087, 0.019283441708932765), (2671, 0.019276540069790488), (2448, 0.019269480486981478), (846, 0.019253010667671943), (1535, 0.019198356804838303), (4506, 0.01919605852926975), (973, 0.019183477354469715), (952, 0.01917550174989798), (2599, 0.019172391969497174), (4207, 0.019167304832245442), (3508, 0.01916218939017249), (2253, 0.019160791519522317), (1551, 0.019137231671992896), (1366, 0.019130672855456728), (2216, 0.01908298616393505), (1773, 0.019077280294031163), (327, 0.0190249175556576), (235, 0.019011659388357766), (1140, 0.01899343249387282), (1575, 0.018993258994023134), (3873, 0.01896784835522464), (2294, 0.018950629373865553), (413, 0.018942010973231657), (3223, 0.018940972796460957), (1266, 0.018895799777923262), (1205, 0.01887445206491659), (2420, 0.018867107319650623), (74, 0.01886592513871108), (1261, 0.018852167368547577), (488, 0.018833708683387143), (4622, 0.018829482523841576), (2636, 0.01880659879848283), (3048, 0.018790672407249034), (1296, 0.018765021674796926), (4406, 0.018763126677129722), (2549, 0.01875885728179654), (2439, 0.01874475468726246), (1896, 0.01873618008540239), (4489, 0.018731559130203555), (2573, 0.01871498536199047), (3359, 0.018711490834298707), (1234, 0.018702220048363683), (3305, 0.018692758379710097), (2288, 0.018681139565324335), (2849, 0.01867147650497041), (2790, 0.018650965101153685), (4710, 0.018650538454635286), (1027, 0.01861915172113556), (3087, 0.018614848199400447), (4690, 0.018612811330521287), (1233, 0.018586227082806692), (1164, 0.0185646420177309), (474, 0.018557703798946824), (3919, 0.018543522558365184), (1188, 0.01853743411611139), (880, 0.018532570152682146), (982, 0.01852883352851431), (2090, 0.018513518788963505), (530, 0.018508836244478404), (4250, 0.01848625129727062), (1613, 0.018451184207565426), (3382, 0.018429043547861727), (879, 0.018425852823723117), (3363, 0.018401712816478358), (422, 0.018397253527359776), (3954, 0.018376678891223068), (884, 0.01837503037964017), (3684, 0.0183731909122045), (1924, 0.018368576803629633), (678, 0.018362523399276093), (4606, 0.018348933355093317), (739, 0.018346838103305636), (4334, 0.01833404727466666), (606, 0.01831756446211782), (784, 0.018312564774362113), (2072, 0.018300908206973537), (2123, 0.01828067636746704), (1703, 0.018273506541026666), (669, 0.01826172513053329), (3233, 0.018249016379574434), (4754, 0.018237403712483155), (4389, 0.018217017784550284), (2170, 0.018209002446677964), (3788, 0.018201081806213493), (137, 0.01818336390602241), (2078, 0.01815783738672554), (844, 0.01815511090231991), (3542, 0.018149501243996526), (944, 0.018141084776654763), (1003, 0.0181316963995397), (496, 0.018106443787131048), (2708, 0.018081214167285656), (1250, 0.01807994985834365), (750, 0.01807191492403843), (2874, 0.018071595780348323), (110, 0.018050358518529333), (1311, 0.018037545579841746), (1101, 0.01803043416559865), (2017, 0.018024339442718647), (1361, 0.018019049457079786), (2582, 0.018017781127718912), (3576, 0.018016347899614718), (28, 0.018010412302093128), (4122, 0.018000079127725187), (2278, 0.017996061261094216), (436, 0.01798890086286205), (136, 0.01798096592023614), (558, 0.017954897955434517), (1458, 0.017950008794374136), (4014, 0.017948172365566856), (3656, 0.017944737729063742), (356, 0.017934946487097096), (2798, 0.017934599818717943), (4391, 0.01792685503834611), (4720, 0.017908662194907003), (2197, 0.017905807665802603), (4266, 0.017899738451880337), (2782, 0.017897833698727463), (1473, 0.017888945945849943), (2140, 0.01787836524737835), (418, 0.01787521373134656), (748, 0.017873309283750482), (1930, 0.017853893248328718), (3005, 0.017850715513004295), (864, 0.01784625992578499), (3276, 0.01782291999019297), (378, 0.017814833007389976), (4383, 0.017800817284923876), (347, 0.017798925549767943), (203, 0.017790907119383415), (1505, 0.017790208479435514), (104, 0.017772892820888665), (199, 0.017754291879863465), (3961, 0.017746540652025487), (2998, 0.01772516533069329), (1131, 0.017720336136452387), (4263, 0.017708836826585868), (1488, 0.017705800455316265), (2695, 0.017683181891171813), (3581, 0.017674759120361067), (1496, 0.017668649370624557), (1304, 0.017667263688375137), (389, 0.017660045864465738), (3320, 0.017659758792286366), (460, 0.017656407719638445), (429, 0.017652715368674948), (2026, 0.017647355502348454), (1682, 0.017644624028502573), (439, 0.017634465683568537), (3695, 0.017627382027102644), (2250, 0.017623271890361884), (1345, 0.017622243267946976), (22, 0.017613273267175926), (1638, 0.01759289535296347), (2280, 0.01757212314822689), (543, 0.01754300158493636), (2471, 0.017535238172732323), (1625, 0.017508896103263238), (769, 0.017506641286816723), (1829, 0.01750133149020623), (158, 0.01746591765314569), (2589, 0.01745841962991266), (2614, 0.017458138026022404), (718, 0.01744805032201478), (96, 0.017402243566552157), (282, 0.017399239004727635), (2222, 0.017398018448491023), (2498, 0.01739674820761725), (1097, 0.01739664698481784), (815, 0.017395611705003273), (2961, 0.017384442757496423), (661, 0.01737468623776935), (3510, 0.017333427189424027), (1768, 0.017317753654440975), (2637, 0.017302608007805004), (2824, 0.017282016786657528), (3625, 0.017267884935697968), (3931, 0.01726029564698732), (1940, 0.01724491938203189), (3994, 0.017238452581115754), (1966, 0.017236663666201635), (2725, 0.017235261904649482), (1320, 0.01721990099123405), (979, 0.017217723234940283), (3951, 0.01721642224956079), (3540, 0.017209262323774517), (4373, 0.017187087048986915), (2391, 0.01717252663919373), (2007, 0.01716242161112641), (1146, 0.017151728347096492), (1737, 0.017150842037619105), (3583, 0.017149030186269256), (4472, 0.01714731114829229), (2828, 0.017146489325770377), (2571, 0.017138328874214452), (2970, 0.01713776944824026), (4139, 0.017129637773885563), (72, 0.017128563913213716), (2105, 0.017121053681696103), (239, 0.017093952714737945), (622, 0.017084601071585357), (3098, 0.01708107584029671), (2584, 0.017077780406752167), (1864, 0.017061576993880306), (3900, 0.017057543917861455), (2378, 0.017056846510873594), (1472, 0.01703958998036363), (3886, 0.017035846464579636), (3149, 0.017035577829868805), (3337, 0.017024872650677616), (4670, 0.016992104074084566), (85, 0.01699047107562925), (2937, 0.01695415390779965), (3578, 0.01694989775423642), (2492, 0.016949181168664666), (4385, 0.01694744950968059), (847, 0.01691992433129469), (3504, 0.016916480432213044), (2618, 0.01689444714711753), (3423, 0.01688291601538491), (1808, 0.01686274533005653), (2354, 0.016860554424021117), (4624, 0.016859992547340066), (664, 0.016854450734968038), (798, 0.016854278892509567), (785, 0.01685374230718586), (2495, 0.01684227232554772), (298, 0.01683468376167148), (2380, 0.016817790098835057), (130, 0.016814378311266004), (2995, 0.0168120136902624), (812, 0.016772732708195178), (1256, 0.016748746034275324), (3021, 0.01674153779444423), (1843, 0.016735166592262655), (1534, 0.01673311866747706), (1756, 0.016727849104034933), (3477, 0.016702215648129917), (3778, 0.016700891610901162), (478, 0.016698776584077535), (1647, 0.016694955270168264), (1783, 0.01669075352159761), (4747, 0.016680317966343804), (4275, 0.016670760683897293), (307, 0.01663896022766368), (3648, 0.016635935363899408), (2416, 0.016600803389181098), (2456, 0.016594692874467725), (2496, 0.01658893796268526), (1693, 0.016582546188951077), (2578, 0.01658087382407257), (813, 0.01657185212659369), (1934, 0.01653770184520598), (4672, 0.01652527720194849), (1202, 0.016516054627333934), (2856, 0.01651449639622959), (3319, 0.016512972078756107), (1433, 0.016503181938357696), (4697, 0.016488939713116955), (1686, 0.016475946188791602), (1933, 0.016418619447233454), (1498, 0.016403761307324103), (4605, 0.016389483645761545), (573, 0.01637667845622484), (1890, 0.016372191062736137), (4063, 0.016370647139821323), (1477, 0.01636159931207622), (3294, 0.01636112035805139), (4165, 0.016358480772545297), (3079, 0.016348208173957907), (3371, 0.01634480659701446), (3375, 0.016328727988452196), (1984, 0.016303943557214234), (2487, 0.016294653199059178), (892, 0.0162890484341993), (2890, 0.016281361446329003), (1347, 0.01626938007681089), (2612, 0.016267509603305697), (2268, 0.016267356988859363), (2027, 0.016247633522702795), (3713, 0.016234200996838966), (16, 0.016229143054786177), (1055, 0.016197433813486654), (450, 0.016190380610931053), (4638, 0.01618141612493074), (511, 0.016155454074215998), (142, 0.01610981319872773), (3047, 0.016108356065178752), (2135, 0.016105796523150435), (2265, 0.016103699377748394), (1243, 0.016093522796576297), (2728, 0.01607587623228518), (1171, 0.016068487792703375), (1002, 0.01604866264777367), (2387, 0.01604337406358723), (3104, 0.016040683357421197), (4154, 0.01602906288732178), (1112, 0.016014049802016515), (505, 0.01600124775990153), (1631, 0.01598059587828088), (4545, 0.015967107626473343), (794, 0.0159455963456406), (1220, 0.015940572431212784), (2526, 0.015931317412974797), (4350, 0.015918980564049376), (146, 0.015915660164447665), (3819, 0.01590368342000691), (3381, 0.015886350530232535), (1910, 0.015884412164034814), (3067, 0.015883654783736448), (2248, 0.01587796942673081), (932, 0.015857237966330748), (1750, 0.015853074499756446), (1637, 0.015827011638978157), (2462, 0.015809217900245445), (2329, 0.01580724124989004), (4744, 0.015784546930098158), (3728, 0.015777972767437743), (2724, 0.015762709699249398), (3068, 0.015762647861612092), (1086, 0.015732266485647208), (655, 0.015729181009163776), (3973, 0.015709462133126986), (1596, 0.015673276688175287), (3083, 0.015657968338986573), (1608, 0.015657794281295333), (4395, 0.015641722560498495), (2418, 0.015640097035559443), (4365, 0.015624473572693894), (345, 0.015619241178064448), (916, 0.01560738105788175), (2057, 0.015592614803392293), (2461, 0.015589315536121189), (3321, 0.015584772231786226), (643, 0.015580340409429908), (187, 0.015559601203676113), (3890, 0.015555140773894615), (781, 0.015538849098737005), (2559, 0.015520907658132604), (1969, 0.015516417439936063), (97, 0.015499078774547361), (2100, 0.015496660918815288), (2075, 0.015470521249812002), (1462, 0.015449447803963822), (3150, 0.015437608732130358), (3742, 0.015436129531694502), (1445, 0.015416407299370695), (2493, 0.015409069474226458), (2954, 0.015379784035398799), (733, 0.01534814382797467), (2511, 0.015293864404696128), (3517, 0.01527733733847409), (1542, 0.015276483773465957), (2816, 0.015266881430032794), (4648, 0.015259456296554992), (4410, 0.015252826441231989), (1869, 0.015250338897223907), (2133, 0.015207774650331199), (143, 0.015204128569765957), (2031, 0.015199502158710028), (1717, 0.015195920414004572), (4292, 0.015183944273857655), (1323, 0.015174508785493613), (126, 0.015170022190436736), (4344, 0.015163444379579286), (2466, 0.01515306653337635), (2740, 0.01512014777441537), (4674, 0.015101639844978759), (4142, 0.015095106061783834), (856, 0.015084511695437983), (3121, 0.015050496179787081), (1166, 0.015040372363664178), (1414, 0.015026711563855506), (432, 0.015024854811552586), (1025, 0.015010008623055744), (2530, 0.015006415319371283), (3634, 0.014998114376562262), (3732, 0.0149795604067696), (2866, 0.014961508146013823), (2827, 0.014956642417616012), (4305, 0.014936650144595198), (64, 0.014857006500073006), (3034, 0.014850912534325807), (1114, 0.014843636505790719), (2593, 0.014834191323727383), (2491, 0.014823976661154556), (1543, 0.014813206841215277), (695, 0.014809184470745505), (1276, 0.014803680580850501), (5, 0.014798802030248786), (3331, 0.01478694980887261), (477, 0.014773992504695216), (1861, 0.014759122730848407), (3484, 0.014752131300585223), (2876, 0.014750517632729075), (1981, 0.014749218490631096), (3662, 0.014747512682114133), (2789, 0.01474482778311235), (1270, 0.014740019113130361), (1524, 0.014725410928022131), (218, 0.014712950946247222), (1599, 0.0146745187493144), (4199, 0.014647195358174915), (4405, 0.014646513530411125), (2836, 0.01464019553202142), (105, 0.014633407383515444), (3295, 0.014631876499391348), (4196, 0.014622199265050581), (3957, 0.01462123572712884), (1072, 0.01461403988588079), (1503, 0.014611644666240915), (2544, 0.014604109224971016), (1876, 0.014576918826241823), (174, 0.014574147968186181), (1626, 0.01456863250868288), (2402, 0.014560899983475997), (494, 0.014560189365738451), (2043, 0.014559771210309068), (357, 0.014535114445164189), (117, 0.014531287844931313), (1419, 0.014510927561244762), (4074, 0.014503059349623287), (438, 0.014501657785581382), (936, 0.014500465612399212), (1600, 0.014490583913250022), (98, 0.014447886148504679), (1678, 0.01441085048719757), (358, 0.014350181244245218), (2008, 0.014349057360201497), (4241, 0.014334123409825764), (2833, 0.01433159535839185), (3448, 0.014322819930845141), (2422, 0.014322608291375135), (662, 0.014305855268152224), (1253, 0.014291391147165888), (3206, 0.014285092577218318), (1258, 0.014283152726945924), (1937, 0.014236510680490592), (200, 0.014206919773084803), (820, 0.014202617094617285), (877, 0.014185825470418658), (2502, 0.01418576735530745), (2681, 0.014185311109794985), (4743, 0.014141753086777214), (2895, 0.014132457308710135), (4534, 0.014096418103440977), (2107, 0.014054497540583823), (2736, 0.014049348183113146), (3852, 0.014009451525980515), (924, 0.014004984985773824), (1160, 0.014004842402793373), (2859, 0.013988699788765817), (3891, 0.0139727761457229), (2259, 0.013960388141879478), (434, 0.0139588791218928), (223, 0.013956663763531245), (1677, 0.01395584810248665), (2707, 0.013857209135040228), (1289, 0.013838346459268423), (3238, 0.0138367398861569), (4589, 0.013819433503056394), (4059, 0.013798290250954767), (2382, 0.013773068309485917), (1547, 0.013751340903236176), (3172, 0.013747932440329834), (2751, 0.013744287896364987), (659, 0.01374406569517996), (3794, 0.013727785894715018), (1398, 0.013667815779561224), (4607, 0.013651721253824193), (2868, 0.013651014943829799), (1317, 0.013647254353386554), (3419, 0.01362548478412075), (1321, 0.01358844832768253), (369, 0.013575991081006027), (453, 0.01356432581784244), (0, 0.013512350503111599), (2220, 0.01349935292469466), (3091, 0.013489129990331574), (786, 0.013466474899159994), (532, 0.013458561849971233), (2198, 0.013454550166521499), (2555, 0.013426320264618184), (1236, 0.013418543688853542), (1713, 0.013407013267682472), (424, 0.013405899935919442), (425, 0.013394268826709018), (2399, 0.013378777337907367), (1437, 0.013378768926681397), (583, 0.013376126214221159), (77, 0.013369274284471053), (122, 0.013351271858415049), (3356, 0.013320794296331678), (2066, 0.013282132632759487), (247, 0.013277889236154618), (2710, 0.013275312241219526), (2917, 0.01326711202787747), (3560, 0.013266093778989482), (2672, 0.01323360089843818), (2164, 0.013215352588089193), (2356, 0.013198746726335545), (3459, 0.013169798911955653), (2381, 0.013163848538569518), (383, 0.013150107171189756), (41, 0.013137730424575427), (3311, 0.013110722127593916), (4742, 0.013107712105529778), (2587, 0.013093907938379805), (3062, 0.013089800687111765), (1408, 0.013078863975635284), (1460, 0.013070814158892125), (1000, 0.01303616968347911), (804, 0.013035913859099798), (2428, 0.013029874558930767), (715, 0.013028767916278067), (3697, 0.013007231288297418), (875, 0.012958577120689051), (3628, 0.012911197927060771), (4130, 0.012904817237559423), (1977, 0.012904452011996205), (635, 0.012890461997071792), (2935, 0.012872237027951516), (3163, 0.012850992836967761), (4491, 0.012846835305776134), (1943, 0.012842745193481383), (3202, 0.012837100679365419), (3538, 0.012820333105064243), (1700, 0.012798226666574299), (1894, 0.012794347757887006), (1465, 0.012792200591593032), (2888, 0.012789599380850426), (713, 0.012785114962704063), (1492, 0.012768749966361246), (92, 0.01275498236869839), (7, 0.012742928052710543), (24, 0.012717274689658453), (232, 0.01271214777886261), (3586, 0.012706500886111497), (2761, 0.012697196276759292), (3637, 0.012674963641594612), (4703, 0.012654455535201736), (2940, 0.012619639730388202), (1812, 0.012612565576494743), (3438, 0.01260453662559161), (1324, 0.012594435069445218), (826, 0.01259190680144559), (2522, 0.012583420873558404), (3846, 0.012581987751185523), (3152, 0.012575948585743782), (4289, 0.012566570591934669), (1206, 0.012553585450792316), (17, 0.01254198741210096), (3979, 0.01253538282292637), (4270, 0.012527949550934447), (1099, 0.012519690309862316), (2208, 0.012513829659019277), (1436, 0.012492470356425677), (3342, 0.01246990849977204), (1225, 0.012455555644657541), (1650, 0.012452429632439472), (1380, 0.012451898079340079), (1328, 0.01245077262399406), (1185, 0.01243908362840665), (1570, 0.012416943184420645), (707, 0.012410369531153832), (1603, 0.012390387559382932), (716, 0.012381102621072934), (320, 0.012377768461801716), (2640, 0.01235363725346322), (3870, 0.012343373258202098), (775, 0.012329122328785302), (2015, 0.01232864720564721), (201, 0.012318460002269434), (4419, 0.012308659576078844), (1841, 0.012280027781618269), (3668, 0.012267734304417827), (3124, 0.01225813645783708), (615, 0.012230525020948376), (1470, 0.012221004689315616), (4200, 0.012199188375263802), (1244, 0.012178551080248491), (4456, 0.01215920888007996), (1214, 0.012153202217068226), (631, 0.012139675901066328), (118, 0.012114596467736037), (1045, 0.012106773212546978), (1254, 0.01210066375241298), (4294, 0.012092525037966801), (2285, 0.012083666961961023), (3597, 0.012083516289461114), (1931, 0.01206326726654467), (3486, 0.012055132034197072), (2227, 0.012043482936696288), (2960, 0.01204215453827498), (4283, 0.012035247068976743), (366, 0.012032709202846142), (528, 0.01202200975318577), (3404, 0.012012577098812609), (1624, 0.01200676511268142), (1386, 0.012003541363336246), (2045, 0.011999057776299244), (919, 0.011998503232978856), (592, 0.011991852799825103), (1440, 0.011989124702159657), (108, 0.011983838586383674), (4210, 0.01197575271873728), (2647, 0.011958316950224028), (88, 0.011954254273697045), (714, 0.011946515666472575), (1611, 0.01193192802063461), (1522, 0.011922676599964085), (2554, 0.011910847069385905), (1945, 0.011896480361580624), (4609, 0.011888016549586086), (1346, 0.011874305901040764), (2153, 0.011871388380139875), (1369, 0.011862627822856074), (2506, 0.011845191562970113), (315, 0.011843167231528003), (1385, 0.011821703320585974), (1179, 0.011805216919755328), (4099, 0.011803735806487626), (305, 0.011795395683520313), (965, 0.011781035171817455), (2000, 0.011758007539104281), (2014, 0.011743061344469044), (4056, 0.011743054563144246), (610, 0.01173901221208979), (4188, 0.011731256047087016), (3963, 0.011718473967911884), (1604, 0.011706199299670489), (1012, 0.011696271767063712), (4509, 0.011687145128793187), (4242, 0.011679468426853962), (2847, 0.011657083461073175), (3421, 0.011653082624038455), (2298, 0.01165096339837431), (2443, 0.011649884750451967), (2908, 0.011647177224154679), (322, 0.011626360898243045), (1459, 0.011621750444701321), (4211, 0.01158991245528719), (539, 0.011553602549427347), (2730, 0.011551061466277013), (4224, 0.011546896395473261), (2616, 0.011544183318767734), (3629, 0.011532978031540395), (4112, 0.011524595790977692), (1350, 0.011500906586097443), (668, 0.011466489275248508), (321, 0.01145982226078758), (292, 0.011455192419138283), (3302, 0.01145459912113312), (4147, 0.011447283562931664), (4550, 0.011446033414957053), (3555, 0.01144315880180979), (1063, 0.01140778965251912), (3582, 0.011374132780967775), (4564, 0.011368359509130618), (3917, 0.011357600821558655), (1293, 0.011348428128147663), (310, 0.011343808840086551), (3786, 0.011328579892689716), (2117, 0.011325292174922522), (3568, 0.011323192499442632), (2641, 0.011313983873515045), (3607, 0.011296119736851275), (1552, 0.011288534739087166), (1207, 0.011279621247719068), (1001, 0.011252839554654991), (1273, 0.011236796996210791), (3700, 0.01121479609275916), (2368, 0.011205111660725024), (2287, 0.011203647337314795), (4272, 0.011201022081076633), (911, 0.011185620562028067), (266, 0.011151888187537184), (966, 0.011147757904238841), (1895, 0.011122280750392698), (271, 0.01110764041041329), (4451, 0.011092216299076349), (2750, 0.01109057280249996), (2139, 0.011081150244978872), (548, 0.011071810913304857), (3135, 0.0110584726545831), (426, 0.011043410394627943), (1898, 0.011040085687103202), (3136, 0.011011946309924584), (417, 0.010967037650821618), (3256, 0.010959071446513244), (1135, 0.010956402103815169), (568, 0.010950507698138944), (9, 0.010926115280892903), (2093, 0.010919613502407612), (4236, 0.010919220593935124), (4094, 0.01091501448627858), (2124, 0.010914890844566375), (3754, 0.010902774085065407), (1789, 0.01090260930458049), (540, 0.010896947262516325), (4445, 0.010880527512641784), (306, 0.01087832316073424), (4439, 0.01085154050400166), (448, 0.01085140356188824), (1987, 0.0108378859100926), (4650, 0.010834400972843616), (569, 0.010818245056821638), (225, 0.010812147093566144), (2560, 0.010790000943582777), (3117, 0.010777551391484619), (1507, 0.010765894819616439), (1675, 0.010756009021380547), (3651, 0.010754697181394218), (2803, 0.010744722813132754), (4193, 0.0107373468188648), (4117, 0.01073177034752995), (2781, 0.010688833964306402), (1387, 0.010658548484756118), (3600, 0.010646495251311125), (2426, 0.010641996842669223), (839, 0.010621710606988513), (2065, 0.010607520072582923), (501, 0.010602251747377698), (2185, 0.010577186041586285), (323, 0.010561293966839701), (954, 0.010552277330536063), (2389, 0.010531691324024836), (3099, 0.01050190466006849), (2852, 0.010498715687225572), (519, 0.010424827271624207), (4551, 0.010404338219518586), (4739, 0.010384411883809546), (1283, 0.01038311539564061), (1580, 0.010373961001020622), (2159, 0.010366780449473112), (32, 0.010353903948323653), (1797, 0.010351014076322525), (2996, 0.0103460729938432), (2433, 0.010339364494883437), (3924, 0.010334452226233824), (3529, 0.010330578747672728), (141, 0.010326229094177165), (3574, 0.010313782847971683), (3183, 0.01029485002314682), (3659, 0.010246322976259443), (2037, 0.010245488960300066), (342, 0.010241388431943627), (1764, 0.010234320736061862), (1379, 0.010233645694922845), (3365, 0.010220981663941218), (1563, 0.010213844139003583), (165, 0.010206569888795022), (330, 0.010195039162268604), (2822, 0.010189622585949798), (1679, 0.010186356484300765), (542, 0.010163622103278293), (3129, 0.010143930763854852), (2776, 0.010125401102994407), (3943, 0.010105269956634156), (2263, 0.010090064233393103), (3175, 0.01007412478772634), (1409, 0.010057708002918834), (2712, 0.010044802782462454), (725, 0.010043845864538173), (2104, 0.010040277506296437), (1352, 0.010029189947498074), (3065, 0.010028683663387303), (288, 0.01002684294749491), (2817, 0.010024655320167164), (4169, 0.01001437687036972), (792, 0.010000407029398879), (639, 0.009969920627482896), (3657, 0.00996362727412033), (2196, 0.009941826340524706), (2296, 0.009918144304132378), (1859, 0.009913232186896239), (4420, 0.009913201796026254), (2127, 0.00991178151810279), (2809, 0.009895645954016591), (3882, 0.009894462467692029), (178, 0.009889790246906215), (640, 0.009884160641124726), (1336, 0.009871341628432999), (1718, 0.0098542943498485), (2601, 0.009804578504306249), (717, 0.009803970974359047), (3162, 0.009803274632848502), (3224, 0.009787897261322556), (3229, 0.009763918563659794), (4756, 0.009758181661941662), (1155, 0.009750625826593019), (4079, 0.009745785754924328), (2034, 0.009727349467145981), (2053, 0.009706074843724228), (1494, 0.009685117914805958), (1805, 0.009663407754477988), (2235, 0.009660423262670815), (1777, 0.0096584585902973), (290, 0.00963458770485829), (1431, 0.009626766714797178), (3000, 0.009625679535734727), (3113, 0.009588828568600886), (4380, 0.009567479241250202), (1709, 0.009547819626825377), (2430, 0.00953833137846371), (1115, 0.00948704240561897), (289, 0.00947617908193493), (3980, 0.009471783490032982), (2774, 0.009434626071850263), (172, 0.00943109559005515), (1804, 0.009429819945261441), (2013, 0.00940706214482203), (294, 0.009400877394096395), (63, 0.00939668188462073), (931, 0.009394794898028037), (1886, 0.009384343473513478), (1133, 0.009381069117863256), (4623, 0.009367337774772883), (4268, 0.009363316302994373), (4688, 0.009334873900546834), (2010, 0.009324043445434945), (2174, 0.009318702033197788), (1549, 0.009273591199274043), (1757, 0.009261252688373115), (3746, 0.00925467509484329), (3195, 0.00925175780799447), (2687, 0.009249378693780747), (1100, 0.009245693984436552), (1026, 0.009225239470800964), (2807, 0.009222998963497313), (1130, 0.009212252393993824), (2111, 0.009208946946933898), (3400, 0.009193977026816819), (2663, 0.009191089117891469), (3447, 0.009186554937641974), (2632, 0.009180303187290174), (2553, 0.009165395622374669), (2759, 0.009160756817416705), (2698, 0.009159704039243509), (1967, 0.00913307817963526), (2365, 0.009128376755293524), (3370, 0.00912553223750125), (404, 0.009123483516781414), (790, 0.00911202802618853), (2912, 0.00910319383085978), (627, 0.009091966469459822), (1267, 0.009088218192475444), (672, 0.009081746820838656), (3526, 0.009076889655042837), (3010, 0.009065661297423012), (3487, 0.009039026563020604), (4658, 0.009038230801757615), (1561, 0.009036410485023003), (396, 0.009034315559494794), (2167, 0.009033938707381332), (1996, 0.009033259262086797), (1248, 0.00903264142341751), (3503, 0.009014907111990088), (2829, 0.00900718224664374), (3970, 0.008991618691566537), (4155, 0.00898145055428829), (4587, 0.008960147479747707), (2409, 0.008953992925061995), (2517, 0.008937066688861723), (4441, 0.008930587012851822), (1878, 0.008926438800334587), (4374, 0.008924062475965907), (962, 0.00891445061932761), (373, 0.008909801252580578), (698, 0.008894792077698185), (1404, 0.008886717488741714), (2525, 0.008852661608046174), (2311, 0.008843631105137594), (1451, 0.008830753021114638), (311, 0.008824141314293424), (4418, 0.008818515510282747), (4548, 0.008812805626934102), (3399, 0.008783280528440256), (3205, 0.008782408347733518), (2327, 0.008765235352937642), (3338, 0.008758730885627349), (1778, 0.00875669564771782), (2201, 0.008745509440443647), (3829, 0.00873905474838926), (549, 0.00872255012822922), (3439, 0.008709009259655363), (1291, 0.00870839899459556), (3420, 0.008704374922565537), (3120, 0.008703939917426204), (240, 0.008701848434944754), (2317, 0.008698720605178008), (3854, 0.008693814708028503), (1920, 0.008692554918583003), (3558, 0.008679389128619696), (3589, 0.008669513721992221), (324, 0.008665009685594053), (2324, 0.008663236240767853), (2845, 0.008653052528016946), (2347, 0.008642308293158605), (121, 0.008640575200487987), (829, 0.00863629103731894), (524, 0.008624501207918198), (3244, 0.00861210376602917), (3329, 0.008594712466911503), (1210, 0.008585459404984466), (957, 0.008584488985498144), (465, 0.008582933810037588), (338, 0.008577262333995502), (2036, 0.008558059785081515), (352, 0.008544644825358801), (337, 0.008532785442224846), (1865, 0.008528778370723668), (1216, 0.008525076640655885), (4109, 0.008506539191866579), (1816, 0.008474604444041427), (2262, 0.008469710928781475), (3716, 0.00844958792590485), (2514, 0.008446286326607641), (2191, 0.00843127777593979), (3111, 0.008414326802770997), (2580, 0.008395670832507092), (732, 0.008392526180852608), (1762, 0.008386908842741828), (1539, 0.008383013910917869), (1392, 0.008358676890360349), (132, 0.008334902621086665), (705, 0.008322964163702526), (4343, 0.00831559158200852), (914, 0.008313618252612108), (2074, 0.008299588058100358), (605, 0.008272360315375345), (1213, 0.008258450595718446), (3411, 0.008248213582374504), (3894, 0.00824513065558103), (317, 0.008231983334692885), (1051, 0.008211760200330999), (2453, 0.00815178446626866), (2520, 0.008149804245588314), (1559, 0.008136434357774043), (629, 0.008118144123481243), (4426, 0.008111832687208139), (3393, 0.008085615027111453), (86, 0.00808517837862981), (2, 0.00806674385442584), (2801, 0.008064658944002904), (1008, 0.008055844944620437), (3279, 0.008055841943711627), (1215, 0.008047156117046378), (4570, 0.008026436394820957), (3579, 0.008024747309294528), (3731, 0.008017453932551223), (3752, 0.007986852308696201), (3344, 0.007984159138102196), (2204, 0.007969529856262286), (403, 0.00796844119974818), (2035, 0.007964337254525063), (461, 0.007951394756450273), (1615, 0.00795139308751615), (1365, 0.007938845792683917), (3674, 0.007935866838532103), (3377, 0.007857095863150882), (1042, 0.007851802442095403), (1758, 0.007764331032587091), (3328, 0.007760482566436542), (538, 0.0077550651815694975), (4454, 0.007746378323959244), (113, 0.007730946890091348), (4516, 0.007699497365446197), (3903, 0.007690885049406439), (4526, 0.007658418908604805), (156, 0.007637199563605071), (1344, 0.007602076800016878), (3703, 0.0076008952191497555), (691, 0.0075983166964077664), (1999, 0.007584682411489991), (2532, 0.00758021594849317), (3587, 0.007563663914441084), (4018, 0.007559631577370605), (4160, 0.007528202524318609), (1586, 0.0075108369882092435), (1474, 0.00748806936224023), (309, 0.007477522573696541), (3877, 0.007475857399187695), (2766, 0.007459722400224064), (609, 0.007459307800124895), (365, 0.00745636223744645), (4034, 0.007449177386099248), (1725, 0.007423045489782888), (3387, 0.007414699724459317), (3444, 0.007401365365659077), (168, 0.007388737528587364), (677, 0.007358531666417609), (2575, 0.007338822912602072), (363, 0.00733707827940382), (2659, 0.007335284184652208), (4705, 0.007280771702366951), (4086, 0.007265811454488925), (4118, 0.007240743817151336), (340, 0.007214284938862995), (4492, 0.007212904106869343), (1228, 0.0072053418014805205), (4351, 0.00720058979394637), (1731, 0.007198702707562586), (996, 0.007185817359019088), (351, 0.0071726006184044), (2609, 0.0071618126522655125), (3461, 0.007157200264942388), (361, 0.0071275335628312375), (4202, 0.007120590250071042), (228, 0.007120098439794335), (297, 0.007103589240605453), (301, 0.007102651996738633), (4323, 0.007072505473649356), (1389, 0.00707055459057551), (3208, 0.007058324671908095), (3983, 0.007043124964359605), (1277, 0.007030328791865774), (4354, 0.007024064662233499), (2249, 0.007021878420349952), (155, 0.007015377143378129), (1278, 0.00700814952029384), (1475, 0.006999726625625792), (586, 0.006994299352119735), (1932, 0.006972179168654396), (1165, 0.0069552057045636825), (3287, 0.006941340208037505), (2667, 0.006939074626572018), (1351, 0.006933185277832921), (4709, 0.006921818378356541), (2332, 0.006919344361269557), (2048, 0.0069109153149870565), (4643, 0.006906729260296676), (871, 0.006899005765667547), (2275, 0.006896163113356484), (4666, 0.006894210457604927), (2172, 0.006876126378902431), (4533, 0.006871904958999064), (4663, 0.0068706451770911324), (947, 0.006869255822842292), (2990, 0.006855223812594428), (1085, 0.006845112731326115), (3272, 0.006833829970946254), (4288, 0.006831283329197601), (1495, 0.006831183513211842), (1087, 0.006826292497953077), (2551, 0.006822375635270885), (1889, 0.0068168544385844455), (2887, 0.006803524070518482), (2130, 0.006787309982636744), (4501, 0.0067837144099315546), (1706, 0.006775636386647988), (2414, 0.006768294152921739), (182, 0.006768023690419082), (4300, 0.006766966481004858), (3482, 0.006755591315114705), (1388, 0.006743719093011598), (299, 0.0067133988774449715), (4195, 0.006710402143603139), (2547, 0.0067058563287570195), (3346, 0.006696633350005133), (4016, 0.006695996284572634), (3805, 0.006694955072542885), (455, 0.006671171017252714), (1238, 0.006668710562619505), (724, 0.0066681814052045), (3058, 0.006654328394436887), (1198, 0.006646441865818541), (2569, 0.0066347109165898486), (2948, 0.006631575882228124), (1126, 0.00663026936722001), (1598, 0.006628165939624655), (1272, 0.006615769483814799), (3715, 0.006571124728839006), (4218, 0.006567845479201751), (4036, 0.0065606537040778365), (2504, 0.006555711479883972), (2645, 0.00655364050047356), (824, 0.006546747639773099), (1607, 0.0065387857597004485), (3286, 0.006518955845395364), (4440, 0.0065124324068614806), (4646, 0.006492774703275437), (1287, 0.006469111597639595), (720, 0.0064577994755637405), (3826, 0.006455134179359864), (179, 0.0064539715169274385), (3472, 0.00645152037928258), (4303, 0.006447686717444768), (1231, 0.006434166699683588), (3567, 0.006433088792094214), (2795, 0.006431002949121441), (1912, 0.006428514264999026), (2600, 0.006424689889217079), (4523, 0.006423124373954516), (852, 0.006422910028644221), (1490, 0.006415403504342157), (948, 0.0064119174882559605), (2050, 0.006402434875179264), (2473, 0.006394662879120121), (1327, 0.006384975966766177), (4428, 0.006375748102590349), (1738, 0.006374235379080978), (53, 0.006362577784296497), (185, 0.006347871237861274), (4569, 0.00630301861086364), (650, 0.006286650069032642), (1855, 0.00628033130912558), (3588, 0.00625671016459895), (2590, 0.006250520534364684), (921, 0.006249059436839613), (3426, 0.006246082879054125), (935, 0.006245316987975187), (4443, 0.006238268044248052), (4723, 0.006226277117618103), (4653, 0.006226103258386121), (1514, 0.006214037023837694), (2077, 0.00621045248741518), (4009, 0.0062040785866471874), (2459, 0.006198248287516133), (4631, 0.006183975322641061), (409, 0.006181770080751873), (1079, 0.00617459470714903), (202, 0.006168864796976728), (3395, 0.0061682259632214), (3554, 0.006164437012434894), (920, 0.006164004091637862), (457, 0.006162619763628867), (2778, 0.006157566190394894), (4698, 0.006143946383979882), (2920, 0.006143499263737834), (2660, 0.006138833460876424), (1288, 0.00610925502595821), (1941, 0.006094953114625857), (608, 0.006086489854492196), (428, 0.006062066778483927), (3726, 0.006056399999628036), (2741, 0.006045643809408121), (699, 0.006038234993158148), (2772, 0.00603229985202256), (1016, 0.0060312274454430515), (3397, 0.0060258423575736565), (1219, 0.006023590943047233), (3327, 0.006022657846418513), (795, 0.006018870148871725), (4642, 0.006009645042905039), (594, 0.0060015192338536884), (904, 0.005994489814529478), (3865, 0.005988042945318754), (1601, 0.005959963805027232), (882, 0.005951951340072693), (1540, 0.005948758939349979), (3785, 0.005934498378168836), (3440, 0.005916708730204961), (3741, 0.005915273039577137), (3312, 0.005914683743203634), (3450, 0.005914270790123218), (753, 0.0059030908026515535), (277, 0.005902149329938324), (4597, 0.005900227059695408), (1591, 0.005897722562025117), (1815, 0.005894870177818689), (905, 0.005890778924836721), (1090, 0.005890666824504805), (3947, 0.005884771875191463), (3708, 0.005879673179421161), (3803, 0.005874683756348597), (1194, 0.00586645686551672), (3394, 0.005855696248870936), (2625, 0.00585067115342859), (3165, 0.00584897872753973), (2676, 0.005839366569265636), (4244, 0.005833921749374263), (125, 0.005829805318493613), (38, 0.005819600682671033), (242, 0.0058134246291846586), (1397, 0.005806447882979422), (4741, 0.005802893864429819), (4121, 0.005791897524041262), (1850, 0.005791431791287865), (3253, 0.005790951229338541), (2476, 0.005790407528548497), (2864, 0.005788486064871912), (2181, 0.00578021784621172), (2881, 0.005767440743115329), (3383, 0.005766147381038655), (286, 0.005761824392098212), (2576, 0.00576100193108372), (2688, 0.005760561073123461), (3680, 0.005758477974930613), (4462, 0.005754758958460163), (1833, 0.005749529921311364), (683, 0.005748913863993276), (4393, 0.005744637549628655), (1560, 0.005738482319207466), (2352, 0.0057383788218604145), (3168, 0.005734181194491014), (3373, 0.005731570653771344), (533, 0.005727638260443134), (682, 0.005727246809403682), (1023, 0.005724175792393674), (1050, 0.005720234044514979), (139, 0.0057135255584554985), (40, 0.005712381468276702), (2903, 0.005710748869229916), (4630, 0.005710739571635964), (4185, 0.005710550337415213), (3221, 0.005695606195966519), (3593, 0.005684619189356099), (4293, 0.00568246593958928), (458, 0.005682097913323985), (2840, 0.005679608574886855), (729, 0.005678568733925389), (1332, 0.005673769581180797), (2383, 0.005662176204946005), (4119, 0.005659895526568052), (4144, 0.005645654625730543), (688, 0.005641178033812138), (58, 0.005630010350142351), (2040, 0.005625870500182432), (3192, 0.005625703384646577), (2538, 0.0056250773423423385), (4619, 0.005618590049076246), (726, 0.00561434735543746), (48, 0.005611031053655782), (595, 0.0056005467944648685), (1454, 0.005593306360027055), (3604, 0.0055932310955202486), (162, 0.005593142339955403), (1681, 0.0055907807258763365), (2626, 0.005588895625107521), (1221, 0.0055822606608433595), (3424, 0.005579331674874632), (2811, 0.005576619735415335), (123, 0.00557144592489913), (673, 0.005557110252306415), (1162, 0.005555713824303327), (4116, 0.005551842249512617), (3044, 0.00555091464479975), (3263, 0.005547697089024739), (350, 0.005543863713179266), (3064, 0.005541112558177607), (57, 0.005537629304700975), (513, 0.005535709645191292), (2979, 0.005532556174101459), (2082, 0.00552448827603276), (514, 0.005522459728268161), (3642, 0.005522114672246349), (3771, 0.005515675200062588), (1015, 0.005504712250134733), (4659, 0.005495269352261145), (728, 0.005492457288887513), (4656, 0.005491238191990115), (4436, 0.005491183761259271), (210, 0.005488297984479731), (4726, 0.0054762567250853465), (3112, 0.005475882764631818), (1770, 0.00547565653169333), (4727, 0.005470547956617013), (1708, 0.0054694604433331686), (2243, 0.005462198360845367), (3451, 0.005458185696254103), (2028, 0.005453772091675728), (2670, 0.005450753407265064), (4131, 0.005449487202291448), (4038, 0.005444173783332475), (1732, 0.005442680818594911), (180, 0.005441721534449926), (4005, 0.005441354003332301), (2963, 0.005437252453498137), (1659, 0.005427877207184044), (10, 0.005426822818442424), (2499, 0.005414356903725497), (3710, 0.005413778618682901), (3297, 0.005411015055770853), (68, 0.005400721905399171), (1687, 0.005399276269729049), (3464, 0.005397012523983682), (2819, 0.005394557272050842), (4384, 0.005393683075655158), (4233, 0.005393625041671313), (1989, 0.005392983532419383), (1853, 0.005390206910422584), (2714, 0.00538943874392589), (4519, 0.00538677452924363), (1484, 0.005386708923004416), (1822, 0.005375616095737862), (470, 0.005370843377699781), (3259, 0.005370508217314465), (4392, 0.005362257856688693), (2959, 0.005360862011155663), (2754, 0.0053388409284783325), (1734, 0.005335854618494464), (4430, 0.005331672944869676), (1736, 0.005330997229490853), (3862, 0.005318449115508627), (1229, 0.0053164100860228275), (3591, 0.005314853162965949), (3241, 0.005312660355416041), (3310, 0.005312422588060798), (4629, 0.005312314846345089), (2085, 0.005305617380374772), (1513, 0.005304737886327207), (1432, 0.005304474374089246), (4586, 0.005302632885169654), (386, 0.005302591072767089), (2241, 0.005295422746282965), (4390, 0.00529175645555069), (1949, 0.005279366344491157), (3507, 0.005278984994319262), (4486, 0.005278321529131202), (4716, 0.0052778159149), (4379, 0.005276181770772635), (2238, 0.005273720373307793), (2780, 0.005272747173028015), (4249, 0.005254265562042775), (4745, 0.00525331701220003), (1735, 0.005251591488506808), (1516, 0.005244440718933362), (926, 0.005236986620172543), (2867, 0.00523636022607072), (809, 0.005227991512298198), (869, 0.005221180657530716), (4376, 0.0052209500097089075), (4098, 0.005219907216809401), (2947, 0.005219421709926679), (3445, 0.005215242011787816), (3522, 0.00521182843698815), (908, 0.005202316339571683), (1337, 0.00519679644995356), (4684, 0.00519669750514754), (1740, 0.005194735967850222), (3603, 0.005189560125356372), (1122, 0.005184492826693353), (2788, 0.005184351668834886), (3707, 0.00518287740034239), (2210, 0.00517756152027005), (994, 0.0051750791053071276), (353, 0.005171946352900596), (1751, 0.005152220381880466), (1138, 0.0051512900188397425), (3002, 0.005146229954370226), (3676, 0.005146115243535294), (1510, 0.00514093490644069), (3210, 0.005136618466314347), (4503, 0.005135804607695174), (848, 0.00513566835400953), (3227, 0.00513457306708298), (1512, 0.005125542651602694), (4435, 0.005116666051515594), (560, 0.005107772625014685), (4001, 0.005100944663980299), (2081, 0.005097758531437283), (4310, 0.005097531008731489), (749, 0.005095433179631056), (986, 0.005088484725643405), (3416, 0.005087606255335039), (3343, 0.005087221234495749), (2212, 0.005081332450789898), (1581, 0.005077553515898863), (2943, 0.005074069838700704), (4148, 0.005072445513456977), (3698, 0.0050577007068472795), (2562, 0.005055514091703302), (3432, 0.005055068644493796), (1102, 0.005054077488233404), (4708, 0.0050534759291161755), (1483, 0.005052873802339425), (3441, 0.005050546212949563), (3340, 0.005047947101846289), (1252, 0.005045334080580912), (1504, 0.005043599718237451), (1442, 0.00504151753561437), (1226, 0.0050411017011595845), (1692, 0.0050385222486863555), (2825, 0.005030653521043224), (534, 0.005029548978639815), (233, 0.005025993117064435), (3161, 0.005023710611106697), (1127, 0.005012148280484355), (3546, 0.005009518611388316), (3814, 0.005008843577351117), (1338, 0.0050085810891290885), (3602, 0.005007128890809646), (727, 0.005003158495767999), (4020, 0.0049958480548172556), (2910, 0.004982468571919212), (244, 0.004981706395575845), (1406, 0.004976970081010334), (2239, 0.004967356278396098), (500, 0.004965364412416848), (4039, 0.0049640974857084125), (217, 0.004963460103389384), (230, 0.004959201801565787), (1096, 0.004954179211103859), (1035, 0.004947113182521246), (328, 0.004945784128806479), (3531, 0.00493923325612289), (825, 0.004938921490701895), (4573, 0.004936626890780736), (1044, 0.004933088800869022), (4673, 0.004932200138009329), (651, 0.00491643715799583), (3660, 0.004910751126485675), (2918, 0.004906104277690644), (4543, 0.0049049844558570034), (1544, 0.004888389762074079), (1545, 0.004883255130398422), (3126, 0.004876799156680758), (2024, 0.004876431036058727), (2206, 0.004867499263238643), (4481, 0.004865488266769355), (3085, 0.004864809587830777), (854, 0.004859922098770329), (3978, 0.00485721017997087), (2787, 0.004842249725255379), (2706, 0.004841301429233157), (144, 0.0048393578022277155), (644, 0.004837535407445185), (3465, 0.004836938187116536), (1274, 0.0048361438547522215), (2224, 0.004832189222283259), (827, 0.004830991637118493), (4345, 0.0048303410073670386), (1818, 0.004825654015628246), (4037, 0.004824100403517728), (2094, 0.004818902169057124), (336, 0.004815540132146866), (878, 0.004809810896240881), (1054, 0.004808551859235113), (641, 0.004808228315204733), (4012, 0.004806114980091062), (3723, 0.0048058625323222455), (2166, 0.004795907624868726), (1973, 0.0047904692297537485), (3609, 0.004788307736323978), (2184, 0.004783602151283834), (1749, 0.004776207760805445), (2885, 0.004773954446716475), (1665, 0.004768032429176413), (1721, 0.004765173833415849), (4568, 0.004759789862148641), (2634, 0.004758226628691904), (4328, 0.004757238512576882), (2052, 0.0047491326320427425), (2992, 0.004748166632442189), (2862, 0.004745822133041998), (2958, 0.004744178210532723), (690, 0.0047379754993361525), (4591, 0.004736182358616479), (866, 0.004734085482488336), (3143, 0.0047295143503489605), (868, 0.004728069198298872), (2742, 0.00472803457927096), (1183, 0.004726735929748125), (2513, 0.004722950895579817), (2429, 0.004720492980834439), (2777, 0.004711940564009187), (1823, 0.004711587061518798), (3993, 0.004704991918048061), (2315, 0.0046937508070904405), (1357, 0.004692860950403429), (2674, 0.004687656408436338), (2274, 0.0046855955765139935), (4649, 0.004676632745710445), (411, 0.004674124727678744), (2791, 0.004670238440639063), (3306, 0.004668592426999212), (4600, 0.004660238147573763), (3738, 0.004657835053026629), (1065, 0.0046544048307561375), (1796, 0.004646316565111473), (3130, 0.004645677662795729), (3953, 0.004633340291436092), (2033, 0.004632068448895547), (1680, 0.004624874124533875), (3267, 0.0046206891043370415), (4044, 0.004620517643810018), (4447, 0.0046200548613142), (3860, 0.004617110859029837), (2424, 0.004615740081912828), (170, 0.00461398779738674), (632, 0.004602430178350161), (515, 0.004590199756538681), (800, 0.004577190324543849), (4590, 0.004559925152447589), (3556, 0.004553247522021707), (1870, 0.004551456627263809), (3070, 0.004548893687484188), (1384, 0.004532267588087979), (4608, 0.004518992637422136), (4450, 0.004514154525866089), (4661, 0.004513954269941459), (1290, 0.004511486596588394), (495, 0.004504010214066461), (851, 0.004461102442754855), (4432, 0.004457217212629781), (4553, 0.00445276656801448), (2971, 0.00443092221037486), (653, 0.004430635677745044), (3525, 0.0044271854105398765), (4353, 0.0044223582477581624), (2412, 0.004421726503102626), (4429, 0.004421498421319006), (2842, 0.004402795629048701), (1828, 0.004394016129538099), (3339, 0.0043824041056241955), (3958, 0.004367002016710182), (3776, 0.004361309036036593), (779, 0.004353002894831688), (1627, 0.00435299965651173), (2020, 0.004343760583591357), (1781, 0.004332917124626727), (4095, 0.004321677768330685), (1971, 0.0043162850295876245), (723, 0.004310932167714573), (621, 0.004308589287620069), (3658, 0.0042791573496783605), (3213, 0.004268681901167916), (4733, 0.004249010878286197), (1092, 0.0042445086772198186), (44, 0.004239033909104876), (2969, 0.004223555139167665), (442, 0.0042224570858587), (3024, 0.004212565318242388), (2025, 0.00420076991726468), (738, 0.0041950899269684195), (1241, 0.00418632441625252), (2913, 0.00417688663326263), (2697, 0.004168919206727334), (435, 0.004129262387342898), (719, 0.004091102967634053), (1576, 0.004078856914510741), (159, 0.003985545567277271), (2113, 0.003984952389465658), (1417, 0.003975079343010592), (2767, 0.003972929162676839), (3946, 0.0039490817761094876), (1005, 0.003892341143956384), (3645, 0.003838342364984529), (296, 0.003816624063683471), (332, 0.0038129985369237695), (1471, 0.003776303730600691), (929, 0.003673457307004531), (4752, 0.0036477001856196067), (1153, 0.0035704611724900067), (3429, 0.003462316117120466), (3, 0.0), (4, 0.0), (13, 0.0), (14, 0.0), (18, 0.0), (20, 0.0), (21, 0.0), (23, 0.0), (25, 0.0), (26, 0.0), (29, 0.0), (34, 0.0), (42, 0.0), (47, 0.0), (49, 0.0), (50, 0.0), (51, 0.0), (52, 0.0), (60, 0.0), (62, 0.0), (66, 0.0), (71, 0.0), (81, 0.0), (82, 0.0), (83, 0.0), (89, 0.0), (99, 0.0), (100, 0.0), (103, 0.0), (114, 0.0), (116, 0.0), (120, 0.0), (124, 0.0), (127, 0.0), (129, 0.0), (131, 0.0), (133, 0.0), (134, 0.0), (138, 0.0), (140, 0.0), (145, 0.0), (147, 0.0), (149, 0.0), (154, 0.0), (157, 0.0), (161, 0.0), (163, 0.0), (164, 0.0), (166, 0.0), (169, 0.0), (173, 0.0), (175, 0.0), (176, 0.0), (177, 0.0), (183, 0.0), (184, 0.0), (186, 0.0), (188, 0.0), (190, 0.0), (192, 0.0), (193, 0.0), (195, 0.0), (196, 0.0), (197, 0.0), (198, 0.0), (204, 0.0), (205, 0.0), (206, 0.0), (207, 0.0), (209, 0.0), (211, 0.0), (213, 0.0), (214, 0.0), (215, 0.0), (216, 0.0), (221, 0.0), (222, 0.0), (224, 0.0), (226, 0.0), (227, 0.0), (229, 0.0), (238, 0.0), (243, 0.0), (245, 0.0), (246, 0.0), (248, 0.0), (250, 0.0), (253, 0.0), (254, 0.0), (256, 0.0), (262, 0.0), (267, 0.0), (268, 0.0), (270, 0.0), (272, 0.0), (273, 0.0), (274, 0.0), (275, 0.0), (276, 0.0), (278, 0.0), (280, 0.0), (281, 0.0), (287, 0.0), (291, 0.0), (293, 0.0), (302, 0.0), (304, 0.0), (312, 0.0), (313, 0.0), (318, 0.0), (325, 0.0), (326, 0.0), (329, 0.0), (331, 0.0), (335, 0.0), (341, 0.0), (344, 0.0), (346, 0.0), (348, 0.0), (349, 0.0), (354, 0.0), (359, 0.0), (360, 0.0), (370, 0.0), (372, 0.0), (384, 0.0), (385, 0.0), (387, 0.0), (388, 0.0), (391, 0.0), (392, 0.0), (393, 0.0), (395, 0.0), (398, 0.0), (399, 0.0), (402, 0.0), (406, 0.0), (408, 0.0), (410, 0.0), (412, 0.0), (414, 0.0), (415, 0.0), (420, 0.0), (423, 0.0), (431, 0.0), (437, 0.0), (441, 0.0), (444, 0.0), (445, 0.0), (446, 0.0), (449, 0.0), (454, 0.0), (456, 0.0), (459, 0.0), (462, 0.0), (464, 0.0), (466, 0.0), (471, 0.0), (473, 0.0), (475, 0.0), (476, 0.0), (480, 0.0), (483, 0.0), (485, 0.0), (487, 0.0), (489, 0.0), (490, 0.0), (493, 0.0), (499, 0.0), (503, 0.0), (504, 0.0), (506, 0.0), (507, 0.0), (510, 0.0), (518, 0.0), (520, 0.0), (521, 0.0), (522, 0.0), (523, 0.0), (525, 0.0), (526, 0.0), (527, 0.0), (529, 0.0), (535, 0.0), (536, 0.0), (541, 0.0), (544, 0.0), (547, 0.0), (551, 0.0), (552, 0.0), (556, 0.0), (557, 0.0), (559, 0.0), (563, 0.0), (564, 0.0), (571, 0.0), (574, 0.0), (576, 0.0), (577, 0.0), (578, 0.0), (579, 0.0), (580, 0.0), (581, 0.0), (582, 0.0), (584, 0.0), (585, 0.0), (587, 0.0), (588, 0.0), (589, 0.0), (590, 0.0), (593, 0.0), (596, 0.0), (597, 0.0), (598, 0.0), (607, 0.0), (611, 0.0), (612, 0.0), (616, 0.0), (617, 0.0), (618, 0.0), (623, 0.0), (624, 0.0), (626, 0.0), (628, 0.0), (630, 0.0), (633, 0.0), (634, 0.0), (636, 0.0), (637, 0.0), (638, 0.0), (642, 0.0), (645, 0.0), (646, 0.0), (648, 0.0), (652, 0.0), (657, 0.0), (658, 0.0), (660, 0.0), (665, 0.0), (667, 0.0), (671, 0.0), (675, 0.0), (676, 0.0), (679, 0.0), (685, 0.0), (689, 0.0), (693, 0.0), (696, 0.0), (697, 0.0), (701, 0.0), (703, 0.0), (704, 0.0), (706, 0.0), (708, 0.0), (709, 0.0), (710, 0.0), (711, 0.0), (712, 0.0), (722, 0.0), (730, 0.0), (734, 0.0), (735, 0.0), (736, 0.0), (737, 0.0), (740, 0.0), (741, 0.0), (742, 0.0), (743, 0.0), (746, 0.0), (752, 0.0), (754, 0.0), (755, 0.0), (757, 0.0), (758, 0.0), (759, 0.0), (760, 0.0), (761, 0.0), (764, 0.0), (765, 0.0), (766, 0.0), (767, 0.0), (768, 0.0), (770, 0.0), (771, 0.0), (772, 0.0), (773, 0.0), (774, 0.0), (780, 0.0), (782, 0.0), (783, 0.0), (787, 0.0), (788, 0.0), (789, 0.0), (791, 0.0), (797, 0.0), (799, 0.0), (801, 0.0), (805, 0.0), (806, 0.0), (807, 0.0), (808, 0.0), (810, 0.0), (811, 0.0), (814, 0.0), (816, 0.0), (817, 0.0), (818, 0.0), (819, 0.0), (823, 0.0), (828, 0.0), (830, 0.0), (831, 0.0), (832, 0.0), (836, 0.0), (837, 0.0), (838, 0.0), (840, 0.0), (841, 0.0), (843, 0.0), (857, 0.0), (858, 0.0), (859, 0.0), (860, 0.0), (861, 0.0), (862, 0.0), (865, 0.0), (867, 0.0), (870, 0.0), (873, 0.0), (874, 0.0), (885, 0.0), (886, 0.0), (888, 0.0), (889, 0.0), (890, 0.0), (893, 0.0), (894, 0.0), (897, 0.0), (898, 0.0), (899, 0.0), (900, 0.0), (907, 0.0), (910, 0.0), (917, 0.0), (922, 0.0), (925, 0.0), (927, 0.0), (930, 0.0), (933, 0.0), (934, 0.0), (937, 0.0), (940, 0.0), (941, 0.0), (942, 0.0), (943, 0.0), (949, 0.0), (953, 0.0), (955, 0.0), (958, 0.0), (959, 0.0), (960, 0.0), (964, 0.0), (967, 0.0), (968, 0.0), (969, 0.0), (970, 0.0), (971, 0.0), (972, 0.0), (976, 0.0), (978, 0.0), (980, 0.0), (983, 0.0), (984, 0.0), (985, 0.0), (987, 0.0), (989, 0.0), (991, 0.0), (993, 0.0), (995, 0.0), (998, 0.0), (999, 0.0), (1004, 0.0), (1006, 0.0), (1018, 0.0), (1019, 0.0), (1020, 0.0), (1021, 0.0), (1030, 0.0), (1032, 0.0), (1033, 0.0), (1034, 0.0), (1036, 0.0), (1037, 0.0), (1039, 0.0), (1040, 0.0), (1041, 0.0), (1047, 0.0), (1048, 0.0), (1049, 0.0), (1052, 0.0), (1053, 0.0), (1059, 0.0), (1061, 0.0), (1062, 0.0), (1064, 0.0), (1068, 0.0), (1070, 0.0), (1073, 0.0), (1075, 0.0), (1077, 0.0), (1078, 0.0), (1080, 0.0), (1081, 0.0), (1084, 0.0), (1088, 0.0), (1089, 0.0), (1093, 0.0), (1098, 0.0), (1103, 0.0), (1104, 0.0), (1105, 0.0), (1106, 0.0), (1107, 0.0), (1109, 0.0), (1110, 0.0), (1117, 0.0), (1119, 0.0), (1121, 0.0), (1124, 0.0), (1128, 0.0), (1132, 0.0), (1136, 0.0), (1139, 0.0), (1142, 0.0), (1143, 0.0), (1144, 0.0), (1145, 0.0), (1147, 0.0), (1148, 0.0), (1149, 0.0), (1152, 0.0), (1156, 0.0), (1157, 0.0), (1158, 0.0), (1161, 0.0), (1163, 0.0), (1169, 0.0), (1170, 0.0), (1176, 0.0), (1177, 0.0), (1180, 0.0), (1181, 0.0), (1182, 0.0), (1184, 0.0), (1186, 0.0), (1187, 0.0), (1189, 0.0), (1191, 0.0), (1192, 0.0), (1193, 0.0), (1196, 0.0), (1197, 0.0), (1199, 0.0), (1200, 0.0), (1201, 0.0), (1203, 0.0), (1208, 0.0), (1209, 0.0), (1211, 0.0), (1217, 0.0), (1218, 0.0), (1222, 0.0), (1223, 0.0), (1224, 0.0), (1227, 0.0), (1232, 0.0), (1235, 0.0), (1246, 0.0), (1247, 0.0), (1251, 0.0), (1260, 0.0), (1268, 0.0), (1275, 0.0), (1282, 0.0), (1284, 0.0), (1286, 0.0), (1294, 0.0), (1298, 0.0), (1299, 0.0), (1300, 0.0), (1303, 0.0), (1305, 0.0), (1306, 0.0), (1312, 0.0), (1313, 0.0), (1316, 0.0), (1318, 0.0), (1319, 0.0), (1325, 0.0), (1329, 0.0), (1330, 0.0), (1331, 0.0), (1339, 0.0), (1340, 0.0), (1343, 0.0), (1349, 0.0), (1353, 0.0), (1355, 0.0), (1356, 0.0), (1359, 0.0), (1362, 0.0), (1363, 0.0), (1364, 0.0), (1372, 0.0), (1375, 0.0), (1376, 0.0), (1390, 0.0), (1391, 0.0), (1394, 0.0), (1395, 0.0), (1399, 0.0), (1400, 0.0), (1405, 0.0), (1415, 0.0), (1416, 0.0), (1420, 0.0), (1421, 0.0), (1422, 0.0), (1423, 0.0), (1424, 0.0), (1425, 0.0), (1426, 0.0), (1427, 0.0), (1428, 0.0), (1429, 0.0), (1430, 0.0), (1434, 0.0), (1438, 0.0), (1439, 0.0), (1441, 0.0), (1444, 0.0), (1446, 0.0), (1447, 0.0), (1448, 0.0), (1449, 0.0), (1450, 0.0), (1452, 0.0), (1453, 0.0), (1456, 0.0), (1457, 0.0), (1461, 0.0), (1463, 0.0), (1464, 0.0), (1476, 0.0), (1479, 0.0), (1480, 0.0), (1481, 0.0), (1482, 0.0), (1485, 0.0), (1487, 0.0), (1489, 0.0), (1491, 0.0), (1497, 0.0), (1499, 0.0), (1501, 0.0), (1506, 0.0), (1508, 0.0), (1509, 0.0), (1517, 0.0), (1518, 0.0), (1520, 0.0), (1523, 0.0), (1525, 0.0), (1526, 0.0), (1528, 0.0), (1531, 0.0), (1532, 0.0), (1541, 0.0), (1550, 0.0), (1553, 0.0), (1556, 0.0), (1557, 0.0), (1558, 0.0), (1562, 0.0), (1565, 0.0), (1568, 0.0), (1571, 0.0), (1573, 0.0), (1578, 0.0), (1582, 0.0), (1583, 0.0), (1585, 0.0), (1588, 0.0), (1593, 0.0), (1594, 0.0), (1595, 0.0), (1597, 0.0), (1602, 0.0), (1605, 0.0), (1606, 0.0), (1609, 0.0), (1610, 0.0), (1612, 0.0), (1614, 0.0), (1617, 0.0), (1618, 0.0), (1619, 0.0), (1620, 0.0), (1621, 0.0), (1622, 0.0), (1623, 0.0), (1628, 0.0), (1629, 0.0), (1630, 0.0), (1633, 0.0), (1635, 0.0), (1642, 0.0), (1643, 0.0), (1644, 0.0), (1648, 0.0), (1654, 0.0), (1655, 0.0), (1656, 0.0), (1658, 0.0), (1660, 0.0), (1661, 0.0), (1663, 0.0), (1666, 0.0), (1667, 0.0), (1668, 0.0), (1669, 0.0), (1670, 0.0), (1671, 0.0), (1672, 0.0), (1673, 0.0), (1674, 0.0), (1676, 0.0), (1683, 0.0), (1684, 0.0), (1685, 0.0), (1688, 0.0), (1689, 0.0), (1690, 0.0), (1691, 0.0), (1694, 0.0), (1695, 0.0), (1698, 0.0), (1699, 0.0), (1702, 0.0), (1704, 0.0), (1707, 0.0), (1710, 0.0), (1711, 0.0), (1712, 0.0), (1715, 0.0), (1719, 0.0), (1720, 0.0), (1722, 0.0), (1724, 0.0), (1729, 0.0), (1730, 0.0), (1733, 0.0), (1739, 0.0), (1742, 0.0), (1744, 0.0), (1746, 0.0), (1747, 0.0), (1748, 0.0), (1752, 0.0), (1753, 0.0), (1754, 0.0), (1759, 0.0), (1760, 0.0), (1761, 0.0), (1765, 0.0), (1766, 0.0), (1767, 0.0), (1769, 0.0), (1771, 0.0), (1774, 0.0), (1775, 0.0), (1776, 0.0), (1779, 0.0), (1780, 0.0), (1784, 0.0), (1785, 0.0), (1787, 0.0), (1790, 0.0), (1792, 0.0), (1794, 0.0), (1795, 0.0), (1800, 0.0), (1801, 0.0), (1803, 0.0), (1806, 0.0), (1807, 0.0), (1811, 0.0), (1813, 0.0), (1814, 0.0), (1817, 0.0), (1819, 0.0), (1821, 0.0), (1824, 0.0), (1826, 0.0), (1827, 0.0), (1831, 0.0), (1832, 0.0), (1834, 0.0), (1837, 0.0), (1838, 0.0), (1839, 0.0), (1840, 0.0), (1842, 0.0), (1845, 0.0), (1848, 0.0), (1849, 0.0), (1851, 0.0), (1854, 0.0), (1856, 0.0), (1857, 0.0), (1858, 0.0), (1860, 0.0), (1862, 0.0), (1863, 0.0), (1866, 0.0), (1867, 0.0), (1868, 0.0), (1871, 0.0), (1873, 0.0), (1874, 0.0), (1877, 0.0), (1880, 0.0), (1882, 0.0), (1884, 0.0), (1885, 0.0), (1887, 0.0), (1891, 0.0), (1892, 0.0), (1893, 0.0), (1897, 0.0), (1899, 0.0), (1900, 0.0), (1902, 0.0), (1905, 0.0), (1907, 0.0), (1909, 0.0), (1913, 0.0), (1914, 0.0), (1915, 0.0), (1916, 0.0), (1917, 0.0), (1918, 0.0), (1919, 0.0), (1921, 0.0), (1922, 0.0), (1923, 0.0), (1927, 0.0), (1928, 0.0), (1929, 0.0), (1935, 0.0), (1942, 0.0), (1944, 0.0), (1946, 0.0), (1947, 0.0), (1950, 0.0), (1951, 0.0), (1952, 0.0), (1953, 0.0), (1954, 0.0), (1956, 0.0), (1957, 0.0), (1959, 0.0), (1960, 0.0), (1962, 0.0), (1963, 0.0), (1964, 0.0), (1970, 0.0), (1972, 0.0), (1975, 0.0), (1980, 0.0), (1983, 0.0), (1988, 0.0), (1990, 0.0), (1992, 0.0), (1993, 0.0), (1994, 0.0), (1995, 0.0), (1998, 0.0), (2001, 0.0), (2002, 0.0), (2003, 0.0), (2004, 0.0), (2005, 0.0), (2009, 0.0), (2011, 0.0), (2023, 0.0), (2029, 0.0), (2030, 0.0), (2032, 0.0), (2039, 0.0), (2046, 0.0), (2047, 0.0), (2051, 0.0), (2054, 0.0), (2056, 0.0), (2059, 0.0), (2060, 0.0), (2063, 0.0), (2068, 0.0), (2069, 0.0), (2071, 0.0), (2076, 0.0), (2079, 0.0), (2080, 0.0), (2084, 0.0), (2087, 0.0), (2092, 0.0), (2096, 0.0), (2097, 0.0), (2098, 0.0), (2099, 0.0), (2101, 0.0), (2102, 0.0), (2106, 0.0), (2108, 0.0), (2109, 0.0), (2110, 0.0), (2115, 0.0), (2116, 0.0), (2119, 0.0), (2120, 0.0), (2121, 0.0), (2126, 0.0), (2128, 0.0), (2129, 0.0), (2131, 0.0), (2132, 0.0), (2134, 0.0), (2137, 0.0), (2138, 0.0), (2142, 0.0), (2144, 0.0), (2145, 0.0), (2146, 0.0), (2147, 0.0), (2148, 0.0), (2149, 0.0), (2151, 0.0), (2152, 0.0), (2154, 0.0), (2156, 0.0), (2157, 0.0), (2160, 0.0), (2162, 0.0), (2163, 0.0), (2165, 0.0), (2168, 0.0), (2169, 0.0), (2173, 0.0), (2175, 0.0), (2176, 0.0), (2179, 0.0), (2186, 0.0), (2187, 0.0), (2189, 0.0), (2190, 0.0), (2192, 0.0), (2193, 0.0), (2194, 0.0), (2195, 0.0), (2200, 0.0), (2203, 0.0), (2207, 0.0), (2209, 0.0), (2211, 0.0), (2213, 0.0), (2214, 0.0), (2215, 0.0), (2219, 0.0), (2223, 0.0), (2225, 0.0), (2226, 0.0), (2228, 0.0), (2229, 0.0), (2231, 0.0), (2236, 0.0), (2242, 0.0), (2244, 0.0), (2245, 0.0), (2246, 0.0), (2247, 0.0), (2252, 0.0), (2254, 0.0), (2255, 0.0), (2257, 0.0), (2261, 0.0), (2264, 0.0), (2266, 0.0), (2267, 0.0), (2270, 0.0), (2271, 0.0), (2272, 0.0), (2273, 0.0), (2279, 0.0), (2281, 0.0), (2282, 0.0), (2284, 0.0), (2289, 0.0), (2290, 0.0), (2292, 0.0), (2293, 0.0), (2295, 0.0), (2297, 0.0), (2300, 0.0), (2301, 0.0), (2302, 0.0), (2303, 0.0), (2305, 0.0), (2306, 0.0), (2307, 0.0), (2308, 0.0), (2309, 0.0), (2310, 0.0), (2313, 0.0), (2318, 0.0), (2319, 0.0), (2320, 0.0), (2321, 0.0), (2323, 0.0), (2325, 0.0), (2328, 0.0), (2331, 0.0), (2333, 0.0), (2335, 0.0), (2336, 0.0), (2338, 0.0), (2339, 0.0), (2340, 0.0), (2341, 0.0), (2342, 0.0), (2343, 0.0), (2344, 0.0), (2345, 0.0), (2346, 0.0), (2348, 0.0), (2350, 0.0), (2351, 0.0), (2358, 0.0), (2359, 0.0), (2360, 0.0), (2362, 0.0), (2366, 0.0), (2367, 0.0), (2369, 0.0), (2370, 0.0), (2371, 0.0), (2372, 0.0), (2373, 0.0), (2374, 0.0), (2375, 0.0), (2376, 0.0), (2377, 0.0), (2379, 0.0), (2384, 0.0), (2386, 0.0), (2388, 0.0), (2390, 0.0), (2392, 0.0), (2393, 0.0), (2394, 0.0), (2395, 0.0), (2396, 0.0), (2397, 0.0), (2398, 0.0), (2400, 0.0), (2401, 0.0), (2404, 0.0), (2405, 0.0), (2406, 0.0), (2407, 0.0), (2408, 0.0), (2410, 0.0), (2417, 0.0), (2419, 0.0), (2423, 0.0), (2425, 0.0), (2431, 0.0), (2434, 0.0), (2436, 0.0), (2437, 0.0), (2438, 0.0), (2440, 0.0), (2441, 0.0), (2445, 0.0), (2446, 0.0), (2447, 0.0), (2449, 0.0), (2452, 0.0), (2454, 0.0), (2455, 0.0), (2457, 0.0), (2458, 0.0), (2460, 0.0), (2463, 0.0), (2464, 0.0), (2467, 0.0), (2469, 0.0), (2475, 0.0), (2477, 0.0), (2478, 0.0), (2480, 0.0), (2481, 0.0), (2482, 0.0), (2483, 0.0), (2485, 0.0), (2486, 0.0), (2488, 0.0), (2489, 0.0), (2494, 0.0), (2503, 0.0), (2505, 0.0), (2508, 0.0), (2509, 0.0), (2510, 0.0), (2515, 0.0), (2516, 0.0), (2518, 0.0), (2519, 0.0), (2523, 0.0), (2524, 0.0), (2528, 0.0), (2529, 0.0), (2531, 0.0), (2533, 0.0), (2535, 0.0), (2536, 0.0), (2542, 0.0), (2543, 0.0), (2545, 0.0), (2546, 0.0), (2548, 0.0), (2550, 0.0), (2556, 0.0), (2557, 0.0), (2558, 0.0), (2561, 0.0), (2564, 0.0), (2565, 0.0), (2566, 0.0), (2568, 0.0), (2572, 0.0), (2577, 0.0), (2579, 0.0), (2583, 0.0), (2585, 0.0), (2586, 0.0), (2588, 0.0), (2591, 0.0), (2592, 0.0), (2595, 0.0), (2596, 0.0), (2598, 0.0), (2602, 0.0), (2604, 0.0), (2606, 0.0), (2607, 0.0), (2608, 0.0), (2610, 0.0), (2611, 0.0), (2613, 0.0), (2619, 0.0), (2620, 0.0), (2621, 0.0), (2623, 0.0), (2624, 0.0), (2627, 0.0), (2628, 0.0), (2629, 0.0), (2630, 0.0), (2631, 0.0), (2633, 0.0), (2635, 0.0), (2638, 0.0), (2639, 0.0), (2643, 0.0), (2648, 0.0), (2649, 0.0), (2650, 0.0), (2651, 0.0), (2652, 0.0), (2653, 0.0), (2654, 0.0), (2655, 0.0), (2656, 0.0), (2658, 0.0), (2661, 0.0), (2662, 0.0), (2664, 0.0), (2673, 0.0), (2675, 0.0), (2677, 0.0), (2678, 0.0), (2679, 0.0), (2683, 0.0), (2684, 0.0), (2685, 0.0), (2690, 0.0), (2692, 0.0), (2693, 0.0), (2694, 0.0), (2696, 0.0), (2699, 0.0), (2700, 0.0), (2701, 0.0), (2702, 0.0), (2703, 0.0), (2704, 0.0), (2705, 0.0), (2709, 0.0), (2716, 0.0), (2717, 0.0), (2719, 0.0), (2721, 0.0), (2722, 0.0), (2723, 0.0), (2726, 0.0), (2727, 0.0), (2731, 0.0), (2732, 0.0), (2734, 0.0), (2735, 0.0), (2737, 0.0), (2738, 0.0), (2739, 0.0), (2743, 0.0), (2744, 0.0), (2745, 0.0), (2746, 0.0), (2747, 0.0), (2748, 0.0), (2752, 0.0), (2753, 0.0), (2757, 0.0), (2758, 0.0), (2760, 0.0), (2762, 0.0), (2764, 0.0), (2765, 0.0), (2771, 0.0), (2773, 0.0), (2775, 0.0), (2779, 0.0), (2783, 0.0), (2784, 0.0), (2786, 0.0), (2792, 0.0), (2793, 0.0), (2796, 0.0), (2797, 0.0), (2800, 0.0), (2802, 0.0), (2805, 0.0), (2808, 0.0), (2812, 0.0), (2814, 0.0), (2818, 0.0), (2823, 0.0), (2831, 0.0), (2834, 0.0), (2835, 0.0), (2838, 0.0), (2839, 0.0), (2841, 0.0), (2846, 0.0), (2848, 0.0), (2851, 0.0), (2853, 0.0), (2855, 0.0), (2858, 0.0), (2861, 0.0), (2863, 0.0), (2865, 0.0), (2869, 0.0), (2870, 0.0), (2871, 0.0), (2872, 0.0), (2873, 0.0), (2875, 0.0), (2877, 0.0), (2878, 0.0), (2879, 0.0), (2882, 0.0), (2883, 0.0), (2884, 0.0), (2886, 0.0), (2889, 0.0), (2892, 0.0), (2893, 0.0), (2894, 0.0), (2896, 0.0), (2897, 0.0), (2901, 0.0), (2902, 0.0), (2905, 0.0), (2906, 0.0), (2907, 0.0), (2909, 0.0), (2911, 0.0), (2914, 0.0), (2915, 0.0), (2916, 0.0), (2919, 0.0), (2923, 0.0), (2924, 0.0), (2925, 0.0), (2926, 0.0), (2928, 0.0), (2929, 0.0), (2930, 0.0), (2931, 0.0), (2932, 0.0), (2933, 0.0), (2934, 0.0), (2936, 0.0), (2938, 0.0), (2939, 0.0), (2941, 0.0), (2946, 0.0), (2949, 0.0), (2951, 0.0), (2953, 0.0), (2964, 0.0), (2965, 0.0), (2966, 0.0), (2967, 0.0), (2968, 0.0), (2972, 0.0), (2973, 0.0), (2974, 0.0), (2975, 0.0), (2976, 0.0), (2977, 0.0), (2978, 0.0), (2980, 0.0), (2983, 0.0), (2984, 0.0), (2985, 0.0), (2986, 0.0), (2987, 0.0), (2988, 0.0), (2991, 0.0), (2993, 0.0), (2994, 0.0), (2997, 0.0), (2999, 0.0), (3004, 0.0), (3006, 0.0), (3007, 0.0), (3008, 0.0), (3009, 0.0), (3012, 0.0), (3013, 0.0), (3015, 0.0), (3016, 0.0), (3017, 0.0), (3018, 0.0), (3019, 0.0), (3023, 0.0), (3025, 0.0), (3026, 0.0), (3027, 0.0), (3028, 0.0), (3029, 0.0), (3030, 0.0), (3031, 0.0), (3032, 0.0), (3033, 0.0), (3035, 0.0), (3036, 0.0), (3037, 0.0), (3038, 0.0), (3039, 0.0), (3041, 0.0), (3042, 0.0), (3043, 0.0), (3049, 0.0), (3050, 0.0), (3052, 0.0), (3053, 0.0), (3054, 0.0), (3055, 0.0), (3056, 0.0), (3057, 0.0), (3061, 0.0), (3066, 0.0), (3069, 0.0), (3071, 0.0), (3072, 0.0), (3075, 0.0), (3076, 0.0), (3077, 0.0), (3078, 0.0), (3081, 0.0), (3084, 0.0), (3086, 0.0), (3088, 0.0), (3090, 0.0), (3092, 0.0), (3093, 0.0), (3095, 0.0), (3101, 0.0), (3102, 0.0), (3103, 0.0), (3106, 0.0), (3107, 0.0), (3108, 0.0), (3109, 0.0), (3110, 0.0), (3116, 0.0), (3118, 0.0), (3119, 0.0), (3125, 0.0), (3128, 0.0), (3137, 0.0), (3138, 0.0), (3139, 0.0), (3140, 0.0), (3142, 0.0), (3144, 0.0), (3146, 0.0), (3147, 0.0), (3148, 0.0), (3151, 0.0), (3153, 0.0), (3154, 0.0), (3155, 0.0), (3157, 0.0), (3159, 0.0), (3164, 0.0), (3167, 0.0), (3170, 0.0), (3171, 0.0), (3173, 0.0), (3176, 0.0), (3177, 0.0), (3178, 0.0), (3179, 0.0), (3184, 0.0), (3186, 0.0), (3187, 0.0), (3188, 0.0), (3189, 0.0), (3190, 0.0), (3196, 0.0), (3197, 0.0), (3198, 0.0), (3199, 0.0), (3200, 0.0), (3203, 0.0), (3207, 0.0), (3209, 0.0), (3211, 0.0), (3214, 0.0), (3216, 0.0), (3217, 0.0), (3218, 0.0), (3220, 0.0), (3222, 0.0), (3226, 0.0), (3228, 0.0), (3230, 0.0), (3234, 0.0), (3236, 0.0), (3237, 0.0), (3239, 0.0), (3240, 0.0), (3242, 0.0), (3243, 0.0), (3245, 0.0), (3246, 0.0), (3248, 0.0), (3249, 0.0), (3250, 0.0), (3251, 0.0), (3254, 0.0), (3255, 0.0), (3257, 0.0), (3258, 0.0), (3260, 0.0), (3261, 0.0), (3262, 0.0), (3264, 0.0), (3265, 0.0), (3266, 0.0), (3268, 0.0), (3269, 0.0), (3271, 0.0), (3273, 0.0), (3274, 0.0), (3277, 0.0), (3278, 0.0), (3280, 0.0), (3281, 0.0), (3282, 0.0), (3283, 0.0), (3288, 0.0), (3289, 0.0), (3290, 0.0), (3291, 0.0), (3292, 0.0), (3293, 0.0), (3296, 0.0), (3301, 0.0), (3304, 0.0), (3307, 0.0), (3308, 0.0), (3309, 0.0), (3314, 0.0), (3315, 0.0), (3317, 0.0), (3318, 0.0), (3322, 0.0), (3324, 0.0), (3325, 0.0), (3326, 0.0), (3330, 0.0), (3333, 0.0), (3334, 0.0), (3335, 0.0), (3341, 0.0), (3345, 0.0), (3347, 0.0), (3348, 0.0), (3349, 0.0), (3350, 0.0), (3351, 0.0), (3352, 0.0), (3354, 0.0), (3355, 0.0), (3362, 0.0), (3364, 0.0), (3369, 0.0), (3372, 0.0), (3376, 0.0), (3378, 0.0), (3379, 0.0), (3386, 0.0), (3388, 0.0), (3390, 0.0), (3391, 0.0), (3392, 0.0), (3396, 0.0), (3398, 0.0), (3401, 0.0), (3402, 0.0), (3403, 0.0), (3406, 0.0), (3407, 0.0), (3409, 0.0), (3410, 0.0), (3413, 0.0), (3415, 0.0), (3417, 0.0), (3418, 0.0), (3422, 0.0), (3425, 0.0), (3430, 0.0), (3431, 0.0), (3433, 0.0), (3434, 0.0), (3435, 0.0), (3436, 0.0), (3437, 0.0), (3442, 0.0), (3446, 0.0), (3449, 0.0), (3455, 0.0), (3457, 0.0), (3458, 0.0), (3460, 0.0), (3462, 0.0), (3470, 0.0), (3471, 0.0), (3473, 0.0), (3474, 0.0), (3475, 0.0), (3476, 0.0), (3478, 0.0), (3479, 0.0), (3481, 0.0), (3485, 0.0), (3488, 0.0), (3489, 0.0), (3490, 0.0), (3491, 0.0), (3493, 0.0), (3494, 0.0), (3495, 0.0), (3496, 0.0), (3497, 0.0), (3499, 0.0), (3500, 0.0), (3501, 0.0), (3505, 0.0), (3506, 0.0), (3511, 0.0), (3512, 0.0), (3518, 0.0), (3519, 0.0), (3521, 0.0), (3527, 0.0), (3534, 0.0), (3535, 0.0), (3536, 0.0), (3541, 0.0), (3543, 0.0), (3544, 0.0), (3545, 0.0), (3547, 0.0), (3548, 0.0), (3549, 0.0), (3551, 0.0), (3552, 0.0), (3553, 0.0), (3557, 0.0), (3561, 0.0), (3562, 0.0), (3563, 0.0), (3564, 0.0), (3565, 0.0), (3569, 0.0), (3570, 0.0), (3571, 0.0), (3572, 0.0), (3573, 0.0), (3575, 0.0), (3577, 0.0), (3580, 0.0), (3584, 0.0), (3590, 0.0), (3592, 0.0), (3596, 0.0), (3599, 0.0), (3601, 0.0), (3606, 0.0), (3608, 0.0), (3610, 0.0), (3611, 0.0), (3612, 0.0), (3613, 0.0), (3614, 0.0), (3615, 0.0), (3617, 0.0), (3618, 0.0), (3620, 0.0), (3621, 0.0), (3622, 0.0), (3624, 0.0), (3626, 0.0), (3627, 0.0), (3631, 0.0), (3632, 0.0), (3633, 0.0), (3636, 0.0), (3639, 0.0), (3640, 0.0), (3643, 0.0), (3644, 0.0), (3646, 0.0), (3647, 0.0), (3649, 0.0), (3650, 0.0), (3652, 0.0), (3653, 0.0), (3654, 0.0), (3655, 0.0), (3661, 0.0), (3663, 0.0), (3664, 0.0), (3666, 0.0), (3667, 0.0), (3669, 0.0), (3670, 0.0), (3675, 0.0), (3677, 0.0), (3679, 0.0), (3681, 0.0), (3682, 0.0), (3686, 0.0), (3687, 0.0), (3689, 0.0), (3691, 0.0), (3694, 0.0), (3696, 0.0), (3699, 0.0), (3701, 0.0), (3704, 0.0), (3711, 0.0), (3712, 0.0), (3717, 0.0), (3719, 0.0), (3721, 0.0), (3722, 0.0), (3725, 0.0), (3727, 0.0), (3729, 0.0), (3730, 0.0), (3733, 0.0), (3736, 0.0), (3737, 0.0), (3739, 0.0), (3740, 0.0), (3745, 0.0), (3748, 0.0), (3750, 0.0), (3751, 0.0), (3753, 0.0), (3755, 0.0), (3756, 0.0), (3757, 0.0), (3758, 0.0), (3759, 0.0), (3760, 0.0), (3761, 0.0), (3762, 0.0), (3764, 0.0), (3765, 0.0), (3766, 0.0), (3767, 0.0), (3768, 0.0), (3770, 0.0), (3772, 0.0), (3774, 0.0), (3777, 0.0), (3779, 0.0), (3780, 0.0), (3781, 0.0), (3784, 0.0), (3789, 0.0), (3791, 0.0), (3792, 0.0), (3793, 0.0), (3796, 0.0), (3799, 0.0), (3800, 0.0), (3801, 0.0), (3804, 0.0), (3806, 0.0), (3808, 0.0), (3809, 0.0), (3810, 0.0), (3811, 0.0), (3812, 0.0), (3813, 0.0), (3815, 0.0), (3816, 0.0), (3818, 0.0), (3820, 0.0), (3821, 0.0), (3824, 0.0), (3825, 0.0), (3827, 0.0), (3828, 0.0), (3830, 0.0), (3831, 0.0), (3832, 0.0), (3833, 0.0), (3835, 0.0), (3836, 0.0), (3837, 0.0), (3838, 0.0), (3839, 0.0), (3841, 0.0), (3842, 0.0), (3844, 0.0), (3848, 0.0), (3853, 0.0), (3855, 0.0), (3857, 0.0), (3858, 0.0), (3859, 0.0), (3861, 0.0), (3863, 0.0), (3864, 0.0), (3866, 0.0), (3868, 0.0), (3872, 0.0), (3874, 0.0), (3875, 0.0), (3876, 0.0), (3878, 0.0), (3880, 0.0), (3881, 0.0), (3883, 0.0), (3884, 0.0), (3887, 0.0), (3892, 0.0), (3893, 0.0), (3895, 0.0), (3896, 0.0), (3898, 0.0), (3899, 0.0), (3901, 0.0), (3902, 0.0), (3904, 0.0), (3905, 0.0), (3906, 0.0), (3909, 0.0), (3910, 0.0), (3911, 0.0), (3912, 0.0), (3913, 0.0), (3914, 0.0), (3915, 0.0), (3916, 0.0), (3918, 0.0), (3920, 0.0), (3921, 0.0), (3922, 0.0), (3925, 0.0), (3926, 0.0), (3927, 0.0), (3928, 0.0), (3929, 0.0), (3930, 0.0), (3932, 0.0), (3933, 0.0), (3934, 0.0), (3935, 0.0), (3936, 0.0), (3938, 0.0), (3939, 0.0), (3941, 0.0), (3942, 0.0), (3944, 0.0), (3945, 0.0), (3948, 0.0), (3950, 0.0), (3952, 0.0), (3956, 0.0), (3959, 0.0), (3962, 0.0), (3964, 0.0), (3967, 0.0), (3969, 0.0), (3971, 0.0), (3974, 0.0), (3975, 0.0), (3976, 0.0), (3981, 0.0), (3984, 0.0), (3985, 0.0), (3986, 0.0), (3987, 0.0), (3988, 0.0), (3989, 0.0), (3990, 0.0), (3992, 0.0), (3995, 0.0), (3999, 0.0), (4000, 0.0), (4002, 0.0), (4003, 0.0), (4004, 0.0), (4008, 0.0), (4010, 0.0), (4011, 0.0), (4013, 0.0), (4017, 0.0), (4019, 0.0), (4021, 0.0), (4022, 0.0), (4023, 0.0), (4024, 0.0), (4025, 0.0), (4026, 0.0), (4027, 0.0), (4028, 0.0), (4029, 0.0), (4030, 0.0), (4035, 0.0), (4040, 0.0), (4042, 0.0), (4047, 0.0), (4048, 0.0), (4049, 0.0), (4050, 0.0), (4051, 0.0), (4052, 0.0), (4053, 0.0), (4057, 0.0), (4058, 0.0), (4060, 0.0), (4061, 0.0), (4062, 0.0), (4064, 0.0), (4065, 0.0), (4066, 0.0), (4067, 0.0), (4069, 0.0), (4071, 0.0), (4072, 0.0), (4073, 0.0), (4075, 0.0), (4078, 0.0), (4080, 0.0), (4081, 0.0), (4082, 0.0), (4084, 0.0), (4085, 0.0), (4090, 0.0), (4092, 0.0), (4096, 0.0), (4097, 0.0), (4101, 0.0), (4104, 0.0), (4105, 0.0), (4106, 0.0), (4107, 0.0), (4108, 0.0), (4110, 0.0), (4111, 0.0), (4113, 0.0), (4115, 0.0), (4120, 0.0), (4123, 0.0), (4124, 0.0), (4125, 0.0), (4126, 0.0), (4127, 0.0), (4129, 0.0), (4132, 0.0), (4133, 0.0), (4135, 0.0), (4136, 0.0), (4137, 0.0), (4138, 0.0), (4140, 0.0), (4141, 0.0), (4145, 0.0), (4146, 0.0), (4149, 0.0), (4150, 0.0), (4151, 0.0), (4156, 0.0), (4157, 0.0), (4159, 0.0), (4161, 0.0), (4162, 0.0), (4163, 0.0), (4164, 0.0), (4167, 0.0), (4170, 0.0), (4172, 0.0), (4173, 0.0), (4175, 0.0), (4176, 0.0), (4177, 0.0), (4178, 0.0), (4179, 0.0), (4180, 0.0), (4182, 0.0), (4183, 0.0), (4184, 0.0), (4187, 0.0), (4189, 0.0), (4190, 0.0), (4191, 0.0), (4192, 0.0), (4197, 0.0), (4198, 0.0), (4201, 0.0), (4203, 0.0), (4204, 0.0), (4205, 0.0), (4206, 0.0), (4208, 0.0), (4209, 0.0), (4213, 0.0), (4214, 0.0), (4215, 0.0), (4216, 0.0), (4217, 0.0), (4219, 0.0), (4220, 0.0), (4222, 0.0), (4223, 0.0), (4225, 0.0), (4226, 0.0), (4227, 0.0), (4228, 0.0), (4229, 0.0), (4230, 0.0), (4231, 0.0), (4232, 0.0), (4234, 0.0), (4235, 0.0), (4237, 0.0), (4239, 0.0), (4243, 0.0), (4245, 0.0), (4246, 0.0), (4247, 0.0), (4251, 0.0), (4252, 0.0), (4253, 0.0), (4254, 0.0), (4256, 0.0), (4258, 0.0), (4259, 0.0), (4260, 0.0), (4262, 0.0), (4265, 0.0), (4267, 0.0), (4271, 0.0), (4273, 0.0), (4278, 0.0), (4279, 0.0), (4280, 0.0), (4281, 0.0), (4282, 0.0), (4284, 0.0), (4286, 0.0), (4287, 0.0), (4290, 0.0), (4291, 0.0), (4295, 0.0), (4296, 0.0), (4297, 0.0), (4298, 0.0), (4301, 0.0), (4304, 0.0), (4306, 0.0), (4308, 0.0), (4309, 0.0), (4311, 0.0), (4313, 0.0), (4314, 0.0), (4315, 0.0), (4316, 0.0), (4317, 0.0), (4318, 0.0), (4319, 0.0), (4320, 0.0), (4321, 0.0), (4322, 0.0), (4324, 0.0), (4326, 0.0), (4327, 0.0), (4329, 0.0), (4330, 0.0), (4331, 0.0), (4332, 0.0), (4333, 0.0), (4335, 0.0), (4336, 0.0), (4337, 0.0), (4340, 0.0), (4342, 0.0), (4348, 0.0), (4349, 0.0), (4352, 0.0), (4355, 0.0), (4356, 0.0), (4357, 0.0), (4358, 0.0), (4359, 0.0), (4360, 0.0), (4361, 0.0), (4362, 0.0), (4363, 0.0), (4366, 0.0), (4367, 0.0), (4368, 0.0), (4369, 0.0), (4370, 0.0), (4372, 0.0), (4375, 0.0), (4377, 0.0), (4381, 0.0), (4382, 0.0), (4386, 0.0), (4387, 0.0), (4394, 0.0), (4396, 0.0), (4397, 0.0), (4398, 0.0), (4399, 0.0), (4400, 0.0), (4402, 0.0), (4403, 0.0), (4407, 0.0), (4408, 0.0), (4409, 0.0), (4411, 0.0), (4412, 0.0), (4413, 0.0), (4414, 0.0), (4415, 0.0), (4416, 0.0), (4417, 0.0), (4421, 0.0), (4422, 0.0), (4423, 0.0), (4424, 0.0), (4425, 0.0), (4427, 0.0), (4431, 0.0), (4433, 0.0), (4437, 0.0), (4438, 0.0), (4442, 0.0), (4448, 0.0), (4449, 0.0), (4452, 0.0), (4458, 0.0), (4459, 0.0), (4460, 0.0), (4461, 0.0), (4463, 0.0), (4464, 0.0), (4465, 0.0), (4469, 0.0), (4470, 0.0), (4471, 0.0), (4473, 0.0), (4474, 0.0), (4475, 0.0), (4476, 0.0), (4479, 0.0), (4480, 0.0), (4483, 0.0), (4484, 0.0), (4485, 0.0), (4488, 0.0), (4495, 0.0), (4496, 0.0), (4497, 0.0), (4498, 0.0), (4499, 0.0), (4500, 0.0), (4502, 0.0), (4504, 0.0), (4505, 0.0), (4507, 0.0), (4508, 0.0), (4510, 0.0), (4511, 0.0), (4512, 0.0), (4513, 0.0), (4514, 0.0), (4517, 0.0), (4518, 0.0), (4520, 0.0), (4521, 0.0), (4522, 0.0), (4524, 0.0), (4525, 0.0), (4527, 0.0), (4528, 0.0), (4532, 0.0), (4536, 0.0), (4537, 0.0), (4538, 0.0), (4539, 0.0), (4540, 0.0), (4541, 0.0), (4542, 0.0), (4544, 0.0), (4554, 0.0), (4555, 0.0), (4556, 0.0), (4558, 0.0), (4559, 0.0), (4560, 0.0), (4561, 0.0), (4562, 0.0), (4563, 0.0), (4565, 0.0), (4571, 0.0), (4572, 0.0), (4574, 0.0), (4575, 0.0), (4577, 0.0), (4578, 0.0), (4579, 0.0), (4580, 0.0), (4582, 0.0), (4583, 0.0), (4584, 0.0), (4585, 0.0), (4592, 0.0), (4594, 0.0), (4595, 0.0), (4596, 0.0), (4598, 0.0), (4599, 0.0), (4602, 0.0), (4603, 0.0), (4604, 0.0), (4610, 0.0), (4611, 0.0), (4612, 0.0), (4615, 0.0), (4616, 0.0), (4617, 0.0), (4618, 0.0), (4620, 0.0), (4621, 0.0), (4625, 0.0), (4627, 0.0), (4628, 0.0), (4632, 0.0), (4633, 0.0), (4634, 0.0), (4635, 0.0), (4636, 0.0), (4637, 0.0), (4639, 0.0), (4640, 0.0), (4644, 0.0), (4645, 0.0), (4651, 0.0), (4652, 0.0), (4654, 0.0), (4655, 0.0), (4657, 0.0), (4662, 0.0), (4664, 0.0), (4665, 0.0), (4668, 0.0), (4669, 0.0), (4671, 0.0), (4675, 0.0), (4678, 0.0), (4679, 0.0), (4680, 0.0), (4681, 0.0), (4685, 0.0), (4686, 0.0), (4687, 0.0), (4689, 0.0), (4691, 0.0), (4692, 0.0), (4693, 0.0), (4694, 0.0), (4695, 0.0), (4696, 0.0), (4699, 0.0), (4700, 0.0), (4701, 0.0), (4702, 0.0), (4704, 0.0), (4706, 0.0), (4707, 0.0), (4711, 0.0), (4712, 0.0), (4713, 0.0), (4715, 0.0), (4717, 0.0), (4718, 0.0), (4719, 0.0), (4721, 0.0), (4722, 0.0), (4724, 0.0), (4728, 0.0), (4729, 0.0), (4731, 0.0), (4732, 0.0), (4734, 0.0), (4735, 0.0), (4738, 0.0), (4746, 0.0), (4748, 0.0), (4749, 0.0), (4750, 0.0), (4751, 0.0), (4753, 0.0), (4755, 0.0), (4757, 0.0), (4758, 0.0), (4759, 0.0)]\n"
          ]
        }
      ]
    },
    {
      "cell_type": "code",
      "source": [
        "#print name of similar movies based on the index\n",
        "print('top 30 similar movies to',FAVOURITE_MOVIE_NAME)\n",
        "\n",
        "i=1\n",
        "for movie in sorted_similar_movies:\n",
        "  index=movie[0]\n",
        "  title_from_index=df[df.index==index]['Movie_Title'].values[0]\n",
        "  if i<31:\n",
        "    print(i,'.',title_from_index)\n",
        "    i+=1"
      ],
      "metadata": {
        "colab": {
          "base_uri": "https://localhost:8080/"
        },
        "id": "lyiiCFSqAZ4L",
        "outputId": "43f7378a-d4ae-4163-9257-3666647fabfa"
      },
      "execution_count": 62,
      "outputs": [
        {
          "output_type": "stream",
          "name": "stdout",
          "text": [
            "top 30 similar movies to four rooms\n",
            "1 . Star Wars\n",
            "2 . The Empire Strikes Back\n",
            "3 . Return of the Jedi\n",
            "4 . On Her Majesty's Secret Service\n",
            "5 . Titan A.E.\n",
            "6 . Star Wars: Episode I - The Phantom Menace\n",
            "7 . The Helix... Loaded\n",
            "8 . Star Wars: Episode III - Revenge of the Sith\n",
            "9 . Timecop\n",
            "10 . Lawrence of Arabia\n",
            "11 . Random Hearts\n",
            "12 . Blade Runner\n",
            "13 . Ultramarines: A Warhammer 40,000 Movie\n",
            "14 . Star Wars: Episode II - Attack of the Clones\n",
            "15 . Lilo & Stitch\n",
            "16 . The Time Machine\n",
            "17 . Fetching Cody\n",
            "18 . When Harry Met Sally...\n",
            "19 . Laws of Attraction\n",
            "20 . Back to the Future Part III\n",
            "21 . Raise the Titanic\n",
            "22 . Bill & Ted's Bogus Journey\n",
            "23 . Hollywood Homicide\n",
            "24 . The Departed\n",
            "25 . Ender's Game\n",
            "26 . Raiders of the Lost Ark\n",
            "27 . Premonition\n",
            "28 . An Inconvenient Truth\n",
            "29 . The Fugitive\n",
            "30 . Aliens\n"
          ]
        }
      ]
    },
    {
      "cell_type": "markdown",
      "source": [
        "## **top ten movie recommendation system**"
      ],
      "metadata": {
        "id": "ZgYaQra9BCsr"
      }
    },
    {
      "cell_type": "code",
      "source": [
        "movie_name=input('enter your favourite movie name:')\n",
        "list_of_all_titles=df['Movie_Title'].tolist()\n",
        "find_close_match=difflib.get_close_matches(movie_name,list_of_all_titles)\n",
        "close_match=find_close_match[0]\n",
        "index_of_movie=df[df.Movie_Title==close_match]['Movie_ID'].values[0]\n",
        "reccomendation_score=list(enumerate(similarity_score[index_of_movie]))\n",
        "sorted_similar_movies=sorted(reccomendation_score,key=lambda x:x[1],reverse=True)\n",
        "\n",
        "\n",
        "\n",
        "print('top 10 similar movies to',movie_name)\n",
        "\n",
        "\n",
        "i=1\n",
        "for movie in sorted_similar_movies:\n",
        "  index=movie[0]\n",
        "  title_from_index=df[df.Movie_ID==index]['Movie_Title'].values\n",
        "  if i<11:\n",
        "    print(i,'.',title_from_index)\n",
        "    i+=1"
      ],
      "metadata": {
        "colab": {
          "base_uri": "https://localhost:8080/"
        },
        "id": "08alxyCfBMwv",
        "outputId": "e326b3b6-78b9-4c03-eef8-ad9f83f99302"
      },
      "execution_count": 69,
      "outputs": [
        {
          "output_type": "stream",
          "name": "stdout",
          "text": [
            "enter your favourite movie name:four rooms\n",
            "top 10 similar movies to four rooms\n",
            "1 . ['Four Rooms']\n",
            "2 . ['Marie Antoinette']\n",
            "3 . ['The Empire Strikes Back']\n",
            "4 . ['You Only Live Twice']\n",
            "5 . ['Tropic Thunder']\n",
            "6 . ['Return of the Jedi']\n",
            "7 . ['She Done Him Wrong']\n",
            "8 . ['Star Wars: Episode II - Attack of the Clones']\n",
            "9 . ['Evita']\n",
            "10 . ['Lethal Weapon 4']\n"
          ]
        }
      ]
    },
    {
      "cell_type": "code",
      "source": [],
      "metadata": {
        "id": "CgJHxtxmAmFI"
      },
      "execution_count": 67,
      "outputs": []
    },
    {
      "cell_type": "code",
      "source": [],
      "metadata": {
        "id": "z_6bOCX6BCIm"
      },
      "execution_count": null,
      "outputs": []
    }
  ]
}